{
  "cells": [
    {
      "cell_type": "code",
      "execution_count": 72,
      "metadata": {
        "colab": {
          "base_uri": "https://localhost:8080/"
        },
        "id": "2j7-8P8992uk",
        "outputId": "64fef63e-10cc-4c13-90de-a953628501f3"
      },
      "outputs": [
        {
          "output_type": "stream",
          "name": "stdout",
          "text": [
            "Cloning into 'MJ2383'...\n",
            "remote: Enumerating objects: 1062, done.\u001b[K\n",
            "remote: Counting objects: 100% (111/111), done.\u001b[K\n",
            "remote: Compressing objects: 100% (81/81), done.\u001b[K\n",
            "remote: Total 1062 (delta 54), reused 76 (delta 30), pack-reused 951 (from 1)\u001b[K\n",
            "Receiving objects: 100% (1062/1062), 8.29 MiB | 21.11 MiB/s, done.\n",
            "Resolving deltas: 100% (623/623), done.\n",
            "mv: cannot move 'MJ2383/img' to './img': Directory not empty\n",
            "mv: cannot move 'MJ2383/model' to './model': Directory not empty\n",
            "mv: cannot move 'MJ2383/results' to './results': Directory not empty\n"
          ]
        }
      ],
      "source": [
        "# This line is specific when running from Colab and is used to\n",
        "# download all of the contents of Lab 1\n",
        "!git clone https://github.com/KTH-dESA/MJ2383.git\n",
        "!mv MJ2383/* .\n",
        "!rm -r MJ2383"
      ]
    },
    {
      "cell_type": "code",
      "execution_count": 73,
      "metadata": {
        "id": "f4b3tT1m92un"
      },
      "outputs": [],
      "source": [
        "# Make sure to run this cell.\n",
        "# here we import all the libraries we will use in this session\n",
        "import numpy as np\n",
        "import itertools\n",
        "from plotly import express as px\n",
        "import pandas as pd\n",
        "import ipywidgets as widgets\n",
        "from ipywidgets import interact, fixed\n",
        "from checkers import checker_df, checker_lcoe, checker_parameters"
      ]
    },
    {
      "cell_type": "markdown",
      "metadata": {
        "id": "mTqEcoCF92un"
      },
      "source": [
        "# MJ2383: Lab 1 - Computing Levelised Cost of Electricity\n",
        "\n",
        "In this lab, we are going to explore computation of an important metric called **levelised cost of electricity**, or LCOE for short.\n",
        "\n",
        "The lab is broken up into several stages each of which culminates in writing a piece of Python code or doing some analysis. Don't worry if you've never written any Python before or done any programming - it is actually as easy as (or easier than) writing down equations.\n",
        "\n",
        "in [stage 0](#Stage-0---Basic-Python-commands) we'll go through Python basics. If you've never used Python or programming before, you'll want to start here.\n",
        "\n",
        "In [stage 1](#Stage-1---Compute-LCOE), we'll write a Python function that computes the levelised cost of electricity from input data. We'll then test that this function produces the result we expect. You'll be able to check that your function works at the end of the stage.\n",
        "\n",
        "In [stage 2](#Stage-2---Explore-Parameter-Values), we'll then use the function you wrote to compute LCOE for one technology and explore what happens when you change the parameter values.\n",
        "\n",
        "in [stage 3](#Stage-3:-Comparing-technologies), we'll use the LCOE function again to compare technologies against one another, and develop screen curves that allow us to visualise the trade-offs between technologies as a function of load factor.\n",
        "\n",
        "## Housekeeping\n",
        "\n",
        "- This is a Jupyter notebook. A notebook contains cells. Each cell contains either descriptive text (like this) or Python code.  You execute a cell by pressing `Shift + Enter` or using the `Run` button <i class=\"fa-play fa\" style=\"font-size: 12px;color:#666;\"></i>\n",
        "\n",
        "- To add a new cell you can use the `Plus` <i class=\"fa-plus fa\" style=\"font-size: 12px;color:#666;\"></i> button in the menu bar at the top of the page.\n",
        "  \n",
        "- Don't worry, you cannot break anything. If you think you've made a mistake, you can delete the content and try again. If you get really stuck, just open the original notebook again and make a fresh start\n",
        "  \n",
        "- Also, each stage allows you to begin afresh, so you can just move on when you are ready\n",
        "  \n",
        "- If you like, work together in pairs sharing a screen\n",
        "  \n",
        "- The notebook has been designed to help support your learning by enabling you to explore but also to challenge you. However, we are not trying to trick you. In most cases, the answers are in front of you\n",
        "  \n",
        "- If you have questions, please ask us!\n",
        "  \n",
        "- If you have any suggestions for how this could be improved, or find a bug or problem, please submit an issue\n",
        "  [here](https://github.com/KTH-dESA/MJ2383/issues/new/choose)"
      ]
    },
    {
      "cell_type": "markdown",
      "metadata": {
        "id": "v2xY3QAD92uq"
      },
      "source": [
        "<a name=\"Stage-0---Basic-Python-commands\"></a>\n",
        "## Stage 0 - Basic Python commands\n",
        "In this section, we will go through an overview of the most basics in python. If you already have knowledge of python you can skip this stage and move to [stage 1](#Stage-1---Compute-LCOE).\n",
        "\n",
        "In Python we use the hash symbol `#` to make a comment in the code. A comment is for clarification porpuses to the person reading the code, but it is ignored by the computer when you run the program, thus having no effect on your code output:"
      ]
    },
    {
      "cell_type": "code",
      "execution_count": 35,
      "metadata": {
        "id": "g0fk9h8B92uq"
      },
      "outputs": [],
      "source": [
        "# this is a comment used to provide additional information"
      ]
    },
    {
      "cell_type": "markdown",
      "metadata": {
        "id": "hrZONWg892ur"
      },
      "source": [
        "In Python there exist many types of data, in here we are going to cover the most basic ones: integers, floats, strings, lists, dictionaries and arrays.\n",
        "\n",
        "```python\n",
        "integer (int): 5\n",
        "float: 2.6\n",
        "string (str): 'this is a string'\n",
        "list: [1, 2, 3, 4]\n",
        "dictionary (dict): {'key_1': value_1, 'Key_2': val\n",
        "numpy.ndarrayue_2da: np.array([3, 4, 6, 4])\n",
        "```\n",
        "* An integer is a whole number (not a fractional number) that can be positive, negative, or zero.\n",
        "* A float is any positive or negative decimal number (any number with a decimal point in it e.g. 2.4, 12.909 or -0.3).\n",
        "* A string represents text. It is a sequence of characters and can contain letters, numbers, symbols and even spaces. It must be enclosed in quotation marks for it to be recognized as a string.\n",
        "* Lists are one of the most used data structures in Python. They allow us to store elements of different data types in one ordered container.\n",
        "The contents of a list are enclosed by square brackets.\n",
        "* Dictionaries are used to store data values in `key: value` pairs. They are a collection of values and identifiers. Dictionaries are written with curly brackets, specifying their keys and value pairs.\n",
        "* NumPy arrays are represented as a grid of elements, all of the same data type, arranged in rows and columns, and can have multiple dimensions (e.g., 1D, 2D, or higher). NumPy arrays are used for efficient numerical computations and mathematical operations, making them essential for tasks involving data manipulation, scientific computing, and data analysis in Python.\n",
        "\n",
        "we can use the function `type` to check the type of a value. Pass different data types to the `type` function to see the different output:"
      ]
    },
    {
      "cell_type": "code",
      "execution_count": 36,
      "metadata": {
        "colab": {
          "base_uri": "https://localhost:8080/"
        },
        "id": "OrwdkPWO92ur",
        "outputId": "5284970a-fd27-44ef-d2a4-1eb3c8d15a64"
      },
      "outputs": [
        {
          "output_type": "execute_result",
          "data": {
            "text/plain": [
              "int"
            ]
          },
          "metadata": {},
          "execution_count": 36
        }
      ],
      "source": [
        "type(1) # change the data inside parenthesis"
      ]
    },
    {
      "cell_type": "markdown",
      "metadata": {
        "id": "ioLTtIMF92us"
      },
      "source": [
        "### Basic operators\n",
        "You can actually use Python as a calculator to compute equations and store values into variables. This means that you can use basic mathematical operators:\n",
        "```\n",
        "+   addition\n",
        "-   subtraction\n",
        "*   multiplication\n",
        "/   division\n",
        "**  exponent\n",
        "//  floor division\n",
        "```"
      ]
    },
    {
      "cell_type": "code",
      "execution_count": 37,
      "metadata": {
        "colab": {
          "base_uri": "https://localhost:8080/"
        },
        "id": "depBYtMH92us",
        "outputId": "f73280e6-38df-4352-f15f-bdf04a1b1cbc"
      },
      "outputs": [
        {
          "output_type": "execute_result",
          "data": {
            "text/plain": [
              "3.25"
            ]
          },
          "metadata": {},
          "execution_count": 37
        }
      ],
      "source": [
        "(3 + 5 * 10) / 4 - 10"
      ]
    },
    {
      "cell_type": "code",
      "execution_count": 38,
      "metadata": {
        "colab": {
          "base_uri": "https://localhost:8080/"
        },
        "id": "sRJ6NZ_-92us",
        "outputId": "0de4842e-3a7b-448b-b66c-788731f05b30"
      },
      "outputs": [
        {
          "output_type": "execute_result",
          "data": {
            "text/plain": [
              "9"
            ]
          },
          "metadata": {},
          "execution_count": 38
        }
      ],
      "source": [
        "3 ** 2"
      ]
    },
    {
      "cell_type": "markdown",
      "metadata": {
        "id": "Y0fSjNDE92ut"
      },
      "source": [
        "You can also store the output of an operation into a variable and use such variable for further operations:"
      ]
    },
    {
      "cell_type": "code",
      "execution_count": 39,
      "metadata": {
        "colab": {
          "base_uri": "https://localhost:8080/"
        },
        "id": "I_C2Ytw992ut",
        "outputId": "4a012f81-f62c-4417-d690-8489ea20b98d"
      },
      "outputs": [
        {
          "output_type": "stream",
          "name": "stdout",
          "text": [
            "9\n",
            "36\n"
          ]
        }
      ],
      "source": [
        "x = 3 ** 2\n",
        "y = 4 * x\n",
        "print(x)\n",
        "print(y)"
      ]
    },
    {
      "cell_type": "markdown",
      "metadata": {
        "id": "eMvBHlUU92ut"
      },
      "source": [
        "### Lists and arrays\n",
        "Lists are variables containing a sequence of ints, floats, strings etc., even other lists.... Whatever you want to put in your list. We create a list by using square brackets `[]` and passing the values of the list separated by commas."
      ]
    },
    {
      "cell_type": "code",
      "execution_count": 40,
      "metadata": {
        "colab": {
          "base_uri": "https://localhost:8080/"
        },
        "id": "xMIMnli192ut",
        "outputId": "eb66d9af-798a-4b18-ac8b-f515cc29c346"
      },
      "outputs": [
        {
          "output_type": "execute_result",
          "data": {
            "text/plain": [
              "[1, 2, 3.5, 'Some text']"
            ]
          },
          "metadata": {},
          "execution_count": 40
        }
      ],
      "source": [
        "my_list = [1, 2, 3.5, 'Some text']\n",
        "my_list"
      ]
    },
    {
      "cell_type": "markdown",
      "metadata": {
        "id": "lCzWjRFe92ut"
      },
      "source": [
        "You can access an element of a list by specifying the location of the element in order, counting the first position as 0:"
      ]
    },
    {
      "cell_type": "code",
      "execution_count": 41,
      "metadata": {
        "colab": {
          "base_uri": "https://localhost:8080/",
          "height": 36
        },
        "id": "zOgBx2kb92ut",
        "outputId": "aa91c67c-2efc-4206-e2b9-abc40b116bd9"
      },
      "outputs": [
        {
          "output_type": "execute_result",
          "data": {
            "text/plain": [
              "'Some text'"
            ],
            "application/vnd.google.colaboratory.intrinsic+json": {
              "type": "string"
            }
          },
          "metadata": {},
          "execution_count": 41
        }
      ],
      "source": [
        "my_list[3]"
      ]
    },
    {
      "cell_type": "markdown",
      "metadata": {
        "id": "Jl_PQzPY92ut"
      },
      "source": [
        "An array is a list of values, which allows to make numerical calculations very efficiently. We create an array by calling the `numpy` library function `np.array()` and passing a list as argument (inside the parentesis):"
      ]
    },
    {
      "cell_type": "code",
      "execution_count": 42,
      "metadata": {
        "colab": {
          "base_uri": "https://localhost:8080/"
        },
        "id": "vssLEJ5N92uu",
        "outputId": "db07bfb1-257a-436e-f690-15f87e2a4f1d"
      },
      "outputs": [
        {
          "output_type": "execute_result",
          "data": {
            "text/plain": [
              "array([1, 2, 3, 4])"
            ]
          },
          "metadata": {},
          "execution_count": 42
        }
      ],
      "source": [
        "my_array = np.array([1, 2, 3, 4])\n",
        "my_array"
      ]
    },
    {
      "cell_type": "markdown",
      "metadata": {
        "id": "VYBJ_zVM92uu"
      },
      "source": [
        "Then we can use this array to make some elementwise computations or even pairwise computations between two arrays:"
      ]
    },
    {
      "cell_type": "code",
      "execution_count": 43,
      "metadata": {
        "colab": {
          "base_uri": "https://localhost:8080/"
        },
        "id": "iandZb7L92uu",
        "outputId": "8a6e576d-3583-4dbd-c4db-090d2321f2cb"
      },
      "outputs": [
        {
          "output_type": "execute_result",
          "data": {
            "text/plain": [
              "array([2, 4, 6, 8])"
            ]
          },
          "metadata": {},
          "execution_count": 43
        }
      ],
      "source": [
        "my_array * 2"
      ]
    },
    {
      "cell_type": "code",
      "execution_count": 44,
      "metadata": {
        "colab": {
          "base_uri": "https://localhost:8080/"
        },
        "id": "Dq40NyP_92uu",
        "outputId": "84abc3cf-f7f5-4380-ae37-510be3fd8f61"
      },
      "outputs": [
        {
          "output_type": "execute_result",
          "data": {
            "text/plain": [
              "array([ 4, 10, 18, 28])"
            ]
          },
          "metadata": {},
          "execution_count": 44
        }
      ],
      "source": [
        "my_array * np.array([4, 5, 6, 7])"
      ]
    },
    {
      "cell_type": "markdown",
      "metadata": {
        "id": "YSKKVjk092uu"
      },
      "source": [
        "We can even sum all of the values of the array by calling the function `sum()`"
      ]
    },
    {
      "cell_type": "code",
      "execution_count": 45,
      "metadata": {
        "colab": {
          "base_uri": "https://localhost:8080/"
        },
        "id": "UOMZXmS092uu",
        "outputId": "0b765944-fb52-4025-985f-5d98c1549ef3"
      },
      "outputs": [
        {
          "output_type": "execute_result",
          "data": {
            "text/plain": [
              "10"
            ]
          },
          "metadata": {},
          "execution_count": 45
        }
      ],
      "source": [
        "sum(my_array)"
      ]
    },
    {
      "cell_type": "markdown",
      "metadata": {
        "id": "Itcovlxz92uu"
      },
      "source": [
        "As with lists, we can access value from the array specifying the location of the lements that we want (starting with 0):"
      ]
    },
    {
      "cell_type": "code",
      "execution_count": 46,
      "metadata": {
        "colab": {
          "base_uri": "https://localhost:8080/"
        },
        "id": "mdPtUUJN92uu",
        "outputId": "1099fe26-dcb0-4718-dac3-6c004e69b872"
      },
      "outputs": [
        {
          "output_type": "execute_result",
          "data": {
            "text/plain": [
              "3"
            ]
          },
          "metadata": {},
          "execution_count": 46
        }
      ],
      "source": [
        "my_array[2]"
      ]
    },
    {
      "cell_type": "markdown",
      "metadata": {
        "id": "cu7vEXiU92uu"
      },
      "source": [
        "We can also access several elements at a time by passing a list of their locations:"
      ]
    },
    {
      "cell_type": "code",
      "execution_count": 47,
      "metadata": {
        "colab": {
          "base_uri": "https://localhost:8080/"
        },
        "id": "GdJ8wIiB92uv",
        "outputId": "44e54a70-004d-42fc-d064-8800cbc053f6"
      },
      "outputs": [
        {
          "output_type": "execute_result",
          "data": {
            "text/plain": [
              "array([2, 4])"
            ]
          },
          "metadata": {},
          "execution_count": 47
        }
      ],
      "source": [
        "my_array[[1, 3]]"
      ]
    },
    {
      "cell_type": "markdown",
      "metadata": {
        "id": "E6pJvLfj92uv"
      },
      "source": [
        "### Dictionaries\n",
        "Dictionaries are used to store data values in `key: value` pairs. They are a collection of values and identifiers. A dictionary is a collection which is ordered, changeable and do not allow duplicates.\n",
        "\n",
        "Dictionaries are written with curly brackets, and have keys and values:"
      ]
    },
    {
      "cell_type": "code",
      "execution_count": 48,
      "metadata": {
        "colab": {
          "base_uri": "https://localhost:8080/"
        },
        "id": "-hCSU_Jq92uv",
        "outputId": "57f28958-5a2b-4d83-ca57-9c14e170f046"
      },
      "outputs": [
        {
          "output_type": "execute_result",
          "data": {
            "text/plain": [
              "{'Name': 'John Doe', 'Age': 30, 'Address': 'Some street 83'}"
            ]
          },
          "metadata": {},
          "execution_count": 48
        }
      ],
      "source": [
        "my_dictionary = {'Name': 'John Doe',\n",
        "                 'Age': 30,\n",
        "                 'Address': 'Some street 83'}\n",
        "my_dictionary"
      ]
    },
    {
      "cell_type": "markdown",
      "metadata": {
        "id": "LilVWozg92uv"
      },
      "source": [
        "Dictionary items are presented in `key: value` pairs, and can be referred to by using the key name."
      ]
    },
    {
      "cell_type": "code",
      "execution_count": 49,
      "metadata": {
        "colab": {
          "base_uri": "https://localhost:8080/",
          "height": 0
        },
        "id": "p8pmWjcS92uv",
        "outputId": "8eba6dc7-8651-4a22-c824-d01d992e63fc"
      },
      "outputs": [
        {
          "output_type": "execute_result",
          "data": {
            "text/plain": [
              "'John Doe'"
            ],
            "application/vnd.google.colaboratory.intrinsic+json": {
              "type": "string"
            }
          },
          "metadata": {},
          "execution_count": 49
        }
      ],
      "source": [
        "my_dictionary['Name']"
      ]
    },
    {
      "cell_type": "markdown",
      "metadata": {
        "id": "8Z5OqliQ92uv"
      },
      "source": [
        "We can even modify a value of a key by overwritting it value:"
      ]
    },
    {
      "cell_type": "code",
      "execution_count": 50,
      "metadata": {
        "colab": {
          "base_uri": "https://localhost:8080/"
        },
        "id": "NZA4S_WU92uv",
        "outputId": "140537e9-6fdd-43ad-8b80-05f75c4f9321"
      },
      "outputs": [
        {
          "output_type": "execute_result",
          "data": {
            "text/plain": [
              "{'Name': 'John Doe', 'Age': 35, 'Address': 'Some street 83'}"
            ]
          },
          "metadata": {},
          "execution_count": 50
        }
      ],
      "source": [
        "my_dictionary['Age'] = 35\n",
        "my_dictionary"
      ]
    },
    {
      "cell_type": "markdown",
      "metadata": {
        "id": "9ZNR2fU092uv"
      },
      "source": [
        "A dictionary can have as value a dictionary too, or any other data structure. It is very common to have nested dictionaries to store data under different categories."
      ]
    },
    {
      "cell_type": "markdown",
      "metadata": {
        "id": "RC0T3eUY92uv"
      },
      "source": [
        "<a name=\"Stage-1---Compute-LCOE\"></a>\n",
        "## Stage 1 - Compute LCOE\n",
        "\n",
        "According to [OEE](http://www.open-electricity-economics.org/book/text/03.html) the formula to calculate LCOE is as follows:\n",
        "\n",
        "$LCOE = \\frac{C_{fix} + \\sum_{y=1}^Y DF_y \\cdot C_y}{\\sum_{y=1}^Y DF_y \\cdot G_y}$\n",
        "\n",
        "where LCOE is the levelized cost in EUR per kWh, $C_{fix}$ is the capital investment costs incurred for setting up the project, $C_y$ are operational costs incurred in year $y$, $Y$ is the technical lifetime in years, and $G_y$ is electricity generation in kWh. The costs are called levelized because they are “leveled” over all units of output. Levelized costs can be calculated for a specific power plant or for generic types of generation technologies.\n",
        "\n",
        "Discount factor ($DF$) is calculated for each year ($y$) of the plant's technical lifetime\n",
        "\n",
        "$DF_y =  (1 + r)^{-y}$\n",
        "\n",
        "where $r$ is the discount rate"
      ]
    },
    {
      "cell_type": "markdown",
      "metadata": {
        "id": "w6IjOD9C92uw"
      },
      "source": [
        "Here we can store the technical lifetime of our technology in a *variable* called ``technical_lifetime``"
      ]
    },
    {
      "cell_type": "code",
      "execution_count": 83,
      "metadata": {
        "id": "CO8aHWOy92uw"
      },
      "outputs": [],
      "source": [
        "technical_lifetime = 25"
      ]
    },
    {
      "cell_type": "markdown",
      "metadata": {
        "id": "ecGf5OCO92uw"
      },
      "source": [
        "You can access the value stored in the *variable* at anytime, by typing its name and press `shift` + `enter`:"
      ]
    },
    {
      "cell_type": "code",
      "execution_count": 84,
      "metadata": {
        "colab": {
          "base_uri": "https://localhost:8080/"
        },
        "id": "OPF3ldJH92uw",
        "outputId": "d4b62661-fa68-45d7-e31d-c552c8919578"
      },
      "outputs": [
        {
          "output_type": "execute_result",
          "data": {
            "text/plain": [
              "25"
            ]
          },
          "metadata": {},
          "execution_count": 84
        }
      ],
      "source": [
        "technical_lifetime"
      ]
    },
    {
      "cell_type": "markdown",
      "metadata": {
        "id": "XiIFyJCc92u0"
      },
      "source": [
        "We then create an *array* of years using the value stored in ``technical_lifetime``.\n",
        "\n",
        "An *array* is like a list of values. The command ``np.arange()`` takes a number as an argument and creates an *array* of the same length containing the values from 0 to one less than the number. You can always check what are the parameters that a command (or function) accepts and what it returns as result. For this you can type the name of the function you need and open parenthesis, wait a second and the documentation window will appear:\n",
        "\n",
        "![Documentation](https://raw.githubusercontent.com/KTH-dESA/MJ2383/main/img/DocstringColab.gif \"Documentation\")"
      ]
    },
    {
      "cell_type": "code",
      "execution_count": 85,
      "metadata": {
        "colab": {
          "base_uri": "https://localhost:8080/"
        },
        "id": "ygP0Z2gF92u0",
        "outputId": "6aa5a71c-3f33-4dc4-c837-8fba6e4fd22e"
      },
      "outputs": [
        {
          "output_type": "execute_result",
          "data": {
            "text/plain": [
              "array([ 0,  1,  2,  3,  4,  5,  6,  7,  8,  9, 10, 11, 12, 13, 14, 15, 16,\n",
              "       17, 18, 19, 20, 21, 22, 23, 24])"
            ]
          },
          "metadata": {},
          "execution_count": 85
        }
      ],
      "source": [
        "years = np.arange(technical_lifetime)\n",
        "years"
      ]
    },
    {
      "cell_type": "markdown",
      "metadata": {
        "id": "cDb_8_FL92u0"
      },
      "source": [
        "Now we calculate $DF$ for each year in our plant's technical lifetime according to the formula we saw earlier:\n",
        "$DF_y =  (1 + r)^{-y}$; $r$ is the discount rate, and $y$ is the year.\n",
        "\n",
        "**Implement the DF formula in the cell below. Remember that to exponentiate in Python we use** `**`.\n",
        "\n",
        "**Q. What happens if you change the discount rate?**"
      ]
    },
    {
      "cell_type": "code",
      "execution_count": 86,
      "metadata": {
        "colab": {
          "base_uri": "https://localhost:8080/"
        },
        "id": "b0biRu1192u0",
        "outputId": "a3ed5dac-7ef8-4da4-ce39-4af0967d2c4d"
      },
      "outputs": [
        {
          "output_type": "stream",
          "name": "stdout",
          "text": [
            "[1.         0.95238095 0.90702948 0.8638376  0.82270247 0.78352617\n",
            " 0.7462154  0.71068133 0.67683936 0.64460892 0.61391325 0.58467929\n",
            " 0.55683742 0.53032135 0.50506795 0.4810171  0.45811152 0.43629669\n",
            " 0.41552065 0.39573396 0.37688948 0.35894236 0.34184987 0.32557131\n",
            " 0.31006791]\n"
          ]
        }
      ],
      "source": [
        "discount_rate = 0.05\n",
        "df = (1+discount_rate) ** -years\n",
        "print(df) # we use the command print, to show the values stored inside the df variable"
      ]
    },
    {
      "cell_type": "code",
      "execution_count": 87,
      "metadata": {
        "colab": {
          "base_uri": "https://localhost:8080/"
        },
        "id": "N2Hy3a3P92u1",
        "outputId": "5b7974dc-d93f-4b96-b7fd-6e066f6af37c"
      },
      "outputs": [
        {
          "output_type": "stream",
          "name": "stdout",
          "text": [
            "Your answer is correct!\n"
          ]
        }
      ],
      "source": [
        "# Run this cell to check your answer\n",
        "checker_df(value=df,\n",
        "           discount_rate=discount_rate,\n",
        "           years=years)"
      ]
    },
    {
      "cell_type": "markdown",
      "metadata": {
        "id": "lwqF0kF392u1"
      },
      "source": [
        "Now we've calculated $DF$, let's get some data for the other parameters:"
      ]
    },
    {
      "cell_type": "code",
      "execution_count": 88,
      "metadata": {
        "id": "SBy6F5Rf92u1"
      },
      "outputs": [],
      "source": [
        "capital_costs = 1000.0  # €\n",
        "operational_costs = np.repeat(500, technical_lifetime)  # €\n",
        "electricity_generation = np.repeat(8760., technical_lifetime)  # kWh"
      ]
    },
    {
      "cell_type": "markdown",
      "metadata": {
        "id": "vaicB1Dz92u1"
      },
      "source": [
        "The code above creates variables, each containing an *array* of values. We automatically generate the arrays using `np.repeat(50, technical_lifetime)`. This creates an array of length `technical_lifetime` where each element in the array contains the value `50`.\n",
        "\n",
        "---\n",
        "\n",
        "Remember the formula? Let's check it again:\n",
        "\n",
        "\\\\(LCOE = \\frac{C_{fix} + \\sum_{y=1}^Y DF_y \\cdot C_y}{\\sum_{y=1}^Y DF_y \\cdot G_y}\\\\)\n",
        "\n",
        "Now, implement the LCOE formula in the cell below:"
      ]
    },
    {
      "cell_type": "code",
      "execution_count": 89,
      "metadata": {
        "colab": {
          "base_uri": "https://localhost:8080/"
        },
        "id": "3X-J-MvN92u1",
        "outputId": "10b37d58-e3eb-4e4b-b8be-b6cde5d748ea"
      },
      "outputs": [
        {
          "output_type": "stream",
          "name": "stdout",
          "text": [
            "0.06479152612516086\n"
          ]
        }
      ],
      "source": [
        "lcoe = (capital_costs + sum(df * operational_costs)) / sum(df * electricity_generation)\n",
        "print(lcoe)  # €/kWh"
      ]
    },
    {
      "cell_type": "code",
      "execution_count": 90,
      "metadata": {
        "colab": {
          "base_uri": "https://localhost:8080/"
        },
        "id": "jVOu_qun92u1",
        "outputId": "29e7e469-476f-4b2a-9c76-356bc2991c6b"
      },
      "outputs": [
        {
          "output_type": "stream",
          "name": "stdout",
          "text": [
            "Your answer is correct!\n"
          ]
        }
      ],
      "source": [
        "checker_lcoe(value=lcoe,\n",
        "             capital_costs=capital_costs,\n",
        "             operational_costs=operational_costs,\n",
        "             electricity_generation=electricity_generation,\n",
        "             discount_rate=discount_rate,\n",
        "             technical_lifetime=technical_lifetime)"
      ]
    },
    {
      "cell_type": "markdown",
      "metadata": {
        "id": "waPNUmP992u1"
      },
      "source": [
        "<a name=\"Writing-a-reusable-LCOE-function\"></a>\n",
        "### Writing a reusable LCOE function\n",
        "At the moment, this seems a pretty arbitrary result. We're just putting in nonsense data, and we are getting nonsense in return. In stage 2, we'll start working with real data, but first, we need to make this calculation re-useable.\n",
        "\n",
        "---\n",
        "\n",
        "In Python, if we want to reuse a piece of code, we'll create a \"function\". To do this, you use the ``def`` command like this:\n",
        "\n",
        "```python\n",
        "def get_lcoe(capital_costs, operational_costs, electricity_generation, discount_rate, technical_lifetime):\n",
        "    # <<Something should go here>>\n",
        "    return lcoe\n",
        "```\n",
        "\n",
        "- In the above example `get_lcoe` is the name of the function\n",
        "- The list of names in the round brackets `()` are arguments\n",
        "- Don't forget the `:` at the end of the list of arguments\n",
        "- Use four spaces to indent your code\n",
        "- The argument passed to `return` in the last line is what the function will give back when you run it\n",
        "\n",
        "**Q. What should go in the function?**\n",
        "\n",
        "Have a go below:"
      ]
    },
    {
      "cell_type": "code",
      "execution_count": 91,
      "metadata": {
        "id": "l2q1dTwS92u2"
      },
      "outputs": [],
      "source": [
        "def get_lcoe(capital_costs, operational_costs, electricity_generation, discount_rate, technical_lifetime):\n",
        "    # Write your code next, be sure to include any variable needed to calculate the lcoe value.\n",
        "    # Use the input variables of the function:\n",
        "    # (capital_costs, operational_costs, electricity_generation, discount_rate, technical_lifetime)\n",
        "\n",
        "    # <Your code here>\n",
        "    years = np.arange(technical_lifetime)\n",
        "    df = df = (1+discount_rate) ** - years\n",
        "    lcoe = (capital_costs + sum(df * operational_costs)) / sum(df * electricity_generation)\n",
        "    return lcoe"
      ]
    },
    {
      "cell_type": "markdown",
      "metadata": {
        "id": "Ej6n4Ooc92u2"
      },
      "source": [
        "Test your `lcoe` function by running the cell below."
      ]
    },
    {
      "cell_type": "code",
      "execution_count": 92,
      "metadata": {
        "colab": {
          "base_uri": "https://localhost:8080/"
        },
        "id": "o56ceVCo92u2",
        "outputId": "e72e02bb-b2b7-43c2-d507-626304277908"
      },
      "outputs": [
        {
          "output_type": "stream",
          "name": "stdout",
          "text": [
            "0.1751093834091417\n",
            "Your answer is correct!\n"
          ]
        }
      ],
      "source": [
        "# With the next line we make a call to the function you wrote passing some input values\n",
        "actual = get_lcoe(capital_costs=5000,\n",
        "                  operational_costs=np.array([100, 100, 100, 100]),\n",
        "                  electricity_generation=np.array([8760, 8760, 8760, 8760]),\n",
        "                  discount_rate=0.1,\n",
        "                  technical_lifetime=4)\n",
        "# We print the results\n",
        "print(actual)\n",
        "\n",
        "# We run the checker with your calculation and the same input data, to see if the results is correct\n",
        "checker_lcoe(value=actual,\n",
        "             capital_costs=5000,\n",
        "             operational_costs=np.array([100, 100, 100, 100]),\n",
        "             electricity_generation=np.array([8760, 8760, 8760, 8760]),\n",
        "             discount_rate=0.1,\n",
        "             technical_lifetime=4)"
      ]
    },
    {
      "cell_type": "markdown",
      "metadata": {
        "id": "nz9A_0_K92u2"
      },
      "source": [
        "### Stage 1 - Summary\n",
        "\n",
        "If you managed to get it to work, well done! You've written a Python function which computes LCOE. If not, don't worry, the answer is below! Make sure to write it in the function so the following steps of the Lab work.\n",
        "\n",
        "- In this stage, we introduced the LCOE equation\n",
        "\\\\(LCOE = \\frac{C_{fix} + \\sum_{y=1}^Y DF_y \\cdot C_y}{\\sum_{y=1}^Y DF_y \\cdot G_y}\\\\)\n",
        "and implemented it using a Python function.\n",
        "- We also explored how the capital recovery factors weighs future years differently as a function of the discount rate.\n",
        "- We learnt a lot of Python concepts including *variables*, *arrays*, and *arguments*.\n",
        "- We learnt how to reuse Python code by writing a function.\n",
        "\n",
        "In the next stage, we'll extend our function to make it more useful and investigate the LCOE calculation itself.\n",
        "\n",
        "### Stage 1 - Answer LCOE Function\n",
        "\n",
        "As you can see, we just need to fill in the gaps. First build the array of years, calculate the array of DF and then add the lcoe calculation.\n",
        "```python\n",
        "def get_lcoe(capital_costs, operational_costs, electricity_generation, discount_rate, technical_lifetime):\n",
        "    year = np.arange(technical_lifetime)\n",
        "    df = (1 + discount_rate) ** - year\n",
        "    lcoe = (capital_costs + sum(df * operational_costs)) / sum(df * electricity_generation)\n",
        "    return lcoe\n",
        "```"
      ]
    },
    {
      "cell_type": "markdown",
      "metadata": {
        "id": "-GL13KOa92u2"
      },
      "source": [
        "<a name=\"Stage-2---Explore-Parameter-Values\"></a>\n",
        "## Stage 2 - Explore Parameter Values"
      ]
    },
    {
      "cell_type": "markdown",
      "metadata": {
        "id": "XtCCqWzS92u2"
      },
      "source": [
        "We'll now make use of an LCOE function to explore the effect of different parameter values for one technology &mdash; a combined cycle gas turbine. In the following implementation of LCOE, we make the assumption that the yearly values for operational costs and electricity generation are the same in each year of the technology's lifetime."
      ]
    },
    {
      "cell_type": "markdown",
      "metadata": {
        "id": "Nm51Nd1j92u2"
      },
      "source": [
        "Here are the parameters for a combined cycle gas turbine (CCGT):\n",
        "\n",
        "Parameter | Unit |Value\n",
        "---|---|---\n",
        "Lifetime| |25\n",
        "Discount rate | |\t\t\t8.0%\n",
        "Station size | MW |\t750.0\n",
        "Overnight cost | €/kW | 750.0\n",
        "Fixed O&M cost | €/kW\t| 3.0\n",
        "Efficiency | | 0.5\n",
        "Fuel price | €/kWh| 0.03\n",
        "Emission Factor\t| ton/kW-yr| 1.8\n",
        "Load factor | | 0.75\n",
        "\n",
        "Here's the information we need to calculate the LCOE using the simple LCOE equation we developed earlier.\n",
        "\n",
        "Parameter | Unit |Value\n",
        "---|---|---\n",
        "Capital cost | € | ?\n",
        "Electricity generation | kWh | ?\n",
        "Annual fixed O&M cost |\t€\t| ?\n",
        "Annual variable O&M cost |€| ?\n",
        "Annual operational cost | € | ?\n",
        "\n",
        "**Q. What's the levelised cost of electricity for the CCGT plant?**\n",
        "- work through the list of inputs methodically.\n",
        "- Pay close attention to the units.  \n",
        "- Use Python variables to store information you reuse.\n",
        "\n",
        "### Hints\n",
        "\n",
        "- Remember there are approximately `365 * 24 = 8760` hours in a year.\n",
        "- The load factor describes the proportion of those 8760 hours the plant is operational.\n",
        "- Total operational costs are made up of fixed costs (not a function of activity) and variable costs (function of activity).\n",
        "- The fixed costs are a function of capacity.\n",
        "- The variable cost will be the product of the amount of fuel used and the fuel price.\n",
        "- Fuel use can be computed from electricity generation and efficiency.\n",
        "- Create any new variable if you need to."
      ]
    },
    {
      "cell_type": "code",
      "execution_count": 101,
      "metadata": {
        "colab": {
          "base_uri": "https://localhost:8080/"
        },
        "id": "X3qE0xeg92u3",
        "outputId": "752c7a3b-9b73-4ffc-db05-bc1023c40b50"
      },
      "outputs": [
        {
          "output_type": "stream",
          "name": "stdout",
          "text": [
            "562500000\n",
            "[4.9275e+09 4.9275e+09 4.9275e+09 4.9275e+09 4.9275e+09 4.9275e+09\n",
            " 4.9275e+09 4.9275e+09 4.9275e+09 4.9275e+09 4.9275e+09 4.9275e+09\n",
            " 4.9275e+09 4.9275e+09 4.9275e+09 4.9275e+09 4.9275e+09 4.9275e+09\n",
            " 4.9275e+09 4.9275e+09 4.9275e+09 4.9275e+09 4.9275e+09 4.9275e+09\n",
            " 4.9275e+09]\n",
            "[2.979e+08 2.979e+08 2.979e+08 2.979e+08 2.979e+08 2.979e+08 2.979e+08\n",
            " 2.979e+08 2.979e+08 2.979e+08 2.979e+08 2.979e+08 2.979e+08 2.979e+08\n",
            " 2.979e+08 2.979e+08 2.979e+08 2.979e+08 2.979e+08 2.979e+08 2.979e+08\n",
            " 2.979e+08 2.979e+08 2.979e+08 2.979e+08]\n"
          ]
        }
      ],
      "source": [
        "# 1. Populate some variables using the information from the table\n",
        "\n",
        "lifetime = 25\n",
        "discount_rate = 0.08\n",
        "capacity = 750000 # kW\n",
        "overnight_cost = 750  # €/kW the cost of a project if no interest was incurred during construction, as if the project was completed \"overnight.\"\n",
        "fixed_om_cost = 3  # €/kW\n",
        "efficiency = 0.5\n",
        "fuel_price = 0.03 # €/kWh\n",
        "load_factor = 0.75\n",
        "hours_in_a_year = 8760\n",
        "\n",
        "# 2. Calculate the intermediate values (you can use Python like a calculator)\n",
        "# Use *+-/ for multiply, add, substract, divide and np.repeat().\n",
        "\n",
        "capital_costs =  capacity * overnight_cost # in €\n",
        "electricity_generation_oneYear = capacity*load_factor*hours_in_a_year\n",
        "electricity_generation = np.repeat(electricity_generation_oneYear,lifetime) # as an array of generation per year in kWh\n",
        "fuel_used = electricity_generation_oneYear/efficiency\n",
        "operational_costs = np.repeat(capacity*fixed_om_cost+fuel_used*fuel_price,lifetime) # as an array of total operational costs per year in €\n",
        "\n",
        "print(capital_costs)\n",
        "print(electricity_generation)\n",
        "print(operational_costs)"
      ]
    },
    {
      "cell_type": "code",
      "execution_count": 102,
      "metadata": {
        "colab": {
          "base_uri": "https://localhost:8080/"
        },
        "id": "iVgIII5V92u3",
        "outputId": "2120454c-c878-4325-bc4c-986902c03a87"
      },
      "outputs": [
        {
          "output_type": "stream",
          "name": "stdout",
          "text": [
            "Your electricity generation is correct!\n",
            "Your operational costs are correct!\n"
          ]
        }
      ],
      "source": [
        "# Run this cell to check your answers.\n",
        "# Note the input parameters needed by the function (remember that you can use `Shift + Tab`\n",
        "# to see the documentation of the function).\n",
        "# If you named your parameters differently, provide the right names to the function\n",
        "checker_parameters(el_gen=electricity_generation,\n",
        "                   op_costs=operational_costs,\n",
        "                   capacity=capacity,\n",
        "                   load_factor=load_factor,\n",
        "                   fixed_om_cost=fixed_om_cost,\n",
        "                   fuel_price=fuel_price,\n",
        "                   efficiency=efficiency,\n",
        "                   lifetime=lifetime)"
      ]
    },
    {
      "cell_type": "code",
      "execution_count": 103,
      "metadata": {
        "colab": {
          "base_uri": "https://localhost:8080/"
        },
        "id": "nUTvZPw992u3",
        "outputId": "fda838db-1677-4761-8ed6-29e7ae6a2337"
      },
      "outputs": [
        {
          "output_type": "stream",
          "name": "stdout",
          "text": [
            "0.07035840299466938\n"
          ]
        }
      ],
      "source": [
        "# 3. Now use the earlier LCOE equation we developed to calculate the LCOE\n",
        "actual = get_lcoe(capital_costs=capital_costs,\n",
        "                  operational_costs=operational_costs,\n",
        "                  electricity_generation=electricity_generation,\n",
        "                  discount_rate=discount_rate,\n",
        "                  technical_lifetime=lifetime)\n",
        "print(actual)"
      ]
    },
    {
      "cell_type": "markdown",
      "metadata": {
        "id": "YQiJfUQ-92u3"
      },
      "source": [
        "---\n",
        "Now we extend our calculation of LCOE with the parameters used above. We implement the same calculation you did, but inside the `get_lcoe_input` function. Then we use this function inside a new function called `extended_lcoe` to calculate the input parameters and the `lcoe` value using our previous definded `get_lcoe` [function](#Writing-a-reusable-LCOE-function). You do not need to change anything here, just check them below and make sure to run both cells as we will need them in the next steps."
      ]
    },
    {
      "cell_type": "code",
      "execution_count": 104,
      "metadata": {
        "id": "m1wm6inG92u3"
      },
      "outputs": [],
      "source": [
        "def get_lcoe_input(station_size, overnight_cost, fuel_efficiency, technical_lifetime,\n",
        "                   fuel_price, fixed_om_cost, load_factor, variable_om_cost):\n",
        "    \"\"\"Calculates the input parameters for the lcoe function\n",
        "\n",
        "    Parameters\n",
        "    ----------\n",
        "    station_size : float\n",
        "        The capacity of the technology in kW\n",
        "    overnight_cost : float\n",
        "        The capital cost of the technology in €/kW\n",
        "    fuel_efficiency : float\n",
        "        The ratio describing quantity of fuel required per unit of activity\n",
        "    fuel_price : float\n",
        "        The price paid per unit of input fuel in €/kWh\n",
        "    fixed_om_cost : float\n",
        "        The fixed operation and maintenance cost of the technology in €/kW\n",
        "    load_factor : float\n",
        "        The percentage of the year in which the technology generates electricity in %.\n",
        "    variable_om_cost : float\n",
        "        The variable operation and maintenance cost of the technology in €/kW\n",
        "\n",
        "    Returns\n",
        "    -------\n",
        "    dict\n",
        "        A dictionary containing:\n",
        "            capital_cost : float\n",
        "                The capital cost of the technology €\n",
        "            total_fixed_om_cost : float\n",
        "                Fixed costs €\n",
        "            annual_electricity_generation : np.ndarray\n",
        "                annual electricity production kWh\n",
        "            total_variable_om_cost : float\n",
        "                variable cost due to fuel use €\n",
        "            annual_operational_cost : np.ndarray\n",
        "                annual operational cost €\n",
        "\n",
        "    \"\"\"\n",
        "    HOURS_IN_YEAR = 8760\n",
        "\n",
        "    capital_cost = station_size * overnight_cost\n",
        "    total_fixed_om_cost = station_size * fixed_om_cost\n",
        "    annual_electricity_generation = np.repeat(station_size * HOURS_IN_YEAR * load_factor, technical_lifetime)\n",
        "\n",
        "    total_variable_om_cost = ((annual_electricity_generation / fuel_efficiency) * fuel_price) + \\\n",
        "                             (annual_electricity_generation * variable_om_cost)\n",
        "    annual_operational_cost = total_fixed_om_cost + total_variable_om_cost\n",
        "\n",
        "    return {'capital_cost': capital_cost, 'total_fixed_om_cost': total_fixed_om_cost,\n",
        "            'annual_electricity_generation': annual_electricity_generation,\n",
        "            'total_variable_om_cost': total_variable_om_cost, 'annual_operational_cost': annual_operational_cost}"
      ]
    },
    {
      "cell_type": "code",
      "execution_count": 105,
      "metadata": {
        "id": "T9aAsuey92u4"
      },
      "outputs": [],
      "source": [
        "def extended_lcoe(station_size, overnight_cost, fuel_efficiency, fuel_price, fixed_om_cost, var_om_cost,\n",
        "                  load_factor, discount_rate, technical_lifetime):\n",
        "    \"\"\"Calculates levelised cost of electricity as a function of useful parameters\n",
        "\n",
        "    Parameters\n",
        "    ----------\n",
        "    station_size : float\n",
        "        The capacity of the technology in kW\n",
        "    overnight_cost : float\n",
        "        The capital cost of the technology in €\n",
        "    fuel_efficiency : float\n",
        "        The ratio describing quantity of fuel required per unit of activity\n",
        "    fuel_price : float\n",
        "        The price paid per unit of input fuel in €/kWh\n",
        "    fixed_om_cost : float\n",
        "        The fixed operation and maintenance cost of the technology in €/kW\n",
        "    load_factor : float\n",
        "        The percentage of the year in which the technology generates electricity in %.\n",
        "    discount_rate : float\n",
        "        A decimal value less than 1\n",
        "    technical_lifetime : int\n",
        "        Technical lifetime of the technology in years\n",
        "    var_om_cost : float\n",
        "        Variable operational and maintenance cost\n",
        "\n",
        "    Returns\n",
        "    -------\n",
        "    float\n",
        "        The levelised cost of electricity in €/kWh\n",
        "    \"\"\"\n",
        "    lcoe_params = get_lcoe_input(station_size, overnight_cost, fuel_efficiency, technical_lifetime,\n",
        "                                 fuel_price, fixed_om_cost, load_factor, var_om_cost)\n",
        "\n",
        "    value = get_lcoe(lcoe_params['capital_cost'], lcoe_params['annual_operational_cost'],\n",
        "                     lcoe_params['annual_electricity_generation'], discount_rate,\n",
        "                     technical_lifetime)\n",
        "    return value"
      ]
    },
    {
      "cell_type": "markdown",
      "metadata": {
        "id": "xopISpWn92u4"
      },
      "source": [
        "So to perform the calculation again using our new LCOE function, we get:"
      ]
    },
    {
      "cell_type": "code",
      "execution_count": 106,
      "metadata": {
        "colab": {
          "base_uri": "https://localhost:8080/"
        },
        "id": "8GCGUdhE92u4",
        "outputId": "59aa5e8f-4f84-4b29-aa06-59933698f00f"
      },
      "outputs": [
        {
          "output_type": "execute_result",
          "data": {
            "text/plain": [
              "0.07035840299466938"
            ]
          },
          "metadata": {},
          "execution_count": 106
        }
      ],
      "source": [
        "ccgt_lcoe = extended_lcoe(station_size=750000,\n",
        "                          overnight_cost=750,\n",
        "                          fuel_efficiency=0.5,\n",
        "                          fuel_price=0.03,\n",
        "                          fixed_om_cost=3,\n",
        "                          var_om_cost=0,\n",
        "                          load_factor=0.75,\n",
        "                          discount_rate=0.08,\n",
        "                          technical_lifetime=25)\n",
        "ccgt_lcoe"
      ]
    },
    {
      "cell_type": "markdown",
      "metadata": {
        "id": "jhC6oTW492u4"
      },
      "source": [
        "### Q. What are the key parameters that determine the LCOE of the CCGT plant?\n",
        "\n",
        "Run the next cell to create an interactive slider widget which allows you to play with the `extended_lcoe` function and answer the following questions:\n",
        "\n",
        "1. Which is the most influential input parameter?\n",
        "2. Are all the responses linear? Is it easy to tell?\n",
        "3. What happens if gas is expensive?\n",
        "4. If the price of the gas turbine doubles from €750/kW to €1500/kW, what's the effect upon LCOE at different load factors?\n",
        "5. How important is discount rate compared to the fuel price?"
      ]
    },
    {
      "cell_type": "code",
      "execution_count": 107,
      "metadata": {
        "colab": {
          "base_uri": "https://localhost:8080/",
          "height": 509,
          "referenced_widgets": [
            "4a2076ea766d4cdfbd795061625b025d",
            "3cf905ca7a4a44d8b7d3335d13704258",
            "9e9146cc12d248198805553d9caff17a",
            "f8cee9eb40ef4517a890fbae2a57439f",
            "6f2f8caf4269486eb1d47e1849ee2066",
            "b0ee2b3bf09446d189ced944e53ce475",
            "8887447797894af38e86210d9905efd6",
            "ca20cb5d863f44d5a94b6e2a00075897",
            "0e5bc91f01f54a59829c595e350f3abc",
            "5a88178c4a104afcb50c364d13e4153c",
            "ca858bcbeeea4232a6dffbf788d0b2e1",
            "b9acfeca902c4f5e8337bde9f35187a8",
            "4f4a967bdd404d1d9d80c3f97791c061",
            "d6144b234fd74598ac6c8eaef04cbcc3",
            "f60f815564a24d9fa1982f2317a22bfd",
            "bf2af2603de548f2a476f6bafeae7003",
            "e4b4e228c1e3456d88c748a18798fa05",
            "ada2af35ecf04044b170d6606bec7ca2",
            "d03268632bcc44a599c74efd2de9bf9f",
            "7d86e76f86134ebab89fd15c1b549b30",
            "ac8df4181c564e5285edc7df47d55f40",
            "5e21499332744593a2abb650153b3215",
            "d7051f3ba9cc468d88a776a1bb79a4ce",
            "9ed7bfb563164bc1bef66baf54dcc5f2",
            "35ac5ed09c2a404a97a427f8d6bd5e3b",
            "503b1ad2d55e4e4696231784c2897cc8",
            "90fb5d731dfe4f7583499d86b110a4dc",
            "7408099f4e884968aabe17ecade1fc58",
            "11fb8cb05f00417c97bec911d6952f33",
            "40d20c1a656a45c195b51501830c575b",
            "29a88a0d6c10409f9bf563ba0a35e6d8"
          ]
        },
        "id": "CqzYpJaM92u4",
        "outputId": "517a89ae-19d0-4688-92bf-cf6f4fb7e991"
      },
      "outputs": [
        {
          "output_type": "display_data",
          "data": {
            "text/plain": [
              "interactive(children=(IntSlider(value=420000, description='station_size', max=750000, min=100000, step=10000),…"
            ],
            "application/vnd.jupyter.widget-view+json": {
              "version_major": 2,
              "version_minor": 0,
              "model_id": "4a2076ea766d4cdfbd795061625b025d"
            }
          },
          "metadata": {}
        },
        {
          "output_type": "execute_result",
          "data": {
            "text/plain": [
              "<function __main__.extended_lcoe(station_size, overnight_cost, fuel_efficiency, fuel_price, fixed_om_cost, var_om_cost, load_factor, discount_rate, technical_lifetime)>"
            ],
            "text/html": [
              "<div style=\"max-width:800px; border: 1px solid var(--colab-border-color);\"><style>\n",
              "      pre.function-repr-contents {\n",
              "        overflow-x: auto;\n",
              "        padding: 8px 12px;\n",
              "        max-height: 500px;\n",
              "      }\n",
              "\n",
              "      pre.function-repr-contents.function-repr-contents-collapsed {\n",
              "        cursor: pointer;\n",
              "        max-height: 100px;\n",
              "      }\n",
              "    </style>\n",
              "    <pre style=\"white-space: initial; background:\n",
              "         var(--colab-secondary-surface-color); padding: 8px 12px;\n",
              "         border-bottom: 1px solid var(--colab-border-color);\"><b>extended_lcoe</b><br/>def extended_lcoe(station_size, overnight_cost, fuel_efficiency, fuel_price, fixed_om_cost, var_om_cost, load_factor, discount_rate, technical_lifetime)</pre><pre class=\"function-repr-contents function-repr-contents-collapsed\" style=\"\"><a class=\"filepath\" style=\"display:none\" href=\"#\">/content/&lt;ipython-input-105-bb54ab3e1bc0&gt;</a>Calculates levelised cost of electricity as a function of useful parameters\n",
              "\n",
              "Parameters\n",
              "----------\n",
              "station_size : float\n",
              "    The capacity of the technology in kW\n",
              "overnight_cost : float\n",
              "    The capital cost of the technology in €\n",
              "fuel_efficiency : float\n",
              "    The ratio describing quantity of fuel required per unit of activity\n",
              "fuel_price : float\n",
              "    The price paid per unit of input fuel in €/kWh\n",
              "fixed_om_cost : float\n",
              "    The fixed operation and maintenance cost of the technology in €/kW\n",
              "load_factor : float\n",
              "    The percentage of the year in which the technology generates electricity in %.\n",
              "discount_rate : float\n",
              "    A decimal value less than 1\n",
              "technical_lifetime : int\n",
              "    Technical lifetime of the technology in years\n",
              "var_om_cost : float\n",
              "    Variable operational and maintenance cost\n",
              "    \n",
              "Returns\n",
              "-------\n",
              "float\n",
              "    The levelised cost of electricity in €/kWh</pre></div>"
            ]
          },
          "metadata": {},
          "execution_count": 107
        }
      ],
      "source": [
        "interact(extended_lcoe,\n",
        "         station_size=(100000,750000, 10000),\n",
        "         overnight_cost=(300, 2000),\n",
        "         fuel_efficiency=(0.3, 0.7, 0.01),\n",
        "         fuel_price=(0.00  , 0.20, 0.01),\n",
        "         fixed_om_cost=(1, 50, 0.001),\n",
        "         load_factor=(0.01, 1.0, 0.01),\n",
        "         discount_rate=(0.01, 0.30, 0.01),\n",
        "         technical_lifetime=(10, 60, 1),\n",
        "         var_om_cost=(0.0, 0.011, 0.001))"
      ]
    },
    {
      "cell_type": "markdown",
      "metadata": {
        "id": "lpPK4BHX92u4"
      },
      "source": [
        "### Stage 2 - Summary\n",
        "\n",
        "- In this stage, we calculated the levelised cost for a CCGT plant.\n",
        "- Then, we explored the LCOE equation interactively to try to understand what parameters influence the LCOE of a technology.\n",
        "\n",
        "In the next stage, we compare LCOE across technologies."
      ]
    },
    {
      "cell_type": "markdown",
      "metadata": {
        "id": "-skOf-ve92u5"
      },
      "source": [
        "<a name=\"Stage-3:-Comparing-technologies\"></a>\n",
        "# Stage 3: Comparing technologies\n",
        "\n",
        "In the previous stages, we developed our understanding of the LCOE equation, and applied it to one technology. Now comes the *really* fun part, where we develop a comparison across different technologies."
      ]
    },
    {
      "cell_type": "markdown",
      "metadata": {
        "id": "66fzx_XI92u5"
      },
      "source": [
        "We can now make a more advanced function that holds the logic to calculate LCOE when we have a number of extra input parameters. Now, we can pass a *list* (elements separated by commas inside square brackets) of parameter values, and the function returns a list of results.\n",
        "\n",
        "You don't need to change anything in the following function, just check it and run it."
      ]
    },
    {
      "cell_type": "code",
      "execution_count": 108,
      "metadata": {
        "id": "PazLYG1A92u5"
      },
      "outputs": [],
      "source": [
        "def calculate_technology(station_size, overnight_cost, fixed_om_cost, load_factors, efficiency,\n",
        "                         fuel_price, discount_rates, technical_lifetime, technology, var_om_cost):\n",
        "    \"\"\"Calculate LCOE for cartesian product of all parameter lists\n",
        "    \"\"\"\n",
        "    results = []  # Create a list to hold the observations\n",
        "\n",
        "    # Loop over cartesian product of parameter values\n",
        "    for (load_factor, discount_rate) in itertools.product(load_factors, discount_rates):\n",
        "\n",
        "        observation = {}  # Create a dictionary to store the observation\n",
        "\n",
        "        params = get_lcoe_input(station_size, overnight_cost, efficiency, technical_lifetime,\n",
        "                                fuel_price, fixed_om_cost, load_factor, var_om_cost)\n",
        "\n",
        "        lcoe = extended_lcoe(station_size, overnight_cost, efficiency, fuel_price, fixed_om_cost, var_om_cost,\n",
        "                             load_factor, discount_rate, technical_lifetime)\n",
        "\n",
        "        observation['Technology'] = technology\n",
        "        observation['StationSize'] = station_size\n",
        "        observation['OvernightCost'] = overnight_cost\n",
        "        observation['FixedOMCost'] = fixed_om_cost\n",
        "        observation['LoadFactor'] = load_factor\n",
        "        observation['Efficiency'] = efficiency\n",
        "        observation['FuelPrice'] = fuel_price\n",
        "        observation['DiscountRate'] = discount_rate\n",
        "        observation['Lifetime'] = technical_lifetime\n",
        "        observation['LCOE'] = lcoe\n",
        "\n",
        "        year = np.arange(technical_lifetime)\n",
        "        df = (1 + discount_rate) ** - year\n",
        "\n",
        "        observation['Fixed OM Cost'] = sum(df * params['total_fixed_om_cost']) / \\\n",
        "                                       sum(df * params['annual_electricity_generation'])\n",
        "        observation['Variable OM Cost'] = sum(df * params['total_variable_om_cost']) / \\\n",
        "                                          sum(df * params['annual_electricity_generation'])\n",
        "        observation['Capital Cost'] = params['capital_cost'] / \\\n",
        "                                      sum(df * params['annual_electricity_generation'])\n",
        "\n",
        "        results.append(observation)\n",
        "\n",
        "    return results"
      ]
    },
    {
      "cell_type": "markdown",
      "metadata": {
        "id": "LHTz8rk192u5"
      },
      "source": [
        "First, we'll use our new function to compare multiple technologies under their central operating characteristics, and explore how that changes under different discount rates. Run the folowing cell to pass all of the input values for each technology to the function. Give it a minute and you will se a plot below."
      ]
    },
    {
      "cell_type": "code",
      "execution_count": 109,
      "metadata": {
        "colab": {
          "base_uri": "https://localhost:8080/",
          "height": 542
        },
        "id": "S4p338dP92u5",
        "outputId": "9308ef30-9a02-4b66-8c54-bed3052ec93e"
      },
      "outputs": [
        {
          "output_type": "display_data",
          "data": {
            "text/html": [
              "<html>\n",
              "<head><meta charset=\"utf-8\" /></head>\n",
              "<body>\n",
              "    <div>            <script src=\"https://cdnjs.cloudflare.com/ajax/libs/mathjax/2.7.5/MathJax.js?config=TeX-AMS-MML_SVG\"></script><script type=\"text/javascript\">if (window.MathJax && window.MathJax.Hub && window.MathJax.Hub.Config) {window.MathJax.Hub.Config({SVG: {font: \"STIX-Web\"}});}</script>                <script type=\"text/javascript\">window.PlotlyConfig = {MathJaxConfig: 'local'};</script>\n",
              "        <script charset=\"utf-8\" src=\"https://cdn.plot.ly/plotly-2.24.1.min.js\"></script>                <div id=\"88e12177-5919-401b-9471-de811d545afb\" class=\"plotly-graph-div\" style=\"height:525px; width:100%;\"></div>            <script type=\"text/javascript\">                                    window.PLOTLYENV=window.PLOTLYENV || {};                                    if (document.getElementById(\"88e12177-5919-401b-9471-de811d545afb\")) {                    Plotly.newPlot(                        \"88e12177-5919-401b-9471-de811d545afb\",                        [{\"hovertemplate\":\"Technology=CCGT\\u003cbr\\u003eDiscountRate=0.05\\u003cbr\\u003eLoadFactor (%)=%{x}\\u003cbr\\u003eLCOE (\\u20ac\\u002fkW)=%{y}\\u003cextra\\u003e\\u003c\\u002fextra\\u003e\",\"legendgroup\":\"CCGT\",\"line\":{\"color\":\"#636efa\",\"dash\":\"solid\"},\"marker\":{\"symbol\":\"circle\"},\"mode\":\"lines\",\"name\":\"CCGT\",\"orientation\":\"v\",\"showlegend\":true,\"x\":[0.1,0.11,0.12,0.13,0.13999999999999999,0.14999999999999997,0.15999999999999998,0.16999999999999998,0.17999999999999997,0.18999999999999995,0.19999999999999996,0.20999999999999996,0.21999999999999995,0.22999999999999995,0.23999999999999994,0.24999999999999992,0.2599999999999999,0.2699999999999999,0.2799999999999999,0.2899999999999999,0.29999999999999993,0.30999999999999994,0.3199999999999999,0.32999999999999985,0.33999999999999986,0.34999999999999987,0.3599999999999999,0.3699999999999999,0.3799999999999999,0.3899999999999999,0.3999999999999998,0.4099999999999998,0.4199999999999998,0.4299999999999998,0.43999999999999984,0.44999999999999984,0.45999999999999985,0.46999999999999986,0.47999999999999976,0.48999999999999977,0.4999999999999998,0.5099999999999998,0.5199999999999998,0.5299999999999998,0.5399999999999998,0.5499999999999998,0.5599999999999997,0.5699999999999997,0.5799999999999997,0.5899999999999997,0.5999999999999998,0.6099999999999998,0.6199999999999998,0.6299999999999997,0.6399999999999997,0.6499999999999997,0.6599999999999997,0.6699999999999997,0.6799999999999997,0.6899999999999997,0.6999999999999996,0.7099999999999996,0.7199999999999996,0.7299999999999996,0.7399999999999997,0.7499999999999997,0.7599999999999997,0.7699999999999997,0.7799999999999997,0.7899999999999996,0.7999999999999996,0.8099999999999996,0.8199999999999996,0.8299999999999996,0.8399999999999996,0.8499999999999996,0.8599999999999995,0.8699999999999996,0.8799999999999996,0.8899999999999996,0.8999999999999996,0.9099999999999996,0.9199999999999996,0.9299999999999996,0.9399999999999996,0.9499999999999995,0.9599999999999995,0.9699999999999995,0.9799999999999995,0.9899999999999995],\"xaxis\":\"x\",\"y\":[0.1312789116921312,0.12570810153830106,0.12106575974344265,0.1171376243785624,0.11377065120866511,0.11085260779475407,0.10829931980758196,0.10604641864243008,0.10404383982896176,0.10225205878533224,0.1006394558460656,0.0991804341391101,0.09785405076915053,0.09664300508353531,0.09553287987172135,0.0945115646768525,0.09356881218928118,0.09269589321930788,0.09188532560433257,0.09113065920418317,0.09042630389737705,0.08976739086842939,0.08914965990379098,0.08856936717943369,0.08802320932121505,0.08750826048346608,0.08702191991448091,0.08656186802490033,0.08612602939266611,0.08571254145952083,0.08531972792303281,0.08494607602247103,0.08459021706955504,0.08425090969584445,0.08392702538457526,0.0836175359315847,0.08332150254176769,0.08303806631747476,0.08276643993586068,0.08250590034533291,0.08225578233842622,0.08201547288081003,0.08178440609464059,0.0815620588098361,0.08134794660965396,0.0811416203076602,0.08094266280216629,0.08075068626177741,0.08056532960209159,0.0803862562190053,0.0802131519486885,0.08004572322821822,0.07988369543421468,0.07972681137970335,0.07957482995189549,0.07942752487571247,0.07928468358971684,0.07914610622270613,0.07901160466060753,0.07888100169451176,0.07875413024173304,0.0786308326326945,0.07851095995724047,0.0783943714646755,0.07828093401245019,0.07817052155895085,0.07806301469633306,0.0779583002197573,0.07785627072976044,0.07775682426482672,0.0776598639615164,0.07756529773976925,0.07747303801123549,0.07738300140869048,0.0772951085347775,0.077209283728486,0.07712545484792223,0.07704355306806107,0.07696351269228763,0.07688527097664395,0.07680876796579232,0.0767339463397946,0.07666075127088384,0.07658913028947646,0.07651903315873738,0.07645041175706642,0.07638321996793034,0.07631741357650836,0.07625295017266645,0.0761897890598112],\"yaxis\":\"y\",\"type\":\"scatter\"},{\"hovertemplate\":\"Technology=CCGT\\u003cbr\\u003eDiscountRate=0.1\\u003cbr\\u003eLoadFactor (%)=%{x}\\u003cbr\\u003eLCOE (\\u20ac\\u002fkW)=%{y}\\u003cextra\\u003e\\u003c\\u002fextra\\u003e\",\"legendgroup\":\"CCGT\",\"line\":{\"color\":\"#636efa\",\"dash\":\"solid\"},\"marker\":{\"symbol\":\"circle\"},\"mode\":\"lines\",\"name\":\"CCGT\",\"orientation\":\"v\",\"showlegend\":false,\"x\":[0.1,0.11,0.12,0.13,0.13999999999999999,0.14999999999999997,0.15999999999999998,0.16999999999999998,0.17999999999999997,0.18999999999999995,0.19999999999999996,0.20999999999999996,0.21999999999999995,0.22999999999999995,0.23999999999999994,0.24999999999999992,0.2599999999999999,0.2699999999999999,0.2799999999999999,0.2899999999999999,0.29999999999999993,0.30999999999999994,0.3199999999999999,0.32999999999999985,0.33999999999999986,0.34999999999999987,0.3599999999999999,0.3699999999999999,0.3799999999999999,0.3899999999999999,0.3999999999999998,0.4099999999999998,0.4199999999999998,0.4299999999999998,0.43999999999999984,0.44999999999999984,0.45999999999999985,0.46999999999999986,0.47999999999999976,0.48999999999999977,0.4999999999999998,0.5099999999999998,0.5199999999999998,0.5299999999999998,0.5399999999999998,0.5499999999999998,0.5599999999999997,0.5699999999999997,0.5799999999999997,0.5899999999999997,0.5999999999999998,0.6099999999999998,0.6199999999999998,0.6299999999999997,0.6399999999999997,0.6499999999999997,0.6599999999999997,0.6699999999999997,0.6799999999999997,0.6899999999999997,0.6999999999999996,0.7099999999999996,0.7199999999999996,0.7299999999999996,0.7399999999999997,0.7499999999999997,0.7599999999999997,0.7699999999999997,0.7799999999999997,0.7899999999999996,0.7999999999999996,0.8099999999999996,0.8199999999999996,0.8299999999999996,0.8399999999999996,0.8499999999999996,0.8599999999999995,0.8699999999999996,0.8799999999999996,0.8899999999999996,0.8999999999999996,0.9099999999999996,0.9199999999999996,0.9299999999999996,0.9399999999999996,0.9499999999999995,0.9599999999999995,0.9699999999999995,0.9799999999999995,0.9899999999999995],\"xaxis\":\"x2\",\"y\":[0.15917191172946832,0.15106537429951666,0.1443099264412236,0.13859377825343716,0.13369422266390607,0.1294479411529789,0.12573244483091767,0.12245406572321667,0.11953995096081578,0.11693258512077286,0.11458595586473416,0.11246281510927061,0.11053268714975839,0.10877039640411663,0.10715496322061181,0.10566876469178735,0.1042968891267186,0.10302663397387717,0.10184711133195304,0.10074893507912701,0.09972397057648942,0.09876513281595753,0.09786622241545885,0.09702179143317224,0.09622703286160837,0.09547768906556238,0.09476997548040791,0.09410051668364004,0.09346629256038642,0.09286459275114574,0.0922929779323671,0.09174924676328497,0.09123140755463531,0.09073765389057405,0.0902663435748792,0.08981598038432631,0.08938519820205833,0.08897274717648262,0.08857748161030592,0.08819834933254454,0.08783438234589369,0.08748468857440556,0.08714844456335928,0.08682488900556005,0.08651331698693858,0.08621307485990334,0.08592355566597654,0.08564419504025757,0.08537446753956351,0.0851138833439777,0.08486198528824472,0.08461834618515879,0.0843825664079788,0.08415427170309021,0.08393311120772944,0.08371875565068743,0.08351089571658611,0.08330924055663706,0.08311351643080418,0.0829234654680389,0.08273884453278119,0.08255942418724904,0.08238498774020395,0.08221533037389979,0.08205025834182005,0.08188958823059578,0.08173314628019322,0.0815807677570738,0.08143229637557288,0.08128758376322383,0.08114648896618355,0.08100887799129236,0.08087462338164249,0.08074360382282755,0.08061570377731765,0.08049081314464336,0.08036882694528699,0.08024964502637569,0.08013317178743962,0.08001931592465934,0.07990799019216314,0.07979911117906247,0.07969259910102917,0.07958837760531919,0.0794863735882413,0.07938651702415457,0.07928874080515297,0.0791929805906668,0.07909917466627228,0.07900726381105742],\"yaxis\":\"y2\",\"type\":\"scatter\"},{\"hovertemplate\":\"Technology=Coal\\u003cbr\\u003eDiscountRate=0.05\\u003cbr\\u003eLoadFactor (%)=%{x}\\u003cbr\\u003eLCOE (\\u20ac\\u002fkW)=%{y}\\u003cextra\\u003e\\u003c\\u002fextra\\u003e\",\"legendgroup\":\"Coal\",\"line\":{\"color\":\"#EF553B\",\"dash\":\"solid\"},\"marker\":{\"symbol\":\"circle\"},\"mode\":\"lines\",\"name\":\"Coal\",\"orientation\":\"v\",\"showlegend\":true,\"x\":[0.1,0.11,0.12,0.13,0.13999999999999999,0.14999999999999997,0.15999999999999998,0.16999999999999998,0.17999999999999997,0.18999999999999995,0.19999999999999996,0.20999999999999996,0.21999999999999995,0.22999999999999995,0.23999999999999994,0.24999999999999992,0.2599999999999999,0.2699999999999999,0.2799999999999999,0.2899999999999999,0.29999999999999993,0.30999999999999994,0.3199999999999999,0.32999999999999985,0.33999999999999986,0.34999999999999987,0.3599999999999999,0.3699999999999999,0.3799999999999999,0.3899999999999999,0.3999999999999998,0.4099999999999998,0.4199999999999998,0.4299999999999998,0.43999999999999984,0.44999999999999984,0.45999999999999985,0.46999999999999986,0.47999999999999976,0.48999999999999977,0.4999999999999998,0.5099999999999998,0.5199999999999998,0.5299999999999998,0.5399999999999998,0.5499999999999998,0.5599999999999997,0.5699999999999997,0.5799999999999997,0.5899999999999997,0.5999999999999998,0.6099999999999998,0.6199999999999998,0.6299999999999997,0.6399999999999997,0.6499999999999997,0.6599999999999997,0.6699999999999997,0.6799999999999997,0.6899999999999997,0.6999999999999996,0.7099999999999996,0.7199999999999996,0.7299999999999996,0.7399999999999997,0.7499999999999997,0.7599999999999997,0.7699999999999997,0.7799999999999997,0.7899999999999996,0.7999999999999996,0.8099999999999996,0.8199999999999996,0.8299999999999996,0.8399999999999996,0.8499999999999996,0.8599999999999995,0.8699999999999996,0.8799999999999996,0.8899999999999996,0.8999999999999996,0.9099999999999996,0.9199999999999996,0.9299999999999996,0.9399999999999996,0.9499999999999995,0.9599999999999995,0.9699999999999995,0.9799999999999995,0.9899999999999995],\"xaxis\":\"x\",\"y\":[0.17350121163481158,0.16091019239528329,0.150417676362343,0.14153939356523967,0.13392943688200828,0.12733414108987434,0.12156325727175726,0.1164713009616539,0.11194511757489536,0.10789537454463773,0.1042506058174058,0.10095295792133882,0.09795509619764166,0.09521791810209203,0.09270883818117151,0.09040048465392468,0.08826969678261984,0.08629674504993022,0.08446471844100417,0.08275903849476265,0.08116707054493719,0.07967781020477795,0.07828162863587866,0.0769700641317611,0.07573565048082696,0.07457177475280334,0.07347255878744767,0.07243275990130041,0.07144768727231887,0.07051313118841325,0.06962530290870293,0.06878078332556381,0.06797647896066945,0.06720958410111898,0.06647754809882084,0.06577804702995813,0.06510895905104602,0.06446834290102375,0.06385441909058576,0.06326555339485956,0.06270024232696235,0.0621571003205513,0.06163484839130992,0.061132304082039936,0.06064837252496511,0.06018203847905667,0.059732359220502074,0.059298458181545895,0.05887951924738134,0.058474781633018925,0.05808353527246859,0.05770511666144454,0.057338905102388996,0.056984319307112945,0.056640814317939325,0.056307878713047946,0.055985032065880555,0.05567182263206146,0.05536782524041346,0.05507263936736402,0.05478588737640168,0.054507212906311504,0.054236279393723864,0.05397276871709749,0.053716379950650206,0.05346682821797489,0.05322384363615944,0.05298717034218335,0.052756565594206606,0.052531798941115405,0.05231265145435147,0.05209891501664343,0.05189039166278189,0.0516868929680496,0.051488239480334735,0.051294260192330784,0.05110479205055949,0.050919679498254225,0.05073877404941043,0.05056193389155188,0.05038902351497907,0.05021991336646282,0.05005447952552303,0.04989260340159264,0.049734171450511885,0.049579074908927545,0.049427209545292894,0.049278475426269217,0.04913277669742978,0.048990021377253695],\"yaxis\":\"y\",\"type\":\"scatter\"},{\"hovertemplate\":\"Technology=Coal\\u003cbr\\u003eDiscountRate=0.1\\u003cbr\\u003eLoadFactor (%)=%{x}\\u003cbr\\u003eLCOE (\\u20ac\\u002fkW)=%{y}\\u003cextra\\u003e\\u003c\\u002fextra\\u003e\",\"legendgroup\":\"Coal\",\"line\":{\"color\":\"#EF553B\",\"dash\":\"solid\"},\"marker\":{\"symbol\":\"circle\"},\"mode\":\"lines\",\"name\":\"Coal\",\"orientation\":\"v\",\"showlegend\":false,\"x\":[0.1,0.11,0.12,0.13,0.13999999999999999,0.14999999999999997,0.15999999999999998,0.16999999999999998,0.17999999999999997,0.18999999999999995,0.19999999999999996,0.20999999999999996,0.21999999999999995,0.22999999999999995,0.23999999999999994,0.24999999999999992,0.2599999999999999,0.2699999999999999,0.2799999999999999,0.2899999999999999,0.29999999999999993,0.30999999999999994,0.3199999999999999,0.32999999999999985,0.33999999999999986,0.34999999999999987,0.3599999999999999,0.3699999999999999,0.3799999999999999,0.3899999999999999,0.3999999999999998,0.4099999999999998,0.4199999999999998,0.4299999999999998,0.43999999999999984,0.44999999999999984,0.45999999999999985,0.46999999999999986,0.47999999999999976,0.48999999999999977,0.4999999999999998,0.5099999999999998,0.5199999999999998,0.5299999999999998,0.5399999999999998,0.5499999999999998,0.5599999999999997,0.5699999999999997,0.5799999999999997,0.5899999999999997,0.5999999999999998,0.6099999999999998,0.6199999999999998,0.6299999999999997,0.6399999999999997,0.6499999999999997,0.6599999999999997,0.6699999999999997,0.6799999999999997,0.6899999999999997,0.6999999999999996,0.7099999999999996,0.7199999999999996,0.7299999999999996,0.7399999999999997,0.7499999999999997,0.7599999999999997,0.7699999999999997,0.7799999999999997,0.7899999999999996,0.7999999999999996,0.8099999999999996,0.8199999999999996,0.8299999999999996,0.8399999999999996,0.8499999999999996,0.8599999999999995,0.8699999999999996,0.8799999999999996,0.8899999999999996,0.8999999999999996,0.9099999999999996,0.9199999999999996,0.9299999999999996,0.9399999999999996,0.9499999999999995,0.9599999999999995,0.9699999999999995,0.9799999999999995,0.9899999999999995],\"xaxis\":\"x2\",\"y\":[0.2559209321708126,0.23583721106437508,0.2191007768090104,0.20493917859293276,0.19280066583629482,0.18228062144720844,0.17307558260675793,0.1649534895122428,0.15773385120600703,0.15127417482674352,0.1454604660854063,0.14020044389086325,0.13541860553218757,0.1310525792047012,0.12705038840450525,0.12336837286832505,0.11996958929646642,0.11682256747067137,0.1139003329181474,0.1111796317830389,0.10864031072360425,0.10626481682929442,0.10403779130337897,0.10194573702145844,0.09997674475612144,0.09812026633451794,0.09636692560300351,0.09470836004616556,0.09313708741337176,0.09164639286431094,0.09023023304270318,0.08888315418800309,0.08760022194543166,0.08637696096995645,0.08520930276609383,0.08409354048240283,0.08302628960235059,0.08200445365336438,0.08102519420225263,0.08008590452465568,0.07918418643416252,0.07831782983741425,0.0774847946482332,0.07668319474920997,0.07591128373533569,0.07516744221287502,0.0744501664590737,0.0737580582755812,0.07308981589151946,0.07244422579166317,0.07182015536180214,0.07121654625751027,0.07063240841464721,0.07006681463028772,0.06951889565168948,0.06898783571858659,0.06847286851072922,0.06797327345833029,0.06748837237806073,0.06701752640156708,0.06656013316725899,0.06611562424941025,0.0656834628015018,0.06526314139326202,0.0648541800230828,0.06445612428944171,0.06406854370668588,0.06369103015205362,0.06332319643215545,0.06296467495833073,0.06261511652135159,0.06227418915689046,0.06194157709400156,0.06161697977961598,0.06130011097271583,0.06099069790244853,0.06068848048497823,0.06039321059434632,0.060104651383046916,0.05982257664840593,0.05954677024120142,0.05927702551327611,0.059013144801175296,0.05875493894309814,0.058502226826682206,0.058254834965348695,0.058012597101126315,0.05777535383204256,0.05754295226232783,0.05731524567381949],\"yaxis\":\"y2\",\"type\":\"scatter\"},{\"hovertemplate\":\"Technology=Nuclear\\u003cbr\\u003eDiscountRate=0.05\\u003cbr\\u003eLoadFactor (%)=%{x}\\u003cbr\\u003eLCOE (\\u20ac\\u002fkW)=%{y}\\u003cextra\\u003e\\u003c\\u002fextra\\u003e\",\"legendgroup\":\"Nuclear\",\"line\":{\"color\":\"#00cc96\",\"dash\":\"solid\"},\"marker\":{\"symbol\":\"circle\"},\"mode\":\"lines\",\"name\":\"Nuclear\",\"orientation\":\"v\",\"showlegend\":true,\"x\":[0.1,0.11,0.12,0.13,0.13999999999999999,0.14999999999999997,0.15999999999999998,0.16999999999999998,0.17999999999999997,0.18999999999999995,0.19999999999999996,0.20999999999999996,0.21999999999999995,0.22999999999999995,0.23999999999999994,0.24999999999999992,0.2599999999999999,0.2699999999999999,0.2799999999999999,0.2899999999999999,0.29999999999999993,0.30999999999999994,0.3199999999999999,0.32999999999999985,0.33999999999999986,0.34999999999999987,0.3599999999999999,0.3699999999999999,0.3799999999999999,0.3899999999999999,0.3999999999999998,0.4099999999999998,0.4199999999999998,0.4299999999999998,0.43999999999999984,0.44999999999999984,0.45999999999999985,0.46999999999999986,0.47999999999999976,0.48999999999999977,0.4999999999999998,0.5099999999999998,0.5199999999999998,0.5299999999999998,0.5399999999999998,0.5499999999999998,0.5599999999999997,0.5699999999999997,0.5799999999999997,0.5899999999999997,0.5999999999999998,0.6099999999999998,0.6199999999999998,0.6299999999999997,0.6399999999999997,0.6499999999999997,0.6599999999999997,0.6699999999999997,0.6799999999999997,0.6899999999999997,0.6999999999999996,0.7099999999999996,0.7199999999999996,0.7299999999999996,0.7399999999999997,0.7499999999999997,0.7599999999999997,0.7699999999999997,0.7799999999999997,0.7899999999999996,0.7999999999999996,0.8099999999999996,0.8199999999999996,0.8299999999999996,0.8399999999999996,0.8499999999999996,0.8599999999999995,0.8699999999999996,0.8799999999999996,0.8899999999999996,0.8999999999999996,0.9099999999999996,0.9199999999999996,0.9299999999999996,0.9399999999999996,0.9499999999999995,0.9599999999999995,0.9699999999999995,0.9799999999999995,0.9899999999999995],\"xaxis\":\"x\",\"y\":[0.29277104771234447,0.26820095246576753,0.2477258730936202,0.23040080593257256,0.2155507483659603,0.2026806984748963,0.19141940482021522,0.18148296924255553,0.17265058206241357,0.16474791984860226,0.15763552385617227,0.15120049891064022,0.1453504762328838,0.14000915117928012,0.13511293654681014,0.1306084190849377,0.12645040296628632,0.12260038804160905,0.11902537418298018,0.1156969130042567,0.11259034923744815,0.10968420893946594,0.10695970241010762,0.10440031748858923,0.1019914846212778,0.09972029934638414,0.09757529103120682,0.09554622911144442,0.09362395992430114,0.09180026864419089,0.09006776192808615,0.08841976773471817,0.08685024945532013,0.08535373202612659,0.08392523811644192,0.0825602328249654,0.08125457558964005,0.08000447823666904,0.07880646827340507,0.07765735667598868,0.07655420954246886,0.07549432308085188,0.07447520148314316,0.07349453730421593,0.07255019402080452,0.07164019049315352,0.0707626870914901,0.06991597328286746,0.06909845650212837,0.06830865215463465,0.0675451746187241,0.06680672913317126,0.06609210446973296,0.06540016630354675,0.06472985120505384,0.06408016118651452,0.0634501587442946,0.06283896234512604,0.06224574231063889,0.061669717059760085,0.061110149673192095,0.0605663447482175,0.0600376455156034,0.059523431193471844,0.05902311455572223,0.05853613969497924,0.0580619799621506,0.05760013606653823,0.05715013432209543,0.056711525026879026,0.05628388096404308,0.05586679601386966,0.05545988386735908,0.055062776832812584,0.05467512472766008,0.05429659384851113,0.0539268660130633,0.0535656376680856,0.05321261905822097,0.052867533450825226,0.05253011641248269,0.052200115133224666,0.05187728779482002,0.05156140297982198,0.05125223911833453,0.05094958396972047,0.05065323413670253,0.05036299460952004,0.05007867833799434,0.04980010582952976],\"yaxis\":\"y\",\"type\":\"scatter\"},{\"hovertemplate\":\"Technology=Nuclear\\u003cbr\\u003eDiscountRate=0.1\\u003cbr\\u003eLoadFactor (%)=%{x}\\u003cbr\\u003eLCOE (\\u20ac\\u002fkW)=%{y}\\u003cextra\\u003e\\u003c\\u002fextra\\u003e\",\"legendgroup\":\"Nuclear\",\"line\":{\"color\":\"#00cc96\",\"dash\":\"solid\"},\"marker\":{\"symbol\":\"circle\"},\"mode\":\"lines\",\"name\":\"Nuclear\",\"orientation\":\"v\",\"showlegend\":false,\"x\":[0.1,0.11,0.12,0.13,0.13999999999999999,0.14999999999999997,0.15999999999999998,0.16999999999999998,0.17999999999999997,0.18999999999999995,0.19999999999999996,0.20999999999999996,0.21999999999999995,0.22999999999999995,0.23999999999999994,0.24999999999999992,0.2599999999999999,0.2699999999999999,0.2799999999999999,0.2899999999999999,0.29999999999999993,0.30999999999999994,0.3199999999999999,0.32999999999999985,0.33999999999999986,0.34999999999999987,0.3599999999999999,0.3699999999999999,0.3799999999999999,0.3899999999999999,0.3999999999999998,0.4099999999999998,0.4199999999999998,0.4299999999999998,0.43999999999999984,0.44999999999999984,0.45999999999999985,0.46999999999999986,0.47999999999999976,0.48999999999999977,0.4999999999999998,0.5099999999999998,0.5199999999999998,0.5299999999999998,0.5399999999999998,0.5499999999999998,0.5599999999999997,0.5699999999999997,0.5799999999999997,0.5899999999999997,0.5999999999999998,0.6099999999999998,0.6199999999999998,0.6299999999999997,0.6399999999999997,0.6499999999999997,0.6599999999999997,0.6699999999999997,0.6799999999999997,0.6899999999999997,0.6999999999999996,0.7099999999999996,0.7199999999999996,0.7299999999999996,0.7399999999999997,0.7499999999999997,0.7599999999999997,0.7699999999999997,0.7799999999999997,0.7899999999999996,0.7999999999999996,0.8099999999999996,0.8199999999999996,0.8299999999999996,0.8399999999999996,0.8499999999999996,0.8599999999999995,0.8699999999999996,0.8799999999999996,0.8899999999999996,0.8999999999999996,0.9099999999999996,0.9199999999999996,0.9299999999999996,0.9399999999999996,0.9499999999999995,0.9599999999999995,0.9699999999999995,0.9799999999999995,0.9899999999999995],\"xaxis\":\"x2\",\"y\":[0.49579419178864653,0.45276744708058775,0.41691182649053915,0.3865724552220361,0.36056727984903325,0.33802946119243116,0.3183088698679043,0.30090834811096884,0.2854412176603594,0.27160220620455117,0.2591470958943234,0.24787818656602242,0.23763372354029397,0.2282800833863683,0.21970591324526956,0.21181767671545887,0.20453622761101814,0.1977941451069063,0.19153363992451666,0.18570489372022314,0.1802647305962156,0.17517554573827326,0.17040443493395221,0.1659224823601961,0.16170417405548446,0.15772691193961352,0.15397060883017974,0.15041734913206678,0.1470511031022756,0.14385748507401203,0.14082354794716173,0.13793760775332856,0.1351890932830113,0.1325684166950342,0.13006686177014698,0.1276764870641438,0.12539004169318416,0.12320089186992493,0.1211029566226348,0.11909065138543815,0.11715883835772944,0.11530278270365628,0.11351811380550907,0.11180079090351834,0.11014707255345313,0.10855348941611764,0.10701681996225833,0.10553406873485037,0.1041024468601116,0.10271935454044866,0.10138236529810786,0.10008921176863061,0.09883777286913663,0.09762606218867412,0.0964522174669761,0.0953144910444072,0.09421124118009806,0.09314092414755928,0.09210208702774224,0.09109336112878945,0.09011345596980676,0.0891611537730489,0.08823530441508988,0.08733482079296531,0.08645867456603337,0.08560589223848628,0.08477555155113782,0.08396677815436979,0.08317874253700602,0.08241065718843636,0.08166177397358086,0.0809313817023021,0.08021880387666427,0.07952339660104175,0.07884454664150566,0.07818166962219379,0.0775342083475171,0.07690163124007435,0.0762834308850735,0.07567912267288171,0.07508824353207193,0.07451035074600516,0.07394502084659209,0.07339184857942442,0.07285044593496247,0.07232044124091025,0.07180147831131743,0.07129321564831415,0.07079532569271907,0.07030749412006536],\"yaxis\":\"y2\",\"type\":\"scatter\"},{\"hovertemplate\":\"Technology=CSP\\u003cbr\\u003eDiscountRate=0.05\\u003cbr\\u003eLoadFactor (%)=%{x}\\u003cbr\\u003eLCOE (\\u20ac\\u002fkW)=%{y}\\u003cextra\\u003e\\u003c\\u002fextra\\u003e\",\"legendgroup\":\"CSP\",\"line\":{\"color\":\"#ab63fa\",\"dash\":\"solid\"},\"marker\":{\"symbol\":\"circle\"},\"mode\":\"lines\",\"name\":\"CSP\",\"orientation\":\"v\",\"showlegend\":true,\"x\":[0.1,0.11,0.12,0.13,0.13999999999999999,0.14999999999999997,0.15999999999999998,0.16999999999999998,0.17999999999999997,0.18999999999999995,0.19999999999999996,0.20999999999999996,0.21999999999999995,0.22999999999999995,0.23999999999999994,0.24999999999999992,0.2599999999999999,0.2699999999999999,0.2799999999999999,0.2899999999999999,0.29999999999999993,0.30999999999999994,0.3199999999999999,0.32999999999999985,0.33999999999999986,0.34999999999999987,0.3599999999999999,0.3699999999999999,0.3799999999999999,0.3899999999999999,0.3999999999999998,0.4099999999999998,0.4199999999999998,0.4299999999999998,0.43999999999999984,0.44999999999999984,0.45999999999999985,0.46999999999999986,0.47999999999999976,0.48999999999999977,0.4999999999999998,0.5099999999999998,0.5199999999999998,0.5299999999999998,0.5399999999999998,0.5499999999999998,0.5599999999999997,0.5699999999999997,0.5799999999999997,0.5899999999999997,0.5999999999999998,0.6099999999999998,0.6199999999999998,0.6299999999999997,0.6399999999999997,0.6499999999999997,0.6599999999999997,0.6699999999999997,0.6799999999999997,0.6899999999999997,0.6999999999999996,0.7099999999999996,0.7199999999999996,0.7299999999999996,0.7399999999999997,0.7499999999999997,0.7599999999999997,0.7699999999999997,0.7799999999999997,0.7899999999999996,0.7999999999999996,0.8099999999999996,0.8199999999999996,0.8299999999999996,0.8399999999999996,0.8499999999999996,0.8599999999999995,0.8699999999999996,0.8799999999999996,0.8899999999999996,0.8999999999999996,0.9099999999999996,0.9199999999999996,0.9299999999999996,0.9399999999999996,0.9499999999999995,0.9599999999999995,0.9699999999999995,0.9799999999999995,0.9899999999999995],\"xaxis\":\"x\",\"y\":[0.3076788985405352,0.2806171804913956,0.2580657487837793,0.23898376810810398,0.22262778467181088,0.20845259902702348,0.19604931158783453,0.18510523443560897,0.17537716585585295,0.16667310449501857,0.1588394492702676,0.15175185644787387,0.14530859024569784,0.13942560806110227,0.1340328743918897,0.12907155941621412,0.12449188405405205,0.12025144390390197,0.11631389233590546,0.11264789604846044,0.10922629951351175,0.10602545114210812,0.1030246557939173,0.10020572683046525,0.09755261721780452,0.09505111386872438,0.09268858292792648,0.0904537563623068,0.08833655224750929,0.08632792270270134,0.08441972463513385,0.08260460940013056,0.08087592822393695,0.07922765082338028,0.07765429512284894,0.07615086634234117,0.07471280403055115,0.07333593585968834,0.07201643719594485,0.0707507956205174,0.06953577970810706,0.06836841147853631,0.06724594202702602,0.06616582991330855,0.06512572195195099,0.06412343609827914,0.06315694616795273,0.06222436816500619,0.06132394802423022,0.06045405060009073,0.059613149756755884,0.05879981943287464,0.05801272557105408,0.057250618815957985,0.05651232789695864,0.05579675362162081,0.05510286341523263,0.05442968634933364,0.05377630860890226,0.053141869353700785,0.0525255569343622,0.051926605428244406,0.05134429146396324,0.050777931306922645,0.05022687818115341,0.04969051980540471,0.04916827612375465,0.04865959721305655,0.048163961351350676,0.047680873232979155,0.04720986231756693,0.04675048130130066,0.04630230470006528,0.04586492753500424,0.04543796411196848,0.0450210468871218,0.04461382541169015,0.044215965349486824,0.043827147561424466,0.043447067251745526,0.04307543317117058,0.04271196687258629,0.04235640201527559,0.04200848371403605,0.041667967929844174,0.041334620899003714,0.04100821859797243,0.04068854624129229,0.04037539781025871,0.040068575610155074],\"yaxis\":\"y\",\"type\":\"scatter\"},{\"hovertemplate\":\"Technology=CSP\\u003cbr\\u003eDiscountRate=0.1\\u003cbr\\u003eLoadFactor (%)=%{x}\\u003cbr\\u003eLCOE (\\u20ac\\u002fkW)=%{y}\\u003cextra\\u003e\\u003c\\u002fextra\\u003e\",\"legendgroup\":\"CSP\",\"line\":{\"color\":\"#ab63fa\",\"dash\":\"solid\"},\"marker\":{\"symbol\":\"circle\"},\"mode\":\"lines\",\"name\":\"CSP\",\"orientation\":\"v\",\"showlegend\":false,\"x\":[0.1,0.11,0.12,0.13,0.13999999999999999,0.14999999999999997,0.15999999999999998,0.16999999999999998,0.17999999999999997,0.18999999999999995,0.19999999999999996,0.20999999999999996,0.21999999999999995,0.22999999999999995,0.23999999999999994,0.24999999999999992,0.2599999999999999,0.2699999999999999,0.2799999999999999,0.2899999999999999,0.29999999999999993,0.30999999999999994,0.3199999999999999,0.32999999999999985,0.33999999999999986,0.34999999999999987,0.3599999999999999,0.3699999999999999,0.3799999999999999,0.3899999999999999,0.3999999999999998,0.4099999999999998,0.4199999999999998,0.4299999999999998,0.43999999999999984,0.44999999999999984,0.45999999999999985,0.46999999999999986,0.47999999999999976,0.48999999999999977,0.4999999999999998,0.5099999999999998,0.5199999999999998,0.5299999999999998,0.5399999999999998,0.5499999999999998,0.5599999999999997,0.5699999999999997,0.5799999999999997,0.5899999999999997,0.5999999999999998,0.6099999999999998,0.6199999999999998,0.6299999999999997,0.6399999999999997,0.6499999999999997,0.6599999999999997,0.6699999999999997,0.6799999999999997,0.6899999999999997,0.6999999999999996,0.7099999999999996,0.7199999999999996,0.7299999999999996,0.7399999999999997,0.7499999999999997,0.7599999999999997,0.7699999999999997,0.7799999999999997,0.7899999999999996,0.7999999999999996,0.8099999999999996,0.8199999999999996,0.8299999999999996,0.8399999999999996,0.8499999999999996,0.8599999999999995,0.8699999999999996,0.8799999999999996,0.8899999999999996,0.8999999999999996,0.9099999999999996,0.9199999999999996,0.9299999999999996,0.9399999999999996,0.9499999999999995,0.9599999999999995,0.9699999999999995,0.9799999999999995,0.9899999999999995],\"xaxis\":\"x2\",\"y\":[0.4484455720622967,0.408586883692997,0.3753713100519138,0.3472658246633052,0.32317540861592636,0.30229704804153124,0.2840284825389356,0.2679091600366453,0.25358087336794266,0.24076082740120885,0.22922278603114837,0.21878360574395098,0.2092934418464986,0.200628509592303,0.19268565502595703,0.18537822882491875,0.17863291233165268,0.17238724891196186,0.16658770430796316,0.1611881282973438,0.15614852402076562,0.15143405550396674,0.1470142412694678,0.14286229456433247,0.1389545800183227,0.13527016344637052,0.13179043668397136,0.1284988032600802,0.12538041370060443,0.1224219415544351,0.11961139301557426,0.11693794440543825,0.1143918028719755,0.11196408652611557,0.10964672092324933,0.10743234934717709,0.1053142547961515,0.10328629192814827,0.10134282751297853,0.09947868817597899,0.0976891144124594,0.0959697200122151,0.09431645616582633,0.09272557963439568,0.09119362445598092,0.08971737673859943,0.0882938521539816,0.08692027580040297,0.08559406414867192,0.08431280882411814,0.08307426201038284,0.08187632328890111,0.08071702775198338,0.07959453524798363,0.0785071206347339,0.07745316493266108,0.07643114728216624,0.07543963762123836,0.07447729000916135,0.07354283653076767,0.07263508172318527,0.07175289747356298,0.07089521834198571,0.0700610372688078,0.06924940163004013,0.06845940960830625,0.06769020685030222,0.06694098338471388,0.06621097077721755,0.06549943950155657,0.06480569650778713,0.06412908297065395,0.06346897220271913,0.06282476771834902,0.06219590143598776,0.06158183200732902,0.060982043263057784,0.06039604276578127,0.059823360461624675,0.05926354742272999,0.05871617467358855,0.05818083209475791,0.057657127398075755,0.057144685167988915,0.05664314596407414,0.056152165480241774,0.05567141375648926,0.05520057443941206,0.0547393440879895,0.054287431521444135],\"yaxis\":\"y2\",\"type\":\"scatter\"},{\"hovertemplate\":\"Technology=Wind\\u003cbr\\u003eDiscountRate=0.05\\u003cbr\\u003eLoadFactor (%)=%{x}\\u003cbr\\u003eLCOE (\\u20ac\\u002fkW)=%{y}\\u003cextra\\u003e\\u003c\\u002fextra\\u003e\",\"legendgroup\":\"Wind\",\"line\":{\"color\":\"#FFA15A\",\"dash\":\"solid\"},\"marker\":{\"symbol\":\"circle\"},\"mode\":\"lines\",\"name\":\"Wind\",\"orientation\":\"v\",\"showlegend\":true,\"x\":[0.1,0.11,0.12,0.13,0.13999999999999999,0.14999999999999997,0.15999999999999998,0.16999999999999998,0.17999999999999997,0.18999999999999995,0.19999999999999996,0.20999999999999996,0.21999999999999995,0.22999999999999995,0.23999999999999994,0.24999999999999992,0.2599999999999999,0.2699999999999999,0.2799999999999999,0.2899999999999999,0.29999999999999993,0.30999999999999994,0.3199999999999999,0.32999999999999985,0.33999999999999986,0.34999999999999987,0.3599999999999999,0.3699999999999999,0.3799999999999999,0.3899999999999999,0.3999999999999998,0.4099999999999998,0.4199999999999998,0.4299999999999998,0.43999999999999984,0.44999999999999984,0.45999999999999985,0.46999999999999986,0.47999999999999976,0.48999999999999977,0.4999999999999998,0.5099999999999998,0.5199999999999998,0.5299999999999998,0.5399999999999998,0.5499999999999998,0.5599999999999997,0.5699999999999997,0.5799999999999997,0.5899999999999997,0.5999999999999998,0.6099999999999998,0.6199999999999998,0.6299999999999997,0.6399999999999997,0.6499999999999997,0.6599999999999997,0.6699999999999997,0.6799999999999997,0.6899999999999997,0.6999999999999996,0.7099999999999996,0.7199999999999996,0.7299999999999996,0.7399999999999997,0.7499999999999997,0.7599999999999997,0.7699999999999997,0.7799999999999997,0.7899999999999996,0.7999999999999996,0.8099999999999996,0.8199999999999996,0.8299999999999996,0.8399999999999996,0.8499999999999996,0.8599999999999995,0.8699999999999996,0.8799999999999996,0.8899999999999996,0.8999999999999996,0.9099999999999996,0.9199999999999996,0.9299999999999996,0.9399999999999996,0.9499999999999995,0.9599999999999995,0.9699999999999995,0.9799999999999995,0.9899999999999995],\"xaxis\":\"x\",\"y\":[0.09494991167544639,0.08632719243222396,0.07914159306287197,0.07306147051957414,0.06784993691103315,0.06333327445029761,0.059381194797154015,0.055894065691439024,0.052794395375248,0.050021006144971784,0.047524955837723204,0.04526662460735544,0.043213596216112,0.04133909203280279,0.039620796531436006,0.03803996467017856,0.036580735259787084,0.03522959691683201,0.03397496845551658,0.03280686609498152,0.03171663722514881,0.030696745701756917,0.02974059739857701,0.028842397477408015,0.02799703284571953,0.027199974764413264,0.02644719768762401,0.02573511126363416,0.025060503072485894,0.02442049017319138,0.02381247791886161,0.023234124798889377,0.02268331230367773,0.02215811899428987,0.021656798108056,0.021177758150099205,0.020719546016401396,0.020280832271371573,0.01986039826571801,0.019457124831723766,0.019069982335089285,0.018698021897146356,0.018340367629893543,0.017996209750084223,0.017664798458416005,0.017345438486444806,0.017037484227758297,0.01674033538165727,0.016453433047490765,0.016176256216177364,0.015908318612574402,0.015649165848433837,0.015398372850878457,0.015155541535785147,0.014920298699288504,0.014692294103914835,0.014471198738704007,0.01425670323514126,0.014048516422859765,0.013846364010934264,0.013649987382206633,0.013459142489499499,0.013273598843812004,0.013093138585677587,0.012917555631817082,0.012746654890059522,0.012580251536242947,0.012418170347460577,0.012260245086595694,0.012106317933600815,0.011956238959430805,0.011809865638944003,0.011667062399444688,0.011527700201861021,0.011391656151838866,0.011258813138287816,0.011129059497144933,0.011002288698327176,0.010878399054028,0.010757293446679373,0.010638879075049604,0.010523067217082023,0.0104097730082007,0.01029891523391897,0.010190416135685788,0.010084201228994363,0.009980199132859005,0.009878341409839836,0.009778562415861882,0.009680799159136],\"yaxis\":\"y\",\"type\":\"scatter\"},{\"hovertemplate\":\"Technology=Wind\\u003cbr\\u003eDiscountRate=0.1\\u003cbr\\u003eLoadFactor (%)=%{x}\\u003cbr\\u003eLCOE (\\u20ac\\u002fkW)=%{y}\\u003cextra\\u003e\\u003c\\u002fextra\\u003e\",\"legendgroup\":\"Wind\",\"line\":{\"color\":\"#FFA15A\",\"dash\":\"solid\"},\"marker\":{\"symbol\":\"circle\"},\"mode\":\"lines\",\"name\":\"Wind\",\"orientation\":\"v\",\"showlegend\":false,\"x\":[0.1,0.11,0.12,0.13,0.13999999999999999,0.14999999999999997,0.15999999999999998,0.16999999999999998,0.17999999999999997,0.18999999999999995,0.19999999999999996,0.20999999999999996,0.21999999999999995,0.22999999999999995,0.23999999999999994,0.24999999999999992,0.2599999999999999,0.2699999999999999,0.2799999999999999,0.2899999999999999,0.29999999999999993,0.30999999999999994,0.3199999999999999,0.32999999999999985,0.33999999999999986,0.34999999999999987,0.3599999999999999,0.3699999999999999,0.3799999999999999,0.3899999999999999,0.3999999999999998,0.4099999999999998,0.4199999999999998,0.4299999999999998,0.43999999999999984,0.44999999999999984,0.45999999999999985,0.46999999999999986,0.47999999999999976,0.48999999999999977,0.4999999999999998,0.5099999999999998,0.5199999999999998,0.5299999999999998,0.5399999999999998,0.5499999999999998,0.5599999999999997,0.5699999999999997,0.5799999999999997,0.5899999999999997,0.5999999999999998,0.6099999999999998,0.6199999999999998,0.6299999999999997,0.6399999999999997,0.6499999999999997,0.6599999999999997,0.6699999999999997,0.6799999999999997,0.6899999999999997,0.6999999999999996,0.7099999999999996,0.7199999999999996,0.7299999999999996,0.7399999999999997,0.7499999999999997,0.7599999999999997,0.7699999999999997,0.7799999999999997,0.7899999999999996,0.7999999999999996,0.8099999999999996,0.8199999999999996,0.8299999999999996,0.8399999999999996,0.8499999999999996,0.8599999999999995,0.8699999999999996,0.8799999999999996,0.8899999999999996,0.8999999999999996,0.9099999999999996,0.9199999999999996,0.9299999999999996,0.9399999999999996,0.9499999999999995,0.9599999999999995,0.9699999999999995,0.9799999999999995,0.9899999999999995],\"xaxis\":\"x2\",\"y\":[0.13957871173518588,0.12689882885016898,0.11633225977932155,0.1073913167193737,0.09972765123941844,0.09308580782345727,0.08727419483449117,0.08214630102069755,0.07758817318621436,0.0735098482816768,0.06983935586759296,0.06651843415961231,0.0634994144250845,0.06074291814573299,0.05821612988966078,0.055891484694074345,0.053745658359686886,0.051758782124142935,0.04991382561970922,0.0481961074948917,0.046592903911728635,0.04509313281780189,0.04368709741724559,0.04236627628338967,0.041123150510348795,0.039951060495767396,0.038844086593107195,0.037796949117617815,0.0368049241408384,0.035863772239791245,0.03496967793379649,0.034119197984191676,0.033309217079806164,0.032536909705857195,0.03179970721254225,0.03109526927448576,0.030421459072866495,0.02977632164578423,0.029158064944830395,0.028565043211262433,0.02799574234703717,0.027448767006899192,0.026922829179843445,0.026416738063242632,0.025929391062071466,0.02545976577003381,0.025006912809854627,0.024569949427225596,0.02414805374744585,0.023740459616133205,0.023346451955864322,0.022965362579538667,0.022596566408900953,0.02223947805320412,0.021893548708622798,0.021558263343874756,0.02123313814169483,0.02091771816943073,0.020611575255174396,0.020314306048577674,0.020025530247883706,0.01974488897678676,0.0194720432965536,0.019206672840436423,0.01894847455880891,0.01869716156469146,0.018452462070419198,0.018214118407167006,0.017981886119895627,0.017755533131036193,0.017534838966898243,0.017319594041380972,0.01710959899209584,0.01690466406448023,0.016704608539903083,0.016509260204139526,0.0163184548529286,0.016132035831630562,0.01594985360627113,0.015771765363504033,0.015597634637242886,0.015427330959910541,0.01526072953643325,0.015097710939267303,0.014938160822892114,0.014781969656335362,0.014629032472415199,0.014479248632493396,0.014332521605631216,0.014188758761129894],\"yaxis\":\"y2\",\"type\":\"scatter\"}],                        {\"template\":{\"data\":{\"histogram2dcontour\":[{\"type\":\"histogram2dcontour\",\"colorbar\":{\"outlinewidth\":0,\"ticks\":\"\"},\"colorscale\":[[0.0,\"#0d0887\"],[0.1111111111111111,\"#46039f\"],[0.2222222222222222,\"#7201a8\"],[0.3333333333333333,\"#9c179e\"],[0.4444444444444444,\"#bd3786\"],[0.5555555555555556,\"#d8576b\"],[0.6666666666666666,\"#ed7953\"],[0.7777777777777778,\"#fb9f3a\"],[0.8888888888888888,\"#fdca26\"],[1.0,\"#f0f921\"]]}],\"choropleth\":[{\"type\":\"choropleth\",\"colorbar\":{\"outlinewidth\":0,\"ticks\":\"\"}}],\"histogram2d\":[{\"type\":\"histogram2d\",\"colorbar\":{\"outlinewidth\":0,\"ticks\":\"\"},\"colorscale\":[[0.0,\"#0d0887\"],[0.1111111111111111,\"#46039f\"],[0.2222222222222222,\"#7201a8\"],[0.3333333333333333,\"#9c179e\"],[0.4444444444444444,\"#bd3786\"],[0.5555555555555556,\"#d8576b\"],[0.6666666666666666,\"#ed7953\"],[0.7777777777777778,\"#fb9f3a\"],[0.8888888888888888,\"#fdca26\"],[1.0,\"#f0f921\"]]}],\"heatmap\":[{\"type\":\"heatmap\",\"colorbar\":{\"outlinewidth\":0,\"ticks\":\"\"},\"colorscale\":[[0.0,\"#0d0887\"],[0.1111111111111111,\"#46039f\"],[0.2222222222222222,\"#7201a8\"],[0.3333333333333333,\"#9c179e\"],[0.4444444444444444,\"#bd3786\"],[0.5555555555555556,\"#d8576b\"],[0.6666666666666666,\"#ed7953\"],[0.7777777777777778,\"#fb9f3a\"],[0.8888888888888888,\"#fdca26\"],[1.0,\"#f0f921\"]]}],\"heatmapgl\":[{\"type\":\"heatmapgl\",\"colorbar\":{\"outlinewidth\":0,\"ticks\":\"\"},\"colorscale\":[[0.0,\"#0d0887\"],[0.1111111111111111,\"#46039f\"],[0.2222222222222222,\"#7201a8\"],[0.3333333333333333,\"#9c179e\"],[0.4444444444444444,\"#bd3786\"],[0.5555555555555556,\"#d8576b\"],[0.6666666666666666,\"#ed7953\"],[0.7777777777777778,\"#fb9f3a\"],[0.8888888888888888,\"#fdca26\"],[1.0,\"#f0f921\"]]}],\"contourcarpet\":[{\"type\":\"contourcarpet\",\"colorbar\":{\"outlinewidth\":0,\"ticks\":\"\"}}],\"contour\":[{\"type\":\"contour\",\"colorbar\":{\"outlinewidth\":0,\"ticks\":\"\"},\"colorscale\":[[0.0,\"#0d0887\"],[0.1111111111111111,\"#46039f\"],[0.2222222222222222,\"#7201a8\"],[0.3333333333333333,\"#9c179e\"],[0.4444444444444444,\"#bd3786\"],[0.5555555555555556,\"#d8576b\"],[0.6666666666666666,\"#ed7953\"],[0.7777777777777778,\"#fb9f3a\"],[0.8888888888888888,\"#fdca26\"],[1.0,\"#f0f921\"]]}],\"surface\":[{\"type\":\"surface\",\"colorbar\":{\"outlinewidth\":0,\"ticks\":\"\"},\"colorscale\":[[0.0,\"#0d0887\"],[0.1111111111111111,\"#46039f\"],[0.2222222222222222,\"#7201a8\"],[0.3333333333333333,\"#9c179e\"],[0.4444444444444444,\"#bd3786\"],[0.5555555555555556,\"#d8576b\"],[0.6666666666666666,\"#ed7953\"],[0.7777777777777778,\"#fb9f3a\"],[0.8888888888888888,\"#fdca26\"],[1.0,\"#f0f921\"]]}],\"mesh3d\":[{\"type\":\"mesh3d\",\"colorbar\":{\"outlinewidth\":0,\"ticks\":\"\"}}],\"scatter\":[{\"fillpattern\":{\"fillmode\":\"overlay\",\"size\":10,\"solidity\":0.2},\"type\":\"scatter\"}],\"parcoords\":[{\"type\":\"parcoords\",\"line\":{\"colorbar\":{\"outlinewidth\":0,\"ticks\":\"\"}}}],\"scatterpolargl\":[{\"type\":\"scatterpolargl\",\"marker\":{\"colorbar\":{\"outlinewidth\":0,\"ticks\":\"\"}}}],\"bar\":[{\"error_x\":{\"color\":\"#2a3f5f\"},\"error_y\":{\"color\":\"#2a3f5f\"},\"marker\":{\"line\":{\"color\":\"#E5ECF6\",\"width\":0.5},\"pattern\":{\"fillmode\":\"overlay\",\"size\":10,\"solidity\":0.2}},\"type\":\"bar\"}],\"scattergeo\":[{\"type\":\"scattergeo\",\"marker\":{\"colorbar\":{\"outlinewidth\":0,\"ticks\":\"\"}}}],\"scatterpolar\":[{\"type\":\"scatterpolar\",\"marker\":{\"colorbar\":{\"outlinewidth\":0,\"ticks\":\"\"}}}],\"histogram\":[{\"marker\":{\"pattern\":{\"fillmode\":\"overlay\",\"size\":10,\"solidity\":0.2}},\"type\":\"histogram\"}],\"scattergl\":[{\"type\":\"scattergl\",\"marker\":{\"colorbar\":{\"outlinewidth\":0,\"ticks\":\"\"}}}],\"scatter3d\":[{\"type\":\"scatter3d\",\"line\":{\"colorbar\":{\"outlinewidth\":0,\"ticks\":\"\"}},\"marker\":{\"colorbar\":{\"outlinewidth\":0,\"ticks\":\"\"}}}],\"scattermapbox\":[{\"type\":\"scattermapbox\",\"marker\":{\"colorbar\":{\"outlinewidth\":0,\"ticks\":\"\"}}}],\"scatterternary\":[{\"type\":\"scatterternary\",\"marker\":{\"colorbar\":{\"outlinewidth\":0,\"ticks\":\"\"}}}],\"scattercarpet\":[{\"type\":\"scattercarpet\",\"marker\":{\"colorbar\":{\"outlinewidth\":0,\"ticks\":\"\"}}}],\"carpet\":[{\"aaxis\":{\"endlinecolor\":\"#2a3f5f\",\"gridcolor\":\"white\",\"linecolor\":\"white\",\"minorgridcolor\":\"white\",\"startlinecolor\":\"#2a3f5f\"},\"baxis\":{\"endlinecolor\":\"#2a3f5f\",\"gridcolor\":\"white\",\"linecolor\":\"white\",\"minorgridcolor\":\"white\",\"startlinecolor\":\"#2a3f5f\"},\"type\":\"carpet\"}],\"table\":[{\"cells\":{\"fill\":{\"color\":\"#EBF0F8\"},\"line\":{\"color\":\"white\"}},\"header\":{\"fill\":{\"color\":\"#C8D4E3\"},\"line\":{\"color\":\"white\"}},\"type\":\"table\"}],\"barpolar\":[{\"marker\":{\"line\":{\"color\":\"#E5ECF6\",\"width\":0.5},\"pattern\":{\"fillmode\":\"overlay\",\"size\":10,\"solidity\":0.2}},\"type\":\"barpolar\"}],\"pie\":[{\"automargin\":true,\"type\":\"pie\"}]},\"layout\":{\"autotypenumbers\":\"strict\",\"colorway\":[\"#636efa\",\"#EF553B\",\"#00cc96\",\"#ab63fa\",\"#FFA15A\",\"#19d3f3\",\"#FF6692\",\"#B6E880\",\"#FF97FF\",\"#FECB52\"],\"font\":{\"color\":\"#2a3f5f\"},\"hovermode\":\"closest\",\"hoverlabel\":{\"align\":\"left\"},\"paper_bgcolor\":\"white\",\"plot_bgcolor\":\"#E5ECF6\",\"polar\":{\"bgcolor\":\"#E5ECF6\",\"angularaxis\":{\"gridcolor\":\"white\",\"linecolor\":\"white\",\"ticks\":\"\"},\"radialaxis\":{\"gridcolor\":\"white\",\"linecolor\":\"white\",\"ticks\":\"\"}},\"ternary\":{\"bgcolor\":\"#E5ECF6\",\"aaxis\":{\"gridcolor\":\"white\",\"linecolor\":\"white\",\"ticks\":\"\"},\"baxis\":{\"gridcolor\":\"white\",\"linecolor\":\"white\",\"ticks\":\"\"},\"caxis\":{\"gridcolor\":\"white\",\"linecolor\":\"white\",\"ticks\":\"\"}},\"coloraxis\":{\"colorbar\":{\"outlinewidth\":0,\"ticks\":\"\"}},\"colorscale\":{\"sequential\":[[0.0,\"#0d0887\"],[0.1111111111111111,\"#46039f\"],[0.2222222222222222,\"#7201a8\"],[0.3333333333333333,\"#9c179e\"],[0.4444444444444444,\"#bd3786\"],[0.5555555555555556,\"#d8576b\"],[0.6666666666666666,\"#ed7953\"],[0.7777777777777778,\"#fb9f3a\"],[0.8888888888888888,\"#fdca26\"],[1.0,\"#f0f921\"]],\"sequentialminus\":[[0.0,\"#0d0887\"],[0.1111111111111111,\"#46039f\"],[0.2222222222222222,\"#7201a8\"],[0.3333333333333333,\"#9c179e\"],[0.4444444444444444,\"#bd3786\"],[0.5555555555555556,\"#d8576b\"],[0.6666666666666666,\"#ed7953\"],[0.7777777777777778,\"#fb9f3a\"],[0.8888888888888888,\"#fdca26\"],[1.0,\"#f0f921\"]],\"diverging\":[[0,\"#8e0152\"],[0.1,\"#c51b7d\"],[0.2,\"#de77ae\"],[0.3,\"#f1b6da\"],[0.4,\"#fde0ef\"],[0.5,\"#f7f7f7\"],[0.6,\"#e6f5d0\"],[0.7,\"#b8e186\"],[0.8,\"#7fbc41\"],[0.9,\"#4d9221\"],[1,\"#276419\"]]},\"xaxis\":{\"gridcolor\":\"white\",\"linecolor\":\"white\",\"ticks\":\"\",\"title\":{\"standoff\":15},\"zerolinecolor\":\"white\",\"automargin\":true,\"zerolinewidth\":2},\"yaxis\":{\"gridcolor\":\"white\",\"linecolor\":\"white\",\"ticks\":\"\",\"title\":{\"standoff\":15},\"zerolinecolor\":\"white\",\"automargin\":true,\"zerolinewidth\":2},\"scene\":{\"xaxis\":{\"backgroundcolor\":\"#E5ECF6\",\"gridcolor\":\"white\",\"linecolor\":\"white\",\"showbackground\":true,\"ticks\":\"\",\"zerolinecolor\":\"white\",\"gridwidth\":2},\"yaxis\":{\"backgroundcolor\":\"#E5ECF6\",\"gridcolor\":\"white\",\"linecolor\":\"white\",\"showbackground\":true,\"ticks\":\"\",\"zerolinecolor\":\"white\",\"gridwidth\":2},\"zaxis\":{\"backgroundcolor\":\"#E5ECF6\",\"gridcolor\":\"white\",\"linecolor\":\"white\",\"showbackground\":true,\"ticks\":\"\",\"zerolinecolor\":\"white\",\"gridwidth\":2}},\"shapedefaults\":{\"line\":{\"color\":\"#2a3f5f\"}},\"annotationdefaults\":{\"arrowcolor\":\"#2a3f5f\",\"arrowhead\":0,\"arrowwidth\":1},\"geo\":{\"bgcolor\":\"white\",\"landcolor\":\"#E5ECF6\",\"subunitcolor\":\"white\",\"showland\":true,\"showlakes\":true,\"lakecolor\":\"white\"},\"title\":{\"x\":0.05},\"mapbox\":{\"style\":\"light\"}}},\"xaxis\":{\"anchor\":\"y\",\"domain\":[0.0,0.49],\"title\":{\"text\":\"LoadFactor (%)\"}},\"yaxis\":{\"anchor\":\"x\",\"domain\":[0.0,1.0],\"title\":{\"text\":\"LCOE (\\u20ac\\u002fkW)\"}},\"xaxis2\":{\"anchor\":\"y2\",\"domain\":[0.51,1.0],\"matches\":\"x\",\"title\":{\"text\":\"LoadFactor (%)\"}},\"yaxis2\":{\"anchor\":\"x2\",\"domain\":[0.0,1.0],\"matches\":\"y\",\"showticklabels\":false},\"annotations\":[{\"font\":{},\"showarrow\":false,\"text\":\"DiscountRate=0.05\",\"x\":0.245,\"xanchor\":\"center\",\"xref\":\"paper\",\"y\":1.0,\"yanchor\":\"bottom\",\"yref\":\"paper\"},{\"font\":{},\"showarrow\":false,\"text\":\"DiscountRate=0.1\",\"x\":0.755,\"xanchor\":\"center\",\"xref\":\"paper\",\"y\":1.0,\"yanchor\":\"bottom\",\"yref\":\"paper\"}],\"legend\":{\"title\":{\"text\":\"Technology\"},\"tracegroupgap\":0},\"margin\":{\"t\":60}},                        {\"responsive\": true}                    ).then(function(){\n",
              "                            \n",
              "var gd = document.getElementById('88e12177-5919-401b-9471-de811d545afb');\n",
              "var x = new MutationObserver(function (mutations, observer) {{\n",
              "        var display = window.getComputedStyle(gd).display;\n",
              "        if (!display || display === 'none') {{\n",
              "            console.log([gd, 'removed!']);\n",
              "            Plotly.purge(gd);\n",
              "            observer.disconnect();\n",
              "        }}\n",
              "}});\n",
              "\n",
              "// Listen for the removal of the full notebook cells\n",
              "var notebookContainer = gd.closest('#notebook-container');\n",
              "if (notebookContainer) {{\n",
              "    x.observe(notebookContainer, {childList: true});\n",
              "}}\n",
              "\n",
              "// Listen for the clearing of the current output cell\n",
              "var outputEl = gd.closest('.output');\n",
              "if (outputEl) {{\n",
              "    x.observe(outputEl, {childList: true});\n",
              "}}\n",
              "\n",
              "                        })                };                            </script>        </div>\n",
              "</body>\n",
              "</html>"
            ]
          },
          "metadata": {}
        }
      ],
      "source": [
        "# Here we create an array of load factors from 0.1 to 1.0 in steps of 0.01\n",
        "load_factors = np.arange(0.1, 1.0, 0.01)\n",
        "# We set the discount rate to two values for the moment\n",
        "discount_rate = [0.05, 0.1] # %\n",
        "\n",
        "# CCGT plant parameters\n",
        "technical_lifetime = 25 # years\n",
        "station_size = 750000  # kW\n",
        "fuel_price = 0.03 # €/kWh\n",
        "overnight_cost = 750  # €/kW\n",
        "fixed_om_cost = 3.0 # €/kW\n",
        "var_om_cost = 0.01\n",
        "fuel_efficiency = 0.5\n",
        "\n",
        "ccgt_results = calculate_technology(\n",
        "    station_size, overnight_cost, fixed_om_cost, load_factors, fuel_efficiency,\n",
        "    fuel_price, discount_rate, technical_lifetime, 'CCGT', var_om_cost)\n",
        "\n",
        "# Coal plants\n",
        "technical_lifetime = 35 # years\n",
        "station_size = 1000000 # kW\n",
        "fuel_price = 0.01 # €/kWh\n",
        "overnight_cost = 2000  # €/kW\n",
        "fixed_om_cost = 5.0 # €/kW\n",
        "var_om_cost = 0.01\n",
        "fuel_efficiency = 0.4\n",
        "\n",
        "coal_results = calculate_technology(\n",
        "    station_size, overnight_cost, fixed_om_cost, load_factors, fuel_efficiency,\n",
        "    fuel_price, discount_rate, technical_lifetime, 'Coal', var_om_cost)\n",
        "\n",
        "# Nuclear plants\n",
        "technical_lifetime = 50 # years\n",
        "station_size = 1200000 # kW\n",
        "fuel_price = 0.005 # €/kWh\n",
        "overnight_cost = 4500  # €/kW\n",
        "fixed_om_cost = 2.0 # €/kW\n",
        "var_om_cost = 0.01\n",
        "fuel_efficiency = 0.4\n",
        "\n",
        "nuclear_results = calculate_technology(\n",
        "    station_size, overnight_cost, fixed_om_cost, load_factors, fuel_efficiency,\n",
        "    fuel_price, discount_rate, technical_lifetime, 'Nuclear', var_om_cost)\n",
        "\n",
        "# Concentrating solar power\n",
        "technical_lifetime = 25 # years\n",
        "station_size = 500000 # kW\n",
        "fuel_price = 0.0 # €/kWh\n",
        "overnight_cost = 3785  # €/kW\n",
        "fixed_om_cost = 5.0 # €/kW\n",
        "var_om_cost = 0.01\n",
        "fuel_efficiency = 1.0\n",
        "\n",
        "csp_results = calculate_technology(\n",
        "    station_size, overnight_cost, fixed_om_cost, load_factors, fuel_efficiency,\n",
        "    fuel_price, discount_rate, technical_lifetime, 'CSP', var_om_cost)\n",
        "\n",
        "# Wind turbines\n",
        "technical_lifetime = 25 # years\n",
        "station_size = 200000 # kW\n",
        "fuel_price = 0.0 # €/kWh\n",
        "overnight_cost = 1200  # €/kW\n",
        "fixed_om_cost = 2.0 # €/kW\n",
        "var_om_cost = 0.0001\n",
        "fuel_efficiency = 1.0\n",
        "\n",
        "wind_results = calculate_technology(\n",
        "    station_size, overnight_cost, fixed_om_cost, load_factors, fuel_efficiency,\n",
        "    fuel_price, discount_rate, technical_lifetime, 'Wind', var_om_cost)\n",
        "\n",
        "\n",
        "plotting = pd.DataFrame(ccgt_results + coal_results + nuclear_results + csp_results + wind_results)\n",
        "px.line(plotting, x='LoadFactor', y='LCOE', color='Technology', facet_col='DiscountRate', facet_col_wrap=2,\n",
        "        labels={'LoadFactor': 'LoadFactor (%)', 'LCOE': 'LCOE (€/kW)'})"
      ]
    },
    {
      "cell_type": "markdown",
      "metadata": {
        "id": "t7Nlv26Q92u5"
      },
      "source": [
        "- What do you see when you compare technologies at different load factors?\n",
        "- What does the LCOE graph *not* show you?\n",
        "\n",
        "Run the following cell to check another repreentation of the results:"
      ]
    },
    {
      "cell_type": "code",
      "execution_count": 110,
      "metadata": {
        "colab": {
          "base_uri": "https://localhost:8080/",
          "height": 542
        },
        "id": "IRAF5MSV92u6",
        "outputId": "450cc885-25a6-4c75-f6e0-f4bc7295796e"
      },
      "outputs": [
        {
          "output_type": "display_data",
          "data": {
            "text/html": [
              "<html>\n",
              "<head><meta charset=\"utf-8\" /></head>\n",
              "<body>\n",
              "    <div>            <script src=\"https://cdnjs.cloudflare.com/ajax/libs/mathjax/2.7.5/MathJax.js?config=TeX-AMS-MML_SVG\"></script><script type=\"text/javascript\">if (window.MathJax && window.MathJax.Hub && window.MathJax.Hub.Config) {window.MathJax.Hub.Config({SVG: {font: \"STIX-Web\"}});}</script>                <script type=\"text/javascript\">window.PlotlyConfig = {MathJaxConfig: 'local'};</script>\n",
              "        <script charset=\"utf-8\" src=\"https://cdn.plot.ly/plotly-2.24.1.min.js\"></script>                <div id=\"1c6a3c7f-9c55-4606-8cb1-16113ae15d9c\" class=\"plotly-graph-div\" style=\"height:525px; width:100%;\"></div>            <script type=\"text/javascript\">                                    window.PLOTLYENV=window.PLOTLYENV || {};                                    if (document.getElementById(\"1c6a3c7f-9c55-4606-8cb1-16113ae15d9c\")) {                    Plotly.newPlot(                        \"1c6a3c7f-9c55-4606-8cb1-16113ae15d9c\",                        [{\"fillpattern\":{\"shape\":\"\"},\"hovertemplate\":\"variable=Fixed OM Cost\\u003cbr\\u003eDiscountRate=0.05\\u003cbr\\u003eTechnology=CCGT\\u003cbr\\u003eLoadFactor (%)=%{x}\\u003cbr\\u003eLCOE (\\u20ac\\u002fkW)=%{y}\\u003cextra\\u003e\\u003c\\u002fextra\\u003e\",\"legendgroup\":\"Fixed OM Cost\",\"line\":{\"color\":\"#636efa\"},\"marker\":{\"symbol\":\"circle\"},\"mode\":\"lines\",\"name\":\"Fixed OM Cost\",\"orientation\":\"v\",\"showlegend\":true,\"stackgroup\":\"1\",\"x\":[0.1,0.11,0.12,0.13,0.13999999999999999,0.14999999999999997,0.15999999999999998,0.16999999999999998,0.17999999999999997,0.18999999999999995,0.19999999999999996,0.20999999999999996,0.21999999999999995,0.22999999999999995,0.23999999999999994,0.24999999999999992,0.2599999999999999,0.2699999999999999,0.2799999999999999,0.2899999999999999,0.29999999999999993,0.30999999999999994,0.3199999999999999,0.32999999999999985,0.33999999999999986,0.34999999999999987,0.3599999999999999,0.3699999999999999,0.3799999999999999,0.3899999999999999,0.3999999999999998,0.4099999999999998,0.4199999999999998,0.4299999999999998,0.43999999999999984,0.44999999999999984,0.45999999999999985,0.46999999999999986,0.47999999999999976,0.48999999999999977,0.4999999999999998,0.5099999999999998,0.5199999999999998,0.5299999999999998,0.5399999999999998,0.5499999999999998,0.5599999999999997,0.5699999999999997,0.5799999999999997,0.5899999999999997,0.5999999999999998,0.6099999999999998,0.6199999999999998,0.6299999999999997,0.6399999999999997,0.6499999999999997,0.6599999999999997,0.6699999999999997,0.6799999999999997,0.6899999999999997,0.6999999999999996,0.7099999999999996,0.7199999999999996,0.7299999999999996,0.7399999999999997,0.7499999999999997,0.7599999999999997,0.7699999999999997,0.7799999999999997,0.7899999999999996,0.7999999999999996,0.8099999999999996,0.8199999999999996,0.8299999999999996,0.8399999999999996,0.8499999999999996,0.8599999999999995,0.8699999999999996,0.8799999999999996,0.8899999999999996,0.8999999999999996,0.9099999999999996,0.9199999999999996,0.9299999999999996,0.9399999999999996,0.9499999999999995,0.9599999999999995,0.9699999999999995,0.9799999999999995,0.9899999999999995],\"xaxis\":\"x6\",\"y\":[0.0034246575342465765,0.003113325031133251,0.0028538812785388135,0.0026343519494204425,0.0024461839530332684,0.00228310502283105,0.00214041095890411,0.00201450443190975,0.0019025875190258755,0.0018024513338139878,0.0017123287671232882,0.0016307893020221793,0.0015566625155666255,0.0014889815366289465,0.0014269406392694072,0.001369863013698631,0.0013171759747102217,0.0012683916793505843,0.0012230919765166346,0.0011809163911195093,0.001141552511415525,0.0011047282368537342,0.0010702054794520554,0.0010377750103777504,0.0010072522159548754,0.0009784735812133078,0.0009512937595129382,0.0009255831173639399,0.0009012256669069939,0.0008781173164734813,0.0008561643835616447,0.0008352823254259947,0.0008153946510110899,0.0007964319847085063,0.000778331257783313,0.0007610350076103504,0.0007444907683144736,0.0007286505392013995,0.0007134703196347037,0.0006989097008666485,0.0006849315068493155,0.0006715014773032504,0.0006585879873551108,0.0006461617989144485,0.0006341958396752921,0.0006226650062266503,0.0006115459882583174,0.0006008171112713294,0.0005904581955597548,0.0005804504295333181,0.0005707762557077627,0.0005614192679092749,0.0005523641184268672,0.0005435964340073932,0.0005351027397260277,0.0005268703898840888,0.0005188875051888752,0.0005111429155591907,0.0005036261079774377,0.0004963271788763155,0.000489236790606654,0.00048234613158402496,0.0004756468797564691,0.00046913116907487353,0.00046279155868196993,0.00045662100456621025,0.00045061283345349695,0.0004447607187333217,0.00043905865823674076,0.00043350095370209843,0.00042808219178082233,0.00042279722645019473,0.0004176411627129973,0.00041260934147549125,0.00040769732550554493,0.0004029008863819502,0.0003982159923542532,0.00039363879703983656,0.00038916562889165654,0.0003847929813760199,0.00038051750380517523,0.0003763359927743491,0.0003722453841572368,0.0003682427456179115,0.00036432526960069976,0.00036049026676279755,0.00035673515981735185,0.0003530574777573791,0.00034945485043332426,0.00034592500345925016],\"yaxis\":\"y6\",\"type\":\"scatter\"},{\"fillpattern\":{\"shape\":\"\"},\"hovertemplate\":\"variable=Fixed OM Cost\\u003cbr\\u003eDiscountRate=0.05\\u003cbr\\u003eTechnology=Coal\\u003cbr\\u003eLoadFactor (%)=%{x}\\u003cbr\\u003eLCOE (\\u20ac\\u002fkW)=%{y}\\u003cextra\\u003e\\u003c\\u002fextra\\u003e\",\"legendgroup\":\"Fixed OM Cost\",\"line\":{\"color\":\"#636efa\"},\"marker\":{\"symbol\":\"circle\"},\"mode\":\"lines\",\"name\":\"Fixed OM Cost\",\"orientation\":\"v\",\"showlegend\":false,\"stackgroup\":\"1\",\"x\":[0.1,0.11,0.12,0.13,0.13999999999999999,0.14999999999999997,0.15999999999999998,0.16999999999999998,0.17999999999999997,0.18999999999999995,0.19999999999999996,0.20999999999999996,0.21999999999999995,0.22999999999999995,0.23999999999999994,0.24999999999999992,0.2599999999999999,0.2699999999999999,0.2799999999999999,0.2899999999999999,0.29999999999999993,0.30999999999999994,0.3199999999999999,0.32999999999999985,0.33999999999999986,0.34999999999999987,0.3599999999999999,0.3699999999999999,0.3799999999999999,0.3899999999999999,0.3999999999999998,0.4099999999999998,0.4199999999999998,0.4299999999999998,0.43999999999999984,0.44999999999999984,0.45999999999999985,0.46999999999999986,0.47999999999999976,0.48999999999999977,0.4999999999999998,0.5099999999999998,0.5199999999999998,0.5299999999999998,0.5399999999999998,0.5499999999999998,0.5599999999999997,0.5699999999999997,0.5799999999999997,0.5899999999999997,0.5999999999999998,0.6099999999999998,0.6199999999999998,0.6299999999999997,0.6399999999999997,0.6499999999999997,0.6599999999999997,0.6699999999999997,0.6799999999999997,0.6899999999999997,0.6999999999999996,0.7099999999999996,0.7199999999999996,0.7299999999999996,0.7399999999999997,0.7499999999999997,0.7599999999999997,0.7699999999999997,0.7799999999999997,0.7899999999999996,0.7999999999999996,0.8099999999999996,0.8199999999999996,0.8299999999999996,0.8399999999999996,0.8499999999999996,0.8599999999999995,0.8699999999999996,0.8799999999999996,0.8899999999999996,0.8999999999999996,0.9099999999999996,0.9199999999999996,0.9299999999999996,0.9399999999999996,0.9499999999999995,0.9599999999999995,0.9699999999999995,0.9799999999999995,0.9899999999999995],\"xaxis\":\"x7\",\"y\":[0.005707762557077625,0.005188875051888751,0.004756468797564689,0.0043905865823674044,0.0040769732550554475,0.0038051750380517497,0.003567351598173517,0.003357507386516251,0.0031709791983764598,0.0030040855563566466,0.0028538812785388135,0.0027179821700369644,0.0025944375259443764,0.0024816358943815773,0.002378234398782345,0.0022831050228310514,0.002195293291183703,0.002113986132250973,0.002038486627527724,0.0019681939851991822,0.0019025875190258749,0.0018412137280895574,0.0017836757990867592,0.0017296250172962508,0.0016787536932581259,0.0016307893020221797,0.0015854895991882299,0.0015426385289398989,0.0015020427781783233,0.0014635288607891352,0.0014269406392694076,0.0013921372090433238,0.001358991085018483,0.0013273866411808437,0.0012972187629721884,0.0012683916793505836,0.001240817947190789,0.0012144175653356652,0.0011891171993911726,0.0011648495014444143,0.0011415525114155257,0.0011191691288387506,0.0010976466455918515,0.001076936331524081,0.0010569930661254866,0.0010377750103777509,0.001019243313763862,0.0010013618521188818,0.0009840969925995911,0.0009674173825555305,0.0009512937595129377,0.0009356987798487918,0.0009206068640447789,0.0009059940566789884,0.0008918378995433796,0.0008781173164734814,0.0008648125086481254,0.000851904859265318,0.0008393768466290629,0.0008272119647938594,0.00081539465101109,0.0008039102193067081,0.000792744799594115,0.000781885281791456,0.0007713192644699495,0.0007610350076103505,0.0007510213890891618,0.0007412678645555363,0.0007317644303945676,0.0007225015895034974,0.0007134703196347038,0.0007046620440836579,0.0006960686045216619,0.0006876822357924854,0.0006794955425092415,0.0006715014773032503,0.000663693320590422,0.0006560646617330609,0.0006486093814860942,0.0006413216356266999,0.0006341958396752919,0.0006272266546239152,0.0006204089735953947,0.0006137379093631857,0.0006072087826678328,0.0006008171112713294,0.0005945585996955863,0.0005884291295956314,0.0005824247507222072,0.0005765416724320836],\"yaxis\":\"y7\",\"type\":\"scatter\"},{\"fillpattern\":{\"shape\":\"\"},\"hovertemplate\":\"variable=Fixed OM Cost\\u003cbr\\u003eDiscountRate=0.05\\u003cbr\\u003eTechnology=Nuclear\\u003cbr\\u003eLoadFactor (%)=%{x}\\u003cbr\\u003eLCOE (\\u20ac\\u002fkW)=%{y}\\u003cextra\\u003e\\u003c\\u002fextra\\u003e\",\"legendgroup\":\"Fixed OM Cost\",\"line\":{\"color\":\"#636efa\"},\"marker\":{\"symbol\":\"circle\"},\"mode\":\"lines\",\"name\":\"Fixed OM Cost\",\"orientation\":\"v\",\"showlegend\":false,\"stackgroup\":\"1\",\"x\":[0.1,0.11,0.12,0.13,0.13999999999999999,0.14999999999999997,0.15999999999999998,0.16999999999999998,0.17999999999999997,0.18999999999999995,0.19999999999999996,0.20999999999999996,0.21999999999999995,0.22999999999999995,0.23999999999999994,0.24999999999999992,0.2599999999999999,0.2699999999999999,0.2799999999999999,0.2899999999999999,0.29999999999999993,0.30999999999999994,0.3199999999999999,0.32999999999999985,0.33999999999999986,0.34999999999999987,0.3599999999999999,0.3699999999999999,0.3799999999999999,0.3899999999999999,0.3999999999999998,0.4099999999999998,0.4199999999999998,0.4299999999999998,0.43999999999999984,0.44999999999999984,0.45999999999999985,0.46999999999999986,0.47999999999999976,0.48999999999999977,0.4999999999999998,0.5099999999999998,0.5199999999999998,0.5299999999999998,0.5399999999999998,0.5499999999999998,0.5599999999999997,0.5699999999999997,0.5799999999999997,0.5899999999999997,0.5999999999999998,0.6099999999999998,0.6199999999999998,0.6299999999999997,0.6399999999999997,0.6499999999999997,0.6599999999999997,0.6699999999999997,0.6799999999999997,0.6899999999999997,0.6999999999999996,0.7099999999999996,0.7199999999999996,0.7299999999999996,0.7399999999999997,0.7499999999999997,0.7599999999999997,0.7699999999999997,0.7799999999999997,0.7899999999999996,0.7999999999999996,0.8099999999999996,0.8199999999999996,0.8299999999999996,0.8399999999999996,0.8499999999999996,0.8599999999999995,0.8699999999999996,0.8799999999999996,0.8899999999999996,0.8999999999999996,0.9099999999999996,0.9199999999999996,0.9299999999999996,0.9399999999999996,0.9499999999999995,0.9599999999999995,0.9699999999999995,0.9799999999999995,0.9899999999999995],\"xaxis\":\"x8\",\"y\":[0.00228310502283105,0.0020755500207554987,0.0019025875190258738,0.0017562346329469609,0.0016307893020221786,0.0015220700152207,0.0014269406392694059,0.0013430029546065,0.0012683916793505836,0.0012016342225426577,0.0011415525114155255,0.001087192868014786,0.0010377750103777498,0.00099265435775263,0.0009512937595129372,0.0009132420091324196,0.0008781173164734809,0.0008455944529003889,0.0008153946510110895,0.0007872775940796726,0.00076103500761035,0.0007364854912358226,0.0007134703196347032,0.0006918500069185001,0.0006715014773032501,0.0006523157208088717,0.0006341958396752919,0.0006170554115759594,0.0006008171112713289,0.0005854115443156538,0.0005707762557077627,0.0005568548836173294,0.0005435964340073931,0.0005309546564723371,0.0005188875051888751,0.0005073566717402332,0.0004963271788763151,0.00048576702613426604,0.0004756468797564687,0.0004659398005777655,0.0004566210045662098,0.00044766765153550015,0.00043905865823674043,0.0004307745326096321,0.00042279722645019446,0.0004151100041511,0.0004076973255055448,0.00040054474084755276,0.0003936387970398364,0.00038696695302221185,0.00038051750380517507,0.0003742795119395166,0.0003682427456179113,0.00036239762267159536,0.0003567351598173517,0.0003512469265893923,0.00034592500345925005,0.00034076194370612694,0.00033575073865162506,0.00033088478591754365,0.0003261578604044359,0.00032156408772268305,0.00031709791983764596,0.00031275411271658226,0.00030852770578797977,0.0003044140030441399,0.0003004085556356646,0.0002965071458222143,0.0002927057721578269,0.0002890006358013987,0.00028538812785388137,0.00028186481763346283,0.0002784274418086647,0.000275072894316994,0.00027179821700369655,0.00026860059092130003,0.0002654773282361686,0.0002624258646932243,0.00025944375259443755,0.0002565286542506799,0.0002536783358701166,0.000250890661849566,0.00024816358943815755,0.00024549516374527416,0.00024288351306713302,0.00024032684450853164,0.00023782343987823436,0.00023537165183825257,0.00023296990028888275,0.0002306166689728334],\"yaxis\":\"y8\",\"type\":\"scatter\"},{\"fillpattern\":{\"shape\":\"\"},\"hovertemplate\":\"variable=Fixed OM Cost\\u003cbr\\u003eDiscountRate=0.05\\u003cbr\\u003eTechnology=CSP\\u003cbr\\u003eLoadFactor (%)=%{x}\\u003cbr\\u003eLCOE (\\u20ac\\u002fkW)=%{y}\\u003cextra\\u003e\\u003c\\u002fextra\\u003e\",\"legendgroup\":\"Fixed OM Cost\",\"line\":{\"color\":\"#636efa\"},\"marker\":{\"symbol\":\"circle\"},\"mode\":\"lines\",\"name\":\"Fixed OM Cost\",\"orientation\":\"v\",\"showlegend\":false,\"stackgroup\":\"1\",\"x\":[0.1,0.11,0.12,0.13,0.13999999999999999,0.14999999999999997,0.15999999999999998,0.16999999999999998,0.17999999999999997,0.18999999999999995,0.19999999999999996,0.20999999999999996,0.21999999999999995,0.22999999999999995,0.23999999999999994,0.24999999999999992,0.2599999999999999,0.2699999999999999,0.2799999999999999,0.2899999999999999,0.29999999999999993,0.30999999999999994,0.3199999999999999,0.32999999999999985,0.33999999999999986,0.34999999999999987,0.3599999999999999,0.3699999999999999,0.3799999999999999,0.3899999999999999,0.3999999999999998,0.4099999999999998,0.4199999999999998,0.4299999999999998,0.43999999999999984,0.44999999999999984,0.45999999999999985,0.46999999999999986,0.47999999999999976,0.48999999999999977,0.4999999999999998,0.5099999999999998,0.5199999999999998,0.5299999999999998,0.5399999999999998,0.5499999999999998,0.5599999999999997,0.5699999999999997,0.5799999999999997,0.5899999999999997,0.5999999999999998,0.6099999999999998,0.6199999999999998,0.6299999999999997,0.6399999999999997,0.6499999999999997,0.6599999999999997,0.6699999999999997,0.6799999999999997,0.6899999999999997,0.6999999999999996,0.7099999999999996,0.7199999999999996,0.7299999999999996,0.7399999999999997,0.7499999999999997,0.7599999999999997,0.7699999999999997,0.7799999999999997,0.7899999999999996,0.7999999999999996,0.8099999999999996,0.8199999999999996,0.8299999999999996,0.8399999999999996,0.8499999999999996,0.8599999999999995,0.8699999999999996,0.8799999999999996,0.8899999999999996,0.8999999999999996,0.9099999999999996,0.9199999999999996,0.9299999999999996,0.9399999999999996,0.9499999999999995,0.9599999999999995,0.9699999999999995,0.9799999999999995,0.9899999999999995],\"xaxis\":\"x9\",\"y\":[0.005707762557077625,0.005188875051888751,0.004756468797564688,0.0043905865823674044,0.0040769732550554475,0.003805175038051751,0.0035673515981735167,0.0033575073865162513,0.00317097919837646,0.0030040855563566466,0.002853881278538813,0.002717982170036965,0.002594437525944376,0.002481635894381577,0.0023782343987823447,0.0022831050228310514,0.002195293291183703,0.0021139861322509736,0.002038486627527724,0.001968193985199182,0.0019025875190258755,0.001841213728089557,0.001783675799086759,0.001729625017296251,0.001678753693258126,0.0016307893020221795,0.00158548959918823,0.001542638528939899,0.0015020427781783233,0.001463528860789135,0.0014269406392694074,0.0013921372090433238,0.0013589910850184826,0.0013273866411808433,0.0012972187629721882,0.0012683916793505836,0.0012408179471907887,0.0012144175653356652,0.0011891171993911724,0.001164849501444414,0.0011415525114155257,0.0011191691288387504,0.0010976466455918515,0.0010769363315240809,0.0010569930661254868,0.0010377750103777504,0.001019243313763862,0.001001361852118882,0.000984096992599591,0.0009674173825555302,0.000951293759512938,0.0009356987798487914,0.0009206068640447788,0.0009059940566789886,0.0008918378995433795,0.0008781173164734812,0.0008648125086481255,0.0008519048592653178,0.000839376846629063,0.0008272119647938594,0.00081539465101109,0.0008039102193067082,0.0007927447995941152,0.0007818852817914559,0.0007713192644699496,0.0007610350076103505,0.0007510213890891617,0.0007412678645555363,0.0007317644303945675,0.0007225015895034973,0.0007134703196347037,0.0007046620440836579,0.0006960686045216619,0.0006876822357924853,0.0006794955425092413,0.0006715014773032503,0.0006636933205904219,0.0006560646617330609,0.0006486093814860941,0.0006413216356266997,0.000634195839675292,0.0006272266546239151,0.0006204089735953944,0.0006137379093631858,0.0006072087826678327,0.0006008171112713293,0.0005945585996955862,0.0005884291295956317,0.000582424750722207,0.0005765416724320835],\"yaxis\":\"y9\",\"type\":\"scatter\"},{\"fillpattern\":{\"shape\":\"\"},\"hovertemplate\":\"variable=Fixed OM Cost\\u003cbr\\u003eDiscountRate=0.05\\u003cbr\\u003eTechnology=Wind\\u003cbr\\u003eLoadFactor (%)=%{x}\\u003cbr\\u003eLCOE (\\u20ac\\u002fkW)=%{y}\\u003cextra\\u003e\\u003c\\u002fextra\\u003e\",\"legendgroup\":\"Fixed OM Cost\",\"line\":{\"color\":\"#636efa\"},\"marker\":{\"symbol\":\"circle\"},\"mode\":\"lines\",\"name\":\"Fixed OM Cost\",\"orientation\":\"v\",\"showlegend\":false,\"stackgroup\":\"1\",\"x\":[0.1,0.11,0.12,0.13,0.13999999999999999,0.14999999999999997,0.15999999999999998,0.16999999999999998,0.17999999999999997,0.18999999999999995,0.19999999999999996,0.20999999999999996,0.21999999999999995,0.22999999999999995,0.23999999999999994,0.24999999999999992,0.2599999999999999,0.2699999999999999,0.2799999999999999,0.2899999999999999,0.29999999999999993,0.30999999999999994,0.3199999999999999,0.32999999999999985,0.33999999999999986,0.34999999999999987,0.3599999999999999,0.3699999999999999,0.3799999999999999,0.3899999999999999,0.3999999999999998,0.4099999999999998,0.4199999999999998,0.4299999999999998,0.43999999999999984,0.44999999999999984,0.45999999999999985,0.46999999999999986,0.47999999999999976,0.48999999999999977,0.4999999999999998,0.5099999999999998,0.5199999999999998,0.5299999999999998,0.5399999999999998,0.5499999999999998,0.5599999999999997,0.5699999999999997,0.5799999999999997,0.5899999999999997,0.5999999999999998,0.6099999999999998,0.6199999999999998,0.6299999999999997,0.6399999999999997,0.6499999999999997,0.6599999999999997,0.6699999999999997,0.6799999999999997,0.6899999999999997,0.6999999999999996,0.7099999999999996,0.7199999999999996,0.7299999999999996,0.7399999999999997,0.7499999999999997,0.7599999999999997,0.7699999999999997,0.7799999999999997,0.7899999999999996,0.7999999999999996,0.8099999999999996,0.8199999999999996,0.8299999999999996,0.8399999999999996,0.8499999999999996,0.8599999999999995,0.8699999999999996,0.8799999999999996,0.8899999999999996,0.8999999999999996,0.9099999999999996,0.9199999999999996,0.9299999999999996,0.9399999999999996,0.9499999999999995,0.9599999999999995,0.9699999999999995,0.9799999999999995,0.9899999999999995],\"xaxis\":\"x10\",\"y\":[0.0022831050228310505,0.0020755500207554995,0.0019025875190258749,0.001756234632946962,0.0016307893020221795,0.001522070015220701,0.0014269406392694072,0.0013430029546064998,0.0012683916793505838,0.0012016342225426584,0.0011415525114155255,0.0010871928680147864,0.0010377750103777504,0.0009926543577526308,0.0009512937595129379,0.0009132420091324204,0.0008781173164734813,0.0008455944529003895,0.0008153946510110898,0.0007872775940796727,0.0007610350076103505,0.0007364854912358231,0.0007134703196347036,0.0006918500069185005,0.0006715014773032503,0.0006523157208088718,0.000634195839675292,0.0006170554115759597,0.0006008171112713292,0.0005854115443156541,0.000570776255707763,0.0005568548836173297,0.0005435964340073934,0.0005309546564723376,0.0005188875051888752,0.0005073566717402337,0.0004963271788763155,0.0004857670261342661,0.00047564687975646915,0.0004659398005777657,0.0004566210045662103,0.0004476676515355003,0.00043905865823674065,0.00043077453260963216,0.00042279722645019473,0.0004151100041511003,0.00040769732550554504,0.0004005447408475529,0.00039363879703983645,0.0003869669530222121,0.00038051750380517523,0.0003742795119395166,0.00036824274561791156,0.00036239762267159547,0.0003567351598173518,0.00035124692658939255,0.00034592500345925027,0.00034076194370612716,0.00033575073865162516,0.00033088478591754365,0.0003261578604044359,0.0003215640877226833,0.000317097919837646,0.00031275411271658226,0.0003085277057879799,0.0003044140030441402,0.0003004085556356646,0.00029650714582221455,0.0002927057721578271,0.000289000635801399,0.0002853881278538815,0.0002818648176334631,0.00027842744180866483,0.0002750728943169943,0.0002717982170036967,0.0002686005909213002,0.0002654773282361688,0.00026242586469322435,0.0002594437525944376,0.00025652865425067995,0.0002536783358701169,0.000250890661849566,0.0002481635894381578,0.0002454951637452743,0.0002428835130671331,0.00024032684450853178,0.00023782343987823458,0.0002353716518382527,0.00023296990028888286,0.00023061666897283343],\"yaxis\":\"y10\",\"type\":\"scatter\"},{\"fillpattern\":{\"shape\":\"\"},\"hovertemplate\":\"variable=Fixed OM Cost\\u003cbr\\u003eDiscountRate=0.1\\u003cbr\\u003eTechnology=CCGT\\u003cbr\\u003eLoadFactor (%)=%{x}\\u003cbr\\u003eLCOE (\\u20ac\\u002fkW)=%{y}\\u003cextra\\u003e\\u003c\\u002fextra\\u003e\",\"legendgroup\":\"Fixed OM Cost\",\"line\":{\"color\":\"#636efa\"},\"marker\":{\"symbol\":\"circle\"},\"mode\":\"lines\",\"name\":\"Fixed OM Cost\",\"orientation\":\"v\",\"showlegend\":false,\"stackgroup\":\"1\",\"x\":[0.1,0.11,0.12,0.13,0.13999999999999999,0.14999999999999997,0.15999999999999998,0.16999999999999998,0.17999999999999997,0.18999999999999995,0.19999999999999996,0.20999999999999996,0.21999999999999995,0.22999999999999995,0.23999999999999994,0.24999999999999992,0.2599999999999999,0.2699999999999999,0.2799999999999999,0.2899999999999999,0.29999999999999993,0.30999999999999994,0.3199999999999999,0.32999999999999985,0.33999999999999986,0.34999999999999987,0.3599999999999999,0.3699999999999999,0.3799999999999999,0.3899999999999999,0.3999999999999998,0.4099999999999998,0.4199999999999998,0.4299999999999998,0.43999999999999984,0.44999999999999984,0.45999999999999985,0.46999999999999986,0.47999999999999976,0.48999999999999977,0.4999999999999998,0.5099999999999998,0.5199999999999998,0.5299999999999998,0.5399999999999998,0.5499999999999998,0.5599999999999997,0.5699999999999997,0.5799999999999997,0.5899999999999997,0.5999999999999998,0.6099999999999998,0.6199999999999998,0.6299999999999997,0.6399999999999997,0.6499999999999997,0.6599999999999997,0.6699999999999997,0.6799999999999997,0.6899999999999997,0.6999999999999996,0.7099999999999996,0.7199999999999996,0.7299999999999996,0.7399999999999997,0.7499999999999997,0.7599999999999997,0.7699999999999997,0.7799999999999997,0.7899999999999996,0.7999999999999996,0.8099999999999996,0.8199999999999996,0.8299999999999996,0.8399999999999996,0.8499999999999996,0.8599999999999995,0.8699999999999996,0.8799999999999996,0.8899999999999996,0.8999999999999996,0.9099999999999996,0.9199999999999996,0.9299999999999996,0.9399999999999996,0.9499999999999995,0.9599999999999995,0.9699999999999995,0.9799999999999995,0.9899999999999995],\"xaxis\":\"x\",\"y\":[0.0034246575342465743,0.0031133250311332497,0.0028538812785388118,0.0026343519494204416,0.002446183953033269,0.0022831050228310497,0.002140410958904108,0.00201450443190975,0.0019025875190258753,0.0018024513338139874,0.0017123287671232874,0.0016307893020221782,0.0015566625155666253,0.0014889815366289452,0.0014269406392694063,0.00136986301369863,0.0013171759747102212,0.0012683916793505836,0.0012230919765166346,0.0011809163911195085,0.0011415525114155248,0.0011047282368537338,0.0010702054794520547,0.0010377750103777502,0.0010072522159548754,0.000978473581213307,0.0009512937595129378,0.000925583117363939,0.0009012256669069937,0.0008781173164734809,0.0008561643835616442,0.0008352823254259942,0.0008153946510110893,0.0007964319847085058,0.0007783312577833128,0.0007610350076103501,0.0007444907683144727,0.000728650539201399,0.0007134703196347035,0.0006989097008666481,0.0006849315068493152,0.00067150147730325,0.0006585879873551106,0.0006461617989144482,0.0006341958396752918,0.0006226650062266501,0.0006115459882583173,0.0006008171112713289,0.0005904581955597545,0.000580450429533318,0.0005707762557077625,0.0005614192679092748,0.000552364118426867,0.0005435964340073929,0.0005351027397260275,0.0005268703898840885,0.0005188875051888751,0.0005111429155591903,0.0005036261079774377,0.0004963271788763153,0.0004892367906066537,0.00048234613158402485,0.0004756468797564689,0.0004691311690748733,0.0004627915586819695,0.00045662100456621003,0.00045061283345349684,0.00044476071873332144,0.00043905865823674043,0.00043350095370209816,0.0004280821917808221,0.00042279722645019446,0.0004176411627129971,0.00041260934147549125,0.00040769732550554466,0.0004029008863819501,0.0003982159923542529,0.0003936387970398364,0.0003891656288916565,0.0003847929813760197,0.00038051750380517507,0.000376335992774349,0.00037224538415723646,0.00036824274561791134,0.0003643252696006995,0.0003604902667627975,0.00035673515981735174,0.0003530574777573789,0.00034945485043332404,0.00034592500345925005],\"yaxis\":\"y\",\"type\":\"scatter\"},{\"fillpattern\":{\"shape\":\"\"},\"hovertemplate\":\"variable=Fixed OM Cost\\u003cbr\\u003eDiscountRate=0.1\\u003cbr\\u003eTechnology=Coal\\u003cbr\\u003eLoadFactor (%)=%{x}\\u003cbr\\u003eLCOE (\\u20ac\\u002fkW)=%{y}\\u003cextra\\u003e\\u003c\\u002fextra\\u003e\",\"legendgroup\":\"Fixed OM Cost\",\"line\":{\"color\":\"#636efa\"},\"marker\":{\"symbol\":\"circle\"},\"mode\":\"lines\",\"name\":\"Fixed OM Cost\",\"orientation\":\"v\",\"showlegend\":false,\"stackgroup\":\"1\",\"x\":[0.1,0.11,0.12,0.13,0.13999999999999999,0.14999999999999997,0.15999999999999998,0.16999999999999998,0.17999999999999997,0.18999999999999995,0.19999999999999996,0.20999999999999996,0.21999999999999995,0.22999999999999995,0.23999999999999994,0.24999999999999992,0.2599999999999999,0.2699999999999999,0.2799999999999999,0.2899999999999999,0.29999999999999993,0.30999999999999994,0.3199999999999999,0.32999999999999985,0.33999999999999986,0.34999999999999987,0.3599999999999999,0.3699999999999999,0.3799999999999999,0.3899999999999999,0.3999999999999998,0.4099999999999998,0.4199999999999998,0.4299999999999998,0.43999999999999984,0.44999999999999984,0.45999999999999985,0.46999999999999986,0.47999999999999976,0.48999999999999977,0.4999999999999998,0.5099999999999998,0.5199999999999998,0.5299999999999998,0.5399999999999998,0.5499999999999998,0.5599999999999997,0.5699999999999997,0.5799999999999997,0.5899999999999997,0.5999999999999998,0.6099999999999998,0.6199999999999998,0.6299999999999997,0.6399999999999997,0.6499999999999997,0.6599999999999997,0.6699999999999997,0.6799999999999997,0.6899999999999997,0.6999999999999996,0.7099999999999996,0.7199999999999996,0.7299999999999996,0.7399999999999997,0.7499999999999997,0.7599999999999997,0.7699999999999997,0.7799999999999997,0.7899999999999996,0.7999999999999996,0.8099999999999996,0.8199999999999996,0.8299999999999996,0.8399999999999996,0.8499999999999996,0.8599999999999995,0.8699999999999996,0.8799999999999996,0.8899999999999996,0.8999999999999996,0.9099999999999996,0.9199999999999996,0.9299999999999996,0.9399999999999996,0.9499999999999995,0.9599999999999995,0.9699999999999995,0.9799999999999995,0.9899999999999995],\"xaxis\":\"x2\",\"y\":[0.0057077625570776235,0.005188875051888749,0.004756468797564685,0.004390586582367404,0.004076973255055448,0.003805175038051751,0.0035673515981735167,0.003357507386516252,0.003170979198376459,0.0030040855563566457,0.002853881278538812,0.0027179821700369666,0.002594437525944376,0.0024816358943815773,0.002378234398782344,0.0022831050228310505,0.0021952932911837027,0.002113986132250973,0.002038486627527724,0.0019681939851991822,0.0019025875190258755,0.0018412137280895571,0.0017836757990867585,0.0017296250172962515,0.0016787536932581265,0.0016307893020221795,0.0015854895991882299,0.0015426385289398989,0.0015020427781783229,0.001463528860789135,0.001426940639269407,0.0013921372090433238,0.0013589910850184835,0.0013273866411808437,0.0012972187629721884,0.001268391679350584,0.0012408179471907887,0.0012144175653356652,0.0011891171993911721,0.0011648495014444141,0.0011415525114155253,0.0011191691288387506,0.0010976466455918513,0.001076936331524081,0.0010569930661254866,0.0010377750103777502,0.0010192433137638623,0.001001361852118882,0.0009840969925995913,0.0009674173825555299,0.0009512937595129382,0.0009356987798487912,0.0009206068640447787,0.0009059940566789885,0.0008918378995433794,0.0008781173164734814,0.0008648125086481257,0.0008519048592653177,0.0008393768466290633,0.0008272119647938592,0.0008153946510110899,0.0008039102193067082,0.0007927447995941152,0.000781885281791456,0.0007713192644699498,0.0007610350076103505,0.0007510213890891615,0.0007412678645555361,0.0007317644303945675,0.0007225015895034972,0.0007134703196347035,0.0007046620440836579,0.0006960686045216619,0.0006876822357924852,0.0006794955425092418,0.0006715014773032499,0.0006636933205904219,0.0006560646617330609,0.0006486093814860942,0.0006413216356266996,0.000634195839675292,0.0006272266546239151,0.0006204089735953943,0.0006137379093631857,0.0006072087826678327,0.0006008171112713291,0.0005945585996955861,0.0005884291295956318,0.0005824247507222071,0.0005765416724320837],\"yaxis\":\"y2\",\"type\":\"scatter\"},{\"fillpattern\":{\"shape\":\"\"},\"hovertemplate\":\"variable=Fixed OM Cost\\u003cbr\\u003eDiscountRate=0.1\\u003cbr\\u003eTechnology=Nuclear\\u003cbr\\u003eLoadFactor (%)=%{x}\\u003cbr\\u003eLCOE (\\u20ac\\u002fkW)=%{y}\\u003cextra\\u003e\\u003c\\u002fextra\\u003e\",\"legendgroup\":\"Fixed OM Cost\",\"line\":{\"color\":\"#636efa\"},\"marker\":{\"symbol\":\"circle\"},\"mode\":\"lines\",\"name\":\"Fixed OM Cost\",\"orientation\":\"v\",\"showlegend\":false,\"stackgroup\":\"1\",\"x\":[0.1,0.11,0.12,0.13,0.13999999999999999,0.14999999999999997,0.15999999999999998,0.16999999999999998,0.17999999999999997,0.18999999999999995,0.19999999999999996,0.20999999999999996,0.21999999999999995,0.22999999999999995,0.23999999999999994,0.24999999999999992,0.2599999999999999,0.2699999999999999,0.2799999999999999,0.2899999999999999,0.29999999999999993,0.30999999999999994,0.3199999999999999,0.32999999999999985,0.33999999999999986,0.34999999999999987,0.3599999999999999,0.3699999999999999,0.3799999999999999,0.3899999999999999,0.3999999999999998,0.4099999999999998,0.4199999999999998,0.4299999999999998,0.43999999999999984,0.44999999999999984,0.45999999999999985,0.46999999999999986,0.47999999999999976,0.48999999999999977,0.4999999999999998,0.5099999999999998,0.5199999999999998,0.5299999999999998,0.5399999999999998,0.5499999999999998,0.5599999999999997,0.5699999999999997,0.5799999999999997,0.5899999999999997,0.5999999999999998,0.6099999999999998,0.6199999999999998,0.6299999999999997,0.6399999999999997,0.6499999999999997,0.6599999999999997,0.6699999999999997,0.6799999999999997,0.6899999999999997,0.6999999999999996,0.7099999999999996,0.7199999999999996,0.7299999999999996,0.7399999999999997,0.7499999999999997,0.7599999999999997,0.7699999999999997,0.7799999999999997,0.7899999999999996,0.7999999999999996,0.8099999999999996,0.8199999999999996,0.8299999999999996,0.8399999999999996,0.8499999999999996,0.8599999999999995,0.8699999999999996,0.8799999999999996,0.8899999999999996,0.8999999999999996,0.9099999999999996,0.9199999999999996,0.9299999999999996,0.9399999999999996,0.9499999999999995,0.9599999999999995,0.9699999999999995,0.9799999999999995,0.9899999999999995],\"xaxis\":\"x3\",\"y\":[0.0022831050228310475,0.002075550020755498,0.0019025875190258747,0.0017562346329469609,0.0016307893020221771,0.0015220700152206992,0.0014269406392694059,0.0013430029546064998,0.0012683916793505832,0.0012016342225426584,0.0011415525114155246,0.0010871928680147858,0.0010377750103777493,0.0009926543577526304,0.0009512937595129373,0.0009132420091324203,0.000878117316473481,0.0008455944529003888,0.0008153946510110888,0.0007872775940796725,0.0007610350076103496,0.0007364854912358227,0.0007134703196347032,0.0006918500069185002,0.0006715014773032501,0.0006523157208088718,0.0006341958396752917,0.0006170554115759594,0.0006008171112713292,0.0005854115443156537,0.0005707762557077624,0.0005568548836173293,0.0005435964340073931,0.0005309546564723371,0.0005188875051888748,0.0005073566717402335,0.0004963271788763153,0.00048576702613426604,0.0004756468797564688,0.0004659398005777652,0.00045662100456621014,0.00044766765153549993,0.0004390586582367405,0.00043077453260963216,0.0004227972264501944,0.00041511000415110004,0.0004076973255055444,0.0004005447408475527,0.0003936387970398363,0.00038696695302221185,0.00038051750380517507,0.00037427951193951626,0.00036824274561791134,0.00036239762267159525,0.00035673515981735163,0.0003512469265893922,0.0003459250034592501,0.00034076194370612694,0.00033575073865162506,0.0003308847859175436,0.0003261578604044359,0.00032156408772268316,0.0003170979198376459,0.0003127541127165821,0.0003085277057879797,0.00030441400304414,0.00030040855563566465,0.00029650714582221444,0.0002927057721578269,0.0002890006358013988,0.0002853881278538812,0.00028186481763346294,0.00027842744180866467,0.0002750728943169938,0.00027179821700369655,0.0002686005909213001,0.0002654773282361686,0.0002624258646932241,0.0002594437525944374,0.00025652865425067984,0.00025367833587011673,0.0002508906618495659,0.00024816358943815766,0.0002454951637452742,0.00024288351306713302,0.00024032684450853173,0.0002378234398782344,0.00023537165183825262,0.0002329699002888826,0.00023061666897283335],\"yaxis\":\"y3\",\"type\":\"scatter\"},{\"fillpattern\":{\"shape\":\"\"},\"hovertemplate\":\"variable=Fixed OM Cost\\u003cbr\\u003eDiscountRate=0.1\\u003cbr\\u003eTechnology=CSP\\u003cbr\\u003eLoadFactor (%)=%{x}\\u003cbr\\u003eLCOE (\\u20ac\\u002fkW)=%{y}\\u003cextra\\u003e\\u003c\\u002fextra\\u003e\",\"legendgroup\":\"Fixed OM Cost\",\"line\":{\"color\":\"#636efa\"},\"marker\":{\"symbol\":\"circle\"},\"mode\":\"lines\",\"name\":\"Fixed OM Cost\",\"orientation\":\"v\",\"showlegend\":false,\"stackgroup\":\"1\",\"x\":[0.1,0.11,0.12,0.13,0.13999999999999999,0.14999999999999997,0.15999999999999998,0.16999999999999998,0.17999999999999997,0.18999999999999995,0.19999999999999996,0.20999999999999996,0.21999999999999995,0.22999999999999995,0.23999999999999994,0.24999999999999992,0.2599999999999999,0.2699999999999999,0.2799999999999999,0.2899999999999999,0.29999999999999993,0.30999999999999994,0.3199999999999999,0.32999999999999985,0.33999999999999986,0.34999999999999987,0.3599999999999999,0.3699999999999999,0.3799999999999999,0.3899999999999999,0.3999999999999998,0.4099999999999998,0.4199999999999998,0.4299999999999998,0.43999999999999984,0.44999999999999984,0.45999999999999985,0.46999999999999986,0.47999999999999976,0.48999999999999977,0.4999999999999998,0.5099999999999998,0.5199999999999998,0.5299999999999998,0.5399999999999998,0.5499999999999998,0.5599999999999997,0.5699999999999997,0.5799999999999997,0.5899999999999997,0.5999999999999998,0.6099999999999998,0.6199999999999998,0.6299999999999997,0.6399999999999997,0.6499999999999997,0.6599999999999997,0.6699999999999997,0.6799999999999997,0.6899999999999997,0.6999999999999996,0.7099999999999996,0.7199999999999996,0.7299999999999996,0.7399999999999997,0.7499999999999997,0.7599999999999997,0.7699999999999997,0.7799999999999997,0.7899999999999996,0.7999999999999996,0.8099999999999996,0.8199999999999996,0.8299999999999996,0.8399999999999996,0.8499999999999996,0.8599999999999995,0.8699999999999996,0.8799999999999996,0.8899999999999996,0.8999999999999996,0.9099999999999996,0.9199999999999996,0.9299999999999996,0.9399999999999996,0.9499999999999995,0.9599999999999995,0.9699999999999995,0.9799999999999995,0.9899999999999995],\"xaxis\":\"x4\",\"y\":[0.005707762557077625,0.00518887505188875,0.004756468797564687,0.0043905865823674044,0.004076973255055448,0.0038051750380517515,0.0035673515981735175,0.003357507386516252,0.0031709791983764593,0.003004085556356646,0.002853881278538813,0.0027179821700369666,0.0025944375259443764,0.0024816358943815773,0.0023782343987823447,0.0022831050228310514,0.0021952932911837035,0.0021139861322509736,0.002038486627527724,0.0019681939851991827,0.0019025875190258757,0.0018412137280895574,0.001783675799086759,0.0017296250172962517,0.0016787536932581267,0.0016307893020221793,0.00158548959918823,0.001542638528939899,0.001502042778178323,0.0014635288607891352,0.0014269406392694076,0.001392137209043324,0.0013589910850184835,0.001327386641180844,0.0012972187629721886,0.001268391679350584,0.0012408179471907887,0.0012144175653356654,0.0011891171993911726,0.0011648495014444143,0.0011415525114155257,0.0011191691288387508,0.0010976466455918518,0.001076936331524081,0.0010569930661254868,0.0010377750103777504,0.0010192433137638625,0.0010013618521188823,0.0009840969925995913,0.0009674173825555303,0.0009512937595129383,0.0009356987798487912,0.0009206068640447788,0.0009059940566789886,0.0008918378995433796,0.0008781173164734814,0.0008648125086481259,0.0008519048592653179,0.0008393768466290634,0.0008272119647938592,0.0008153946510110898,0.0008039102193067084,0.0007927447995941153,0.000781885281791456,0.0007713192644699498,0.0007610350076103505,0.0007510213890891617,0.0007412678645555362,0.0007317644303945676,0.0007225015895034972,0.0007134703196347038,0.0007046620440836579,0.000696068604521662,0.0006876822357924854,0.0006794955425092418,0.0006715014773032502,0.000663693320590422,0.0006560646617330609,0.0006486093814860943,0.0006413216356266999,0.000634195839675292,0.0006272266546239153,0.0006204089735953943,0.0006137379093631858,0.0006072087826678328,0.0006008171112713292,0.0005945585996955863,0.0005884291295956318,0.0005824247507222072,0.0005765416724320837],\"yaxis\":\"y4\",\"type\":\"scatter\"},{\"fillpattern\":{\"shape\":\"\"},\"hovertemplate\":\"variable=Fixed OM Cost\\u003cbr\\u003eDiscountRate=0.1\\u003cbr\\u003eTechnology=Wind\\u003cbr\\u003eLoadFactor (%)=%{x}\\u003cbr\\u003eLCOE (\\u20ac\\u002fkW)=%{y}\\u003cextra\\u003e\\u003c\\u002fextra\\u003e\",\"legendgroup\":\"Fixed OM Cost\",\"line\":{\"color\":\"#636efa\"},\"marker\":{\"symbol\":\"circle\"},\"mode\":\"lines\",\"name\":\"Fixed OM Cost\",\"orientation\":\"v\",\"showlegend\":false,\"stackgroup\":\"1\",\"x\":[0.1,0.11,0.12,0.13,0.13999999999999999,0.14999999999999997,0.15999999999999998,0.16999999999999998,0.17999999999999997,0.18999999999999995,0.19999999999999996,0.20999999999999996,0.21999999999999995,0.22999999999999995,0.23999999999999994,0.24999999999999992,0.2599999999999999,0.2699999999999999,0.2799999999999999,0.2899999999999999,0.29999999999999993,0.30999999999999994,0.3199999999999999,0.32999999999999985,0.33999999999999986,0.34999999999999987,0.3599999999999999,0.3699999999999999,0.3799999999999999,0.3899999999999999,0.3999999999999998,0.4099999999999998,0.4199999999999998,0.4299999999999998,0.43999999999999984,0.44999999999999984,0.45999999999999985,0.46999999999999986,0.47999999999999976,0.48999999999999977,0.4999999999999998,0.5099999999999998,0.5199999999999998,0.5299999999999998,0.5399999999999998,0.5499999999999998,0.5599999999999997,0.5699999999999997,0.5799999999999997,0.5899999999999997,0.5999999999999998,0.6099999999999998,0.6199999999999998,0.6299999999999997,0.6399999999999997,0.6499999999999997,0.6599999999999997,0.6699999999999997,0.6799999999999997,0.6899999999999997,0.6999999999999996,0.7099999999999996,0.7199999999999996,0.7299999999999996,0.7399999999999997,0.7499999999999997,0.7599999999999997,0.7699999999999997,0.7799999999999997,0.7899999999999996,0.7999999999999996,0.8099999999999996,0.8199999999999996,0.8299999999999996,0.8399999999999996,0.8499999999999996,0.8599999999999995,0.8699999999999996,0.8799999999999996,0.8899999999999996,0.8999999999999996,0.9099999999999996,0.9199999999999996,0.9299999999999996,0.9399999999999996,0.9499999999999995,0.9599999999999995,0.9699999999999995,0.9799999999999995,0.9899999999999995],\"xaxis\":\"x5\",\"y\":[0.0022831050228310505,0.0020755500207555004,0.001902587519025875,0.0017562346329469613,0.0016307893020221784,0.0015220700152207007,0.0014269406392694065,0.0013430029546064998,0.0012683916793505834,0.0012016342225426586,0.0011415525114155255,0.0010871928680147858,0.0010377750103777504,0.0009926543577526306,0.0009512937595129378,0.0009132420091324202,0.0008781173164734812,0.0008455944529003894,0.0008153946510110892,0.0007872775940796728,0.0007610350076103504,0.0007364854912358227,0.0007134703196347034,0.0006918500069185002,0.0006715014773032502,0.0006523157208088718,0.0006341958396752919,0.0006170554115759599,0.0006008171112713293,0.000585411544315654,0.000570776255707763,0.0005568548836173294,0.000543596434007393,0.0005309546564723376,0.0005188875051888752,0.0005073566717402336,0.0004963271788763154,0.0004857670261342661,0.000475646879756469,0.00046593980057776555,0.0004566210045662101,0.0004476676515355001,0.0004390586582367406,0.0004307745326096324,0.0004227972264501947,0.00041511000415110036,0.0004076973255055448,0.0004005447408475528,0.0003936387970398365,0.00038696695302221207,0.00038051750380517523,0.0003742795119395165,0.0003682427456179115,0.0003623976226715956,0.0003567351598173517,0.0003512469265893925,0.0003459250034592501,0.00034076194370612705,0.0003357507386516251,0.0003308847859175437,0.00032615786040443595,0.00032156408772268343,0.000317097919837646,0.0003127541127165823,0.00030852770578797994,0.0003044140030441402,0.00030040855563566465,0.0002965071458222145,0.00029270577215782703,0.0002890006358013989,0.0002853881278538815,0.00028186481763346305,0.0002784274418086647,0.0002750728943169941,0.0002717982170036965,0.00026860059092130025,0.0002654773282361688,0.00026242586469322424,0.00025944375259443766,0.0002565286542506799,0.0002536783358701169,0.00025089066184956607,0.0002481635894381577,0.0002454951637452743,0.00024288351306713308,0.00024032684450853175,0.0002378234398782345,0.00023537165183825276,0.00023296990028888278,0.0002306166689728335],\"yaxis\":\"y5\",\"type\":\"scatter\"},{\"fillpattern\":{\"shape\":\"\"},\"hovertemplate\":\"variable=Variable OM Cost\\u003cbr\\u003eDiscountRate=0.05\\u003cbr\\u003eTechnology=CCGT\\u003cbr\\u003eLoadFactor (%)=%{x}\\u003cbr\\u003eLCOE (\\u20ac\\u002fkW)=%{y}\\u003cextra\\u003e\\u003c\\u002fextra\\u003e\",\"legendgroup\":\"Variable OM Cost\",\"line\":{\"color\":\"#EF553B\"},\"marker\":{\"symbol\":\"circle\"},\"mode\":\"lines\",\"name\":\"Variable OM Cost\",\"orientation\":\"v\",\"showlegend\":true,\"stackgroup\":\"1\",\"x\":[0.1,0.11,0.12,0.13,0.13999999999999999,0.14999999999999997,0.15999999999999998,0.16999999999999998,0.17999999999999997,0.18999999999999995,0.19999999999999996,0.20999999999999996,0.21999999999999995,0.22999999999999995,0.23999999999999994,0.24999999999999992,0.2599999999999999,0.2699999999999999,0.2799999999999999,0.2899999999999999,0.29999999999999993,0.30999999999999994,0.3199999999999999,0.32999999999999985,0.33999999999999986,0.34999999999999987,0.3599999999999999,0.3699999999999999,0.3799999999999999,0.3899999999999999,0.3999999999999998,0.4099999999999998,0.4199999999999998,0.4299999999999998,0.43999999999999984,0.44999999999999984,0.45999999999999985,0.46999999999999986,0.47999999999999976,0.48999999999999977,0.4999999999999998,0.5099999999999998,0.5199999999999998,0.5299999999999998,0.5399999999999998,0.5499999999999998,0.5599999999999997,0.5699999999999997,0.5799999999999997,0.5899999999999997,0.5999999999999998,0.6099999999999998,0.6199999999999998,0.6299999999999997,0.6399999999999997,0.6499999999999997,0.6599999999999997,0.6699999999999997,0.6799999999999997,0.6899999999999997,0.6999999999999996,0.7099999999999996,0.7199999999999996,0.7299999999999996,0.7399999999999997,0.7499999999999997,0.7599999999999997,0.7699999999999997,0.7799999999999997,0.7899999999999996,0.7999999999999996,0.8099999999999996,0.8199999999999996,0.8299999999999996,0.8399999999999996,0.8499999999999996,0.8599999999999995,0.8699999999999996,0.8799999999999996,0.8899999999999996,0.8999999999999996,0.9099999999999996,0.9199999999999996,0.9299999999999996,0.9399999999999996,0.9499999999999995,0.9599999999999995,0.9699999999999995,0.9799999999999995,0.9899999999999995],\"xaxis\":\"x6\",\"y\":[0.07,0.07000000000000002,0.06999999999999999,0.06999999999999999,0.06999999999999998,0.06999999999999997,0.06999999999999998,0.07,0.06999999999999999,0.07000000000000003,0.06999999999999999,0.06999999999999999,0.07000000000000002,0.07,0.07,0.07,0.06999999999999999,0.07,0.06999999999999999,0.07,0.06999999999999997,0.06999999999999998,0.06999999999999999,0.06999999999999999,0.07,0.06999999999999999,0.07000000000000002,0.07000000000000002,0.07000000000000003,0.07000000000000003,0.06999999999999999,0.06999999999999998,0.06999999999999999,0.07,0.07,0.06999999999999998,0.07000000000000002,0.07000000000000003,0.07,0.07,0.06999999999999999,0.07,0.06999999999999999,0.07000000000000002,0.07,0.07,0.07,0.07,0.07000000000000002,0.06999999999999999,0.06999999999999998,0.06999999999999999,0.06999999999999999,0.06999999999999998,0.06999999999999999,0.06999999999999999,0.06999999999999999,0.07,0.07,0.07,0.06999999999999999,0.06999999999999999,0.07000000000000002,0.07000000000000002,0.07000000000000002,0.07,0.07000000000000003,0.06999999999999998,0.07000000000000003,0.06999999999999999,0.06999999999999999,0.06999999999999998,0.06999999999999998,0.06999999999999998,0.06999999999999999,0.07,0.06999999999999999,0.07,0.07,0.06999999999999999,0.06999999999999998,0.07,0.07000000000000002,0.07,0.07,0.06999999999999997,0.07,0.07,0.07,0.06999999999999999],\"yaxis\":\"y6\",\"type\":\"scatter\"},{\"fillpattern\":{\"shape\":\"\"},\"hovertemplate\":\"variable=Variable OM Cost\\u003cbr\\u003eDiscountRate=0.05\\u003cbr\\u003eTechnology=Coal\\u003cbr\\u003eLoadFactor (%)=%{x}\\u003cbr\\u003eLCOE (\\u20ac\\u002fkW)=%{y}\\u003cextra\\u003e\\u003c\\u002fextra\\u003e\",\"legendgroup\":\"Variable OM Cost\",\"line\":{\"color\":\"#EF553B\"},\"marker\":{\"symbol\":\"circle\"},\"mode\":\"lines\",\"name\":\"Variable OM Cost\",\"orientation\":\"v\",\"showlegend\":false,\"stackgroup\":\"1\",\"x\":[0.1,0.11,0.12,0.13,0.13999999999999999,0.14999999999999997,0.15999999999999998,0.16999999999999998,0.17999999999999997,0.18999999999999995,0.19999999999999996,0.20999999999999996,0.21999999999999995,0.22999999999999995,0.23999999999999994,0.24999999999999992,0.2599999999999999,0.2699999999999999,0.2799999999999999,0.2899999999999999,0.29999999999999993,0.30999999999999994,0.3199999999999999,0.32999999999999985,0.33999999999999986,0.34999999999999987,0.3599999999999999,0.3699999999999999,0.3799999999999999,0.3899999999999999,0.3999999999999998,0.4099999999999998,0.4199999999999998,0.4299999999999998,0.43999999999999984,0.44999999999999984,0.45999999999999985,0.46999999999999986,0.47999999999999976,0.48999999999999977,0.4999999999999998,0.5099999999999998,0.5199999999999998,0.5299999999999998,0.5399999999999998,0.5499999999999998,0.5599999999999997,0.5699999999999997,0.5799999999999997,0.5899999999999997,0.5999999999999998,0.6099999999999998,0.6199999999999998,0.6299999999999997,0.6399999999999997,0.6499999999999997,0.6599999999999997,0.6699999999999997,0.6799999999999997,0.6899999999999997,0.6999999999999996,0.7099999999999996,0.7199999999999996,0.7299999999999996,0.7399999999999997,0.7499999999999997,0.7599999999999997,0.7699999999999997,0.7799999999999997,0.7899999999999996,0.7999999999999996,0.8099999999999996,0.8199999999999996,0.8299999999999996,0.8399999999999996,0.8499999999999996,0.8599999999999995,0.8699999999999996,0.8799999999999996,0.8899999999999996,0.8999999999999996,0.9099999999999996,0.9199999999999996,0.9299999999999996,0.9399999999999996,0.9499999999999995,0.9599999999999995,0.9699999999999995,0.9799999999999995,0.9899999999999995],\"xaxis\":\"x7\",\"y\":[0.034999999999999996,0.03500000000000001,0.035,0.035,0.034999999999999996,0.034999999999999976,0.03500000000000001,0.03499999999999999,0.035,0.03500000000000001,0.034999999999999996,0.03499999999999999,0.035,0.035,0.034999999999999996,0.035,0.035,0.035,0.035,0.03500000000000001,0.034999999999999976,0.03500000000000001,0.03500000000000002,0.034999999999999996,0.03499999999999999,0.03500000000000002,0.03499999999999999,0.035,0.03500000000000001,0.035,0.035,0.03499999999999999,0.03500000000000001,0.034999999999999996,0.035,0.03499999999999999,0.035,0.03499999999999998,0.034999999999999996,0.03500000000000002,0.035,0.035,0.035,0.03500000000000001,0.035,0.03500000000000001,0.03499999999999998,0.034999999999999996,0.03500000000000001,0.035,0.034999999999999976,0.035,0.03500000000000001,0.03499999999999998,0.03500000000000001,0.03500000000000001,0.034999999999999996,0.035000000000000024,0.03499999999999999,0.035,0.035,0.03499999999999999,0.034999999999999996,0.035,0.035,0.035,0.03500000000000001,0.03500000000000001,0.035,0.035,0.035,0.034999999999999996,0.03499999999999999,0.03500000000000001,0.03500000000000001,0.034999999999999996,0.034999999999999996,0.03500000000000001,0.035,0.03500000000000001,0.034999999999999996,0.035,0.03500000000000001,0.03499999999999998,0.03499999999999999,0.035000000000000024,0.034999999999999996,0.03499999999999998,0.03500000000000002,0.03499999999999998],\"yaxis\":\"y7\",\"type\":\"scatter\"},{\"fillpattern\":{\"shape\":\"\"},\"hovertemplate\":\"variable=Variable OM Cost\\u003cbr\\u003eDiscountRate=0.05\\u003cbr\\u003eTechnology=Nuclear\\u003cbr\\u003eLoadFactor (%)=%{x}\\u003cbr\\u003eLCOE (\\u20ac\\u002fkW)=%{y}\\u003cextra\\u003e\\u003c\\u002fextra\\u003e\",\"legendgroup\":\"Variable OM Cost\",\"line\":{\"color\":\"#EF553B\"},\"marker\":{\"symbol\":\"circle\"},\"mode\":\"lines\",\"name\":\"Variable OM Cost\",\"orientation\":\"v\",\"showlegend\":false,\"stackgroup\":\"1\",\"x\":[0.1,0.11,0.12,0.13,0.13999999999999999,0.14999999999999997,0.15999999999999998,0.16999999999999998,0.17999999999999997,0.18999999999999995,0.19999999999999996,0.20999999999999996,0.21999999999999995,0.22999999999999995,0.23999999999999994,0.24999999999999992,0.2599999999999999,0.2699999999999999,0.2799999999999999,0.2899999999999999,0.29999999999999993,0.30999999999999994,0.3199999999999999,0.32999999999999985,0.33999999999999986,0.34999999999999987,0.3599999999999999,0.3699999999999999,0.3799999999999999,0.3899999999999999,0.3999999999999998,0.4099999999999998,0.4199999999999998,0.4299999999999998,0.43999999999999984,0.44999999999999984,0.45999999999999985,0.46999999999999986,0.47999999999999976,0.48999999999999977,0.4999999999999998,0.5099999999999998,0.5199999999999998,0.5299999999999998,0.5399999999999998,0.5499999999999998,0.5599999999999997,0.5699999999999997,0.5799999999999997,0.5899999999999997,0.5999999999999998,0.6099999999999998,0.6199999999999998,0.6299999999999997,0.6399999999999997,0.6499999999999997,0.6599999999999997,0.6699999999999997,0.6799999999999997,0.6899999999999997,0.6999999999999996,0.7099999999999996,0.7199999999999996,0.7299999999999996,0.7399999999999997,0.7499999999999997,0.7599999999999997,0.7699999999999997,0.7799999999999997,0.7899999999999996,0.7999999999999996,0.8099999999999996,0.8199999999999996,0.8299999999999996,0.8399999999999996,0.8499999999999996,0.8599999999999995,0.8699999999999996,0.8799999999999996,0.8899999999999996,0.8999999999999996,0.9099999999999996,0.9199999999999996,0.9299999999999996,0.9399999999999996,0.9499999999999995,0.9599999999999995,0.9699999999999995,0.9799999999999995,0.9899999999999995],\"xaxis\":\"x8\",\"y\":[0.022500000000000013,0.022499999999999992,0.022499999999999996,0.022499999999999996,0.022499999999999996,0.022500000000000013,0.022499999999999996,0.02250000000000001,0.022500000000000006,0.0225,0.022500000000000013,0.02250000000000001,0.02249999999999999,0.022499999999999985,0.0225,0.022499999999999982,0.022500000000000003,0.022499999999999992,0.0225,0.0225,0.022500000000000013,0.022500000000000006,0.0225,0.022500000000000006,0.02250000000000001,0.022500000000000017,0.02250000000000001,0.022500000000000003,0.0225,0.022500000000000003,0.022500000000000013,0.022499999999999992,0.02250000000000001,0.022499999999999996,0.0225,0.022499999999999992,0.022499999999999985,0.0225,0.022499999999999996,0.022500000000000003,0.022499999999999982,0.0225,0.022500000000000003,0.0225,0.022499999999999992,0.02250000000000001,0.0225,0.022500000000000006,0.022500000000000003,0.0225,0.02250000000000001,0.022500000000000006,0.022500000000000006,0.02250000000000001,0.02250000000000001,0.022499999999999996,0.022500000000000006,0.022499999999999996,0.02250000000000001,0.02250000000000002,0.022500000000000013,0.02249999999999999,0.022500000000000003,0.02250000000000001,0.022500000000000006,0.02249999999999999,0.022500000000000006,0.022499999999999992,0.022500000000000003,0.02249999999999999,0.022500000000000013,0.02249999999999999,0.022499999999999992,0.022500000000000003,0.02250000000000001,0.02250000000000001,0.0225,0.02250000000000001,0.0225,0.022500000000000003,0.022499999999999992,0.0225,0.022499999999999985,0.022499999999999996,0.0225,0.022499999999999996,0.022499999999999996,0.022499999999999992,0.022500000000000003,0.02250000000000001],\"yaxis\":\"y8\",\"type\":\"scatter\"},{\"fillpattern\":{\"shape\":\"\"},\"hovertemplate\":\"variable=Variable OM Cost\\u003cbr\\u003eDiscountRate=0.05\\u003cbr\\u003eTechnology=CSP\\u003cbr\\u003eLoadFactor (%)=%{x}\\u003cbr\\u003eLCOE (\\u20ac\\u002fkW)=%{y}\\u003cextra\\u003e\\u003c\\u002fextra\\u003e\",\"legendgroup\":\"Variable OM Cost\",\"line\":{\"color\":\"#EF553B\"},\"marker\":{\"symbol\":\"circle\"},\"mode\":\"lines\",\"name\":\"Variable OM Cost\",\"orientation\":\"v\",\"showlegend\":false,\"stackgroup\":\"1\",\"x\":[0.1,0.11,0.12,0.13,0.13999999999999999,0.14999999999999997,0.15999999999999998,0.16999999999999998,0.17999999999999997,0.18999999999999995,0.19999999999999996,0.20999999999999996,0.21999999999999995,0.22999999999999995,0.23999999999999994,0.24999999999999992,0.2599999999999999,0.2699999999999999,0.2799999999999999,0.2899999999999999,0.29999999999999993,0.30999999999999994,0.3199999999999999,0.32999999999999985,0.33999999999999986,0.34999999999999987,0.3599999999999999,0.3699999999999999,0.3799999999999999,0.3899999999999999,0.3999999999999998,0.4099999999999998,0.4199999999999998,0.4299999999999998,0.43999999999999984,0.44999999999999984,0.45999999999999985,0.46999999999999986,0.47999999999999976,0.48999999999999977,0.4999999999999998,0.5099999999999998,0.5199999999999998,0.5299999999999998,0.5399999999999998,0.5499999999999998,0.5599999999999997,0.5699999999999997,0.5799999999999997,0.5899999999999997,0.5999999999999998,0.6099999999999998,0.6199999999999998,0.6299999999999997,0.6399999999999997,0.6499999999999997,0.6599999999999997,0.6699999999999997,0.6799999999999997,0.6899999999999997,0.6999999999999996,0.7099999999999996,0.7199999999999996,0.7299999999999996,0.7399999999999997,0.7499999999999997,0.7599999999999997,0.7699999999999997,0.7799999999999997,0.7899999999999996,0.7999999999999996,0.8099999999999996,0.8199999999999996,0.8299999999999996,0.8399999999999996,0.8499999999999996,0.8599999999999995,0.8699999999999996,0.8799999999999996,0.8899999999999996,0.8999999999999996,0.9099999999999996,0.9199999999999996,0.9299999999999996,0.9399999999999996,0.9499999999999995,0.9599999999999995,0.9699999999999995,0.9799999999999995,0.9899999999999995],\"xaxis\":\"x9\",\"y\":[0.01,0.010000000000000002,0.010000000000000002,0.01,0.01,0.010000000000000002,0.010000000000000002,0.01,0.010000000000000002,0.010000000000000004,0.009999999999999998,0.009999999999999995,0.010000000000000002,0.01,0.010000000000000002,0.009999999999999998,0.010000000000000002,0.010000000000000004,0.010000000000000002,0.009999999999999998,0.010000000000000002,0.01,0.010000000000000004,0.01,0.010000000000000004,0.010000000000000002,0.010000000000000002,0.009999999999999998,0.010000000000000004,0.01,0.010000000000000004,0.010000000000000002,0.009999999999999998,0.009999999999999995,0.010000000000000002,0.009999999999999998,0.01,0.009999999999999997,0.010000000000000002,0.01,0.009999999999999998,0.01,0.010000000000000002,0.010000000000000005,0.010000000000000004,0.01,0.009999999999999995,0.009999999999999998,0.009999999999999998,0.010000000000000004,0.010000000000000002,0.009999999999999998,0.010000000000000005,0.009999999999999998,0.010000000000000002,0.01,0.01,0.010000000000000002,0.010000000000000004,0.010000000000000002,0.01,0.01,0.009999999999999998,0.009999999999999998,0.009999999999999998,0.010000000000000002,0.010000000000000002,0.010000000000000002,0.009999999999999998,0.010000000000000002,0.010000000000000004,0.010000000000000005,0.010000000000000002,0.01,0.009999999999999998,0.010000000000000002,0.009999999999999998,0.010000000000000005,0.010000000000000002,0.009999999999999998,0.01,0.01,0.010000000000000002,0.01,0.009999999999999997,0.010000000000000004,0.010000000000000002,0.009999999999999997,0.01,0.01],\"yaxis\":\"y9\",\"type\":\"scatter\"},{\"fillpattern\":{\"shape\":\"\"},\"hovertemplate\":\"variable=Variable OM Cost\\u003cbr\\u003eDiscountRate=0.05\\u003cbr\\u003eTechnology=Wind\\u003cbr\\u003eLoadFactor (%)=%{x}\\u003cbr\\u003eLCOE (\\u20ac\\u002fkW)=%{y}\\u003cextra\\u003e\\u003c\\u002fextra\\u003e\",\"legendgroup\":\"Variable OM Cost\",\"line\":{\"color\":\"#EF553B\"},\"marker\":{\"symbol\":\"circle\"},\"mode\":\"lines\",\"name\":\"Variable OM Cost\",\"orientation\":\"v\",\"showlegend\":false,\"stackgroup\":\"1\",\"x\":[0.1,0.11,0.12,0.13,0.13999999999999999,0.14999999999999997,0.15999999999999998,0.16999999999999998,0.17999999999999997,0.18999999999999995,0.19999999999999996,0.20999999999999996,0.21999999999999995,0.22999999999999995,0.23999999999999994,0.24999999999999992,0.2599999999999999,0.2699999999999999,0.2799999999999999,0.2899999999999999,0.29999999999999993,0.30999999999999994,0.3199999999999999,0.32999999999999985,0.33999999999999986,0.34999999999999987,0.3599999999999999,0.3699999999999999,0.3799999999999999,0.3899999999999999,0.3999999999999998,0.4099999999999998,0.4199999999999998,0.4299999999999998,0.43999999999999984,0.44999999999999984,0.45999999999999985,0.46999999999999986,0.47999999999999976,0.48999999999999977,0.4999999999999998,0.5099999999999998,0.5199999999999998,0.5299999999999998,0.5399999999999998,0.5499999999999998,0.5599999999999997,0.5699999999999997,0.5799999999999997,0.5899999999999997,0.5999999999999998,0.6099999999999998,0.6199999999999998,0.6299999999999997,0.6399999999999997,0.6499999999999997,0.6599999999999997,0.6699999999999997,0.6799999999999997,0.6899999999999997,0.6999999999999996,0.7099999999999996,0.7199999999999996,0.7299999999999996,0.7399999999999997,0.7499999999999997,0.7599999999999997,0.7699999999999997,0.7799999999999997,0.7899999999999996,0.7999999999999996,0.8099999999999996,0.8199999999999996,0.8299999999999996,0.8399999999999996,0.8499999999999996,0.8599999999999995,0.8699999999999996,0.8799999999999996,0.8899999999999996,0.8999999999999996,0.9099999999999996,0.9199999999999996,0.9299999999999996,0.9399999999999996,0.9499999999999995,0.9599999999999995,0.9699999999999995,0.9799999999999995,0.9899999999999995],\"xaxis\":\"x10\",\"y\":[0.00010000000000000002,9.999999999999994e-05,9.999999999999998e-05,0.00010000000000000003,0.00010000000000000002,0.00010000000000000005,0.00010000000000000003,9.999999999999995e-05,0.00010000000000000002,0.0001,0.0001,0.0001,9.999999999999999e-05,9.999999999999999e-05,9.999999999999998e-05,0.00010000000000000005,0.00010000000000000002,0.00010000000000000003,0.00010000000000000002,9.999999999999999e-05,0.00010000000000000005,0.00010000000000000005,9.999999999999998e-05,0.0001,9.999999999999996e-05,0.0001,0.00010000000000000002,9.999999999999999e-05,0.0001,9.999999999999999e-05,0.00010000000000000002,0.00010000000000000003,0.00010000000000000006,0.0001,9.999999999999999e-05,0.00010000000000000002,0.0001,9.999999999999995e-05,0.0001,0.00010000000000000003,0.00010000000000000005,9.999999999999999e-05,0.00010000000000000002,9.999999999999995e-05,0.00010000000000000003,0.00010000000000000002,0.00010000000000000002,0.00010000000000000002,9.999999999999998e-05,0.0001,0.00010000000000000005,0.00010000000000000003,0.00010000000000000002,0.00010000000000000003,9.999999999999998e-05,0.0001,0.0001,0.00010000000000000002,9.999999999999996e-05,9.999999999999999e-05,9.999999999999998e-05,9.999999999999999e-05,0.0001,9.999999999999995e-05,0.0001,0.00010000000000000003,0.0001,0.00010000000000000003,0.0001,0.0001,0.00010000000000000002,9.999999999999996e-05,0.00010000000000000003,0.00010000000000000003,0.00010000000000000006,0.00010000000000000006,0.0001,9.999999999999998e-05,9.999999999999995e-05,0.0001,0.00010000000000000003,9.999999999999999e-05,0.00010000000000000002,0.0001,9.999999999999995e-05,9.999999999999999e-05,0.0001,9.999999999999999e-05,0.00010000000000000003,0.0001],\"yaxis\":\"y10\",\"type\":\"scatter\"},{\"fillpattern\":{\"shape\":\"\"},\"hovertemplate\":\"variable=Variable OM Cost\\u003cbr\\u003eDiscountRate=0.1\\u003cbr\\u003eTechnology=CCGT\\u003cbr\\u003eLoadFactor (%)=%{x}\\u003cbr\\u003eLCOE (\\u20ac\\u002fkW)=%{y}\\u003cextra\\u003e\\u003c\\u002fextra\\u003e\",\"legendgroup\":\"Variable OM Cost\",\"line\":{\"color\":\"#EF553B\"},\"marker\":{\"symbol\":\"circle\"},\"mode\":\"lines\",\"name\":\"Variable OM Cost\",\"orientation\":\"v\",\"showlegend\":false,\"stackgroup\":\"1\",\"x\":[0.1,0.11,0.12,0.13,0.13999999999999999,0.14999999999999997,0.15999999999999998,0.16999999999999998,0.17999999999999997,0.18999999999999995,0.19999999999999996,0.20999999999999996,0.21999999999999995,0.22999999999999995,0.23999999999999994,0.24999999999999992,0.2599999999999999,0.2699999999999999,0.2799999999999999,0.2899999999999999,0.29999999999999993,0.30999999999999994,0.3199999999999999,0.32999999999999985,0.33999999999999986,0.34999999999999987,0.3599999999999999,0.3699999999999999,0.3799999999999999,0.3899999999999999,0.3999999999999998,0.4099999999999998,0.4199999999999998,0.4299999999999998,0.43999999999999984,0.44999999999999984,0.45999999999999985,0.46999999999999986,0.47999999999999976,0.48999999999999977,0.4999999999999998,0.5099999999999998,0.5199999999999998,0.5299999999999998,0.5399999999999998,0.5499999999999998,0.5599999999999997,0.5699999999999997,0.5799999999999997,0.5899999999999997,0.5999999999999998,0.6099999999999998,0.6199999999999998,0.6299999999999997,0.6399999999999997,0.6499999999999997,0.6599999999999997,0.6699999999999997,0.6799999999999997,0.6899999999999997,0.6999999999999996,0.7099999999999996,0.7199999999999996,0.7299999999999996,0.7399999999999997,0.7499999999999997,0.7599999999999997,0.7699999999999997,0.7799999999999997,0.7899999999999996,0.7999999999999996,0.8099999999999996,0.8199999999999996,0.8299999999999996,0.8399999999999996,0.8499999999999996,0.8599999999999995,0.8699999999999996,0.8799999999999996,0.8899999999999996,0.8999999999999996,0.9099999999999996,0.9199999999999996,0.9299999999999996,0.9399999999999996,0.9499999999999995,0.9599999999999995,0.9699999999999995,0.9799999999999995,0.9899999999999995],\"xaxis\":\"x\",\"y\":[0.07000000000000002,0.07000000000000002,0.07000000000000002,0.06999999999999999,0.07000000000000002,0.06999999999999999,0.06999999999999999,0.07000000000000003,0.06999999999999999,0.07,0.07000000000000002,0.06999999999999999,0.07,0.06999999999999999,0.07000000000000003,0.06999999999999997,0.06999999999999998,0.07000000000000002,0.07000000000000003,0.07,0.06999999999999999,0.06999999999999999,0.06999999999999999,0.06999999999999999,0.07000000000000003,0.07,0.06999999999999999,0.06999999999999999,0.07,0.07,0.07000000000000002,0.06999999999999999,0.06999999999999997,0.06999999999999999,0.07000000000000002,0.07,0.06999999999999998,0.06999999999999998,0.07000000000000003,0.06999999999999998,0.06999999999999998,0.06999999999999999,0.06999999999999998,0.06999999999999999,0.07000000000000002,0.06999999999999998,0.07000000000000003,0.07,0.07000000000000002,0.07000000000000003,0.06999999999999997,0.07000000000000002,0.06999999999999998,0.06999999999999998,0.07,0.07,0.06999999999999999,0.07000000000000002,0.07000000000000003,0.07,0.07,0.07,0.06999999999999999,0.06999999999999999,0.06999999999999999,0.07,0.07,0.07,0.07,0.06999999999999999,0.07000000000000002,0.06999999999999997,0.06999999999999999,0.07000000000000002,0.06999999999999997,0.07000000000000002,0.06999999999999998,0.07000000000000003,0.07000000000000003,0.06999999999999997,0.06999999999999999,0.06999999999999999,0.06999999999999999,0.06999999999999999,0.06999999999999998,0.06999999999999998,0.07000000000000003,0.06999999999999999,0.06999999999999998,0.06999999999999999],\"yaxis\":\"y\",\"type\":\"scatter\"},{\"fillpattern\":{\"shape\":\"\"},\"hovertemplate\":\"variable=Variable OM Cost\\u003cbr\\u003eDiscountRate=0.1\\u003cbr\\u003eTechnology=Coal\\u003cbr\\u003eLoadFactor (%)=%{x}\\u003cbr\\u003eLCOE (\\u20ac\\u002fkW)=%{y}\\u003cextra\\u003e\\u003c\\u002fextra\\u003e\",\"legendgroup\":\"Variable OM Cost\",\"line\":{\"color\":\"#EF553B\"},\"marker\":{\"symbol\":\"circle\"},\"mode\":\"lines\",\"name\":\"Variable OM Cost\",\"orientation\":\"v\",\"showlegend\":false,\"stackgroup\":\"1\",\"x\":[0.1,0.11,0.12,0.13,0.13999999999999999,0.14999999999999997,0.15999999999999998,0.16999999999999998,0.17999999999999997,0.18999999999999995,0.19999999999999996,0.20999999999999996,0.21999999999999995,0.22999999999999995,0.23999999999999994,0.24999999999999992,0.2599999999999999,0.2699999999999999,0.2799999999999999,0.2899999999999999,0.29999999999999993,0.30999999999999994,0.3199999999999999,0.32999999999999985,0.33999999999999986,0.34999999999999987,0.3599999999999999,0.3699999999999999,0.3799999999999999,0.3899999999999999,0.3999999999999998,0.4099999999999998,0.4199999999999998,0.4299999999999998,0.43999999999999984,0.44999999999999984,0.45999999999999985,0.46999999999999986,0.47999999999999976,0.48999999999999977,0.4999999999999998,0.5099999999999998,0.5199999999999998,0.5299999999999998,0.5399999999999998,0.5499999999999998,0.5599999999999997,0.5699999999999997,0.5799999999999997,0.5899999999999997,0.5999999999999998,0.6099999999999998,0.6199999999999998,0.6299999999999997,0.6399999999999997,0.6499999999999997,0.6599999999999997,0.6699999999999997,0.6799999999999997,0.6899999999999997,0.6999999999999996,0.7099999999999996,0.7199999999999996,0.7299999999999996,0.7399999999999997,0.7499999999999997,0.7599999999999997,0.7699999999999997,0.7799999999999997,0.7899999999999996,0.7999999999999996,0.8099999999999996,0.8199999999999996,0.8299999999999996,0.8399999999999996,0.8499999999999996,0.8599999999999995,0.8699999999999996,0.8799999999999996,0.8899999999999996,0.8999999999999996,0.9099999999999996,0.9199999999999996,0.9299999999999996,0.9399999999999996,0.9499999999999995,0.9599999999999995,0.9699999999999995,0.9799999999999995,0.9899999999999995],\"xaxis\":\"x2\",\"y\":[0.035,0.03500000000000001,0.034999999999999976,0.03500000000000001,0.03500000000000001,0.03500000000000002,0.03500000000000001,0.03500000000000001,0.035000000000000024,0.03500000000000001,0.03500000000000001,0.03500000000000002,0.035000000000000024,0.035,0.03499999999999999,0.034999999999999996,0.034999999999999996,0.03499999999999999,0.034999999999999996,0.03500000000000002,0.03500000000000002,0.035,0.035,0.03500000000000002,0.035000000000000024,0.034999999999999996,0.035000000000000024,0.03499999999999999,0.03500000000000001,0.035,0.03500000000000001,0.03499999999999999,0.035000000000000024,0.035,0.03500000000000002,0.03499999999999998,0.03499999999999999,0.03499999999999999,0.03499999999999998,0.03500000000000001,0.034999999999999996,0.03500000000000001,0.034999999999999996,0.03500000000000002,0.03499999999999999,0.03499999999999999,0.035,0.03500000000000001,0.03500000000000002,0.034999999999999996,0.035000000000000024,0.03499999999999999,0.03500000000000001,0.03499999999999999,0.03500000000000001,0.035,0.03500000000000002,0.035,0.035000000000000024,0.034999999999999996,0.035,0.03499999999999999,0.035000000000000024,0.035,0.035,0.03499999999999999,0.03500000000000002,0.035,0.034999999999999996,0.034999999999999976,0.03500000000000001,0.035,0.03499999999999999,0.03499999999999998,0.035000000000000024,0.03499999999999999,0.03499999999999998,0.035,0.03500000000000002,0.03500000000000001,0.03499999999999998,0.03499999999999999,0.03499999999999999,0.034999999999999996,0.03499999999999999,0.03499999999999999,0.03499999999999998,0.035,0.03500000000000001,0.03499999999999999],\"yaxis\":\"y2\",\"type\":\"scatter\"},{\"fillpattern\":{\"shape\":\"\"},\"hovertemplate\":\"variable=Variable OM Cost\\u003cbr\\u003eDiscountRate=0.1\\u003cbr\\u003eTechnology=Nuclear\\u003cbr\\u003eLoadFactor (%)=%{x}\\u003cbr\\u003eLCOE (\\u20ac\\u002fkW)=%{y}\\u003cextra\\u003e\\u003c\\u002fextra\\u003e\",\"legendgroup\":\"Variable OM Cost\",\"line\":{\"color\":\"#EF553B\"},\"marker\":{\"symbol\":\"circle\"},\"mode\":\"lines\",\"name\":\"Variable OM Cost\",\"orientation\":\"v\",\"showlegend\":false,\"stackgroup\":\"1\",\"x\":[0.1,0.11,0.12,0.13,0.13999999999999999,0.14999999999999997,0.15999999999999998,0.16999999999999998,0.17999999999999997,0.18999999999999995,0.19999999999999996,0.20999999999999996,0.21999999999999995,0.22999999999999995,0.23999999999999994,0.24999999999999992,0.2599999999999999,0.2699999999999999,0.2799999999999999,0.2899999999999999,0.29999999999999993,0.30999999999999994,0.3199999999999999,0.32999999999999985,0.33999999999999986,0.34999999999999987,0.3599999999999999,0.3699999999999999,0.3799999999999999,0.3899999999999999,0.3999999999999998,0.4099999999999998,0.4199999999999998,0.4299999999999998,0.43999999999999984,0.44999999999999984,0.45999999999999985,0.46999999999999986,0.47999999999999976,0.48999999999999977,0.4999999999999998,0.5099999999999998,0.5199999999999998,0.5299999999999998,0.5399999999999998,0.5499999999999998,0.5599999999999997,0.5699999999999997,0.5799999999999997,0.5899999999999997,0.5999999999999998,0.6099999999999998,0.6199999999999998,0.6299999999999997,0.6399999999999997,0.6499999999999997,0.6599999999999997,0.6699999999999997,0.6799999999999997,0.6899999999999997,0.6999999999999996,0.7099999999999996,0.7199999999999996,0.7299999999999996,0.7399999999999997,0.7499999999999997,0.7599999999999997,0.7699999999999997,0.7799999999999997,0.7899999999999996,0.7999999999999996,0.8099999999999996,0.8199999999999996,0.8299999999999996,0.8399999999999996,0.8499999999999996,0.8599999999999995,0.8699999999999996,0.8799999999999996,0.8899999999999996,0.8999999999999996,0.9099999999999996,0.9199999999999996,0.9299999999999996,0.9399999999999996,0.9499999999999995,0.9599999999999995,0.9699999999999995,0.9799999999999995,0.9899999999999995],\"xaxis\":\"x3\",\"y\":[0.022499999999999982,0.022499999999999992,0.022500000000000003,0.022499999999999985,0.022499999999999975,0.022499999999999996,0.022500000000000006,0.022500000000000003,0.022499999999999992,0.022500000000000006,0.02249999999999999,0.022500000000000006,0.022499999999999992,0.022500000000000013,0.022499999999999996,0.022500000000000006,0.022499999999999992,0.022499999999999996,0.02249999999999998,0.022499999999999996,0.022499999999999996,0.022500000000000003,0.02250000000000001,0.02250000000000001,0.022500000000000006,0.02250000000000001,0.022499999999999996,0.02250000000000001,0.022500000000000006,0.0225,0.022499999999999992,0.022500000000000003,0.022500000000000017,0.022499999999999992,0.022499999999999992,0.022500000000000003,0.022500000000000017,0.022500000000000013,0.022499999999999996,0.022499999999999996,0.022500000000000006,0.0225,0.022499999999999992,0.02250000000000001,0.022499999999999996,0.022500000000000003,0.02249999999999998,0.0225,0.0225,0.022500000000000003,0.02250000000000001,0.022499999999999992,0.0225,0.022499999999999992,0.022500000000000013,0.022499999999999992,0.02250000000000001,0.022500000000000003,0.022500000000000006,0.0225,0.02250000000000001,0.02250000000000001,0.022500000000000003,0.022499999999999982,0.022500000000000006,0.0225,0.02250000000000001,0.022500000000000013,0.022500000000000003,0.022500000000000003,0.022499999999999992,0.0225,0.022500000000000003,0.022499999999999982,0.022500000000000017,0.0225,0.022499999999999996,0.022499999999999992,0.022499999999999992,0.022500000000000006,0.022500000000000003,0.022499999999999992,0.022500000000000017,0.022499999999999992,0.022500000000000013,0.022500000000000013,0.022499999999999996,0.02249999999999999,0.022499999999999996,0.0225],\"yaxis\":\"y3\",\"type\":\"scatter\"},{\"fillpattern\":{\"shape\":\"\"},\"hovertemplate\":\"variable=Variable OM Cost\\u003cbr\\u003eDiscountRate=0.1\\u003cbr\\u003eTechnology=CSP\\u003cbr\\u003eLoadFactor (%)=%{x}\\u003cbr\\u003eLCOE (\\u20ac\\u002fkW)=%{y}\\u003cextra\\u003e\\u003c\\u002fextra\\u003e\",\"legendgroup\":\"Variable OM Cost\",\"line\":{\"color\":\"#EF553B\"},\"marker\":{\"symbol\":\"circle\"},\"mode\":\"lines\",\"name\":\"Variable OM Cost\",\"orientation\":\"v\",\"showlegend\":false,\"stackgroup\":\"1\",\"x\":[0.1,0.11,0.12,0.13,0.13999999999999999,0.14999999999999997,0.15999999999999998,0.16999999999999998,0.17999999999999997,0.18999999999999995,0.19999999999999996,0.20999999999999996,0.21999999999999995,0.22999999999999995,0.23999999999999994,0.24999999999999992,0.2599999999999999,0.2699999999999999,0.2799999999999999,0.2899999999999999,0.29999999999999993,0.30999999999999994,0.3199999999999999,0.32999999999999985,0.33999999999999986,0.34999999999999987,0.3599999999999999,0.3699999999999999,0.3799999999999999,0.3899999999999999,0.3999999999999998,0.4099999999999998,0.4199999999999998,0.4299999999999998,0.43999999999999984,0.44999999999999984,0.45999999999999985,0.46999999999999986,0.47999999999999976,0.48999999999999977,0.4999999999999998,0.5099999999999998,0.5199999999999998,0.5299999999999998,0.5399999999999998,0.5499999999999998,0.5599999999999997,0.5699999999999997,0.5799999999999997,0.5899999999999997,0.5999999999999998,0.6099999999999998,0.6199999999999998,0.6299999999999997,0.6399999999999997,0.6499999999999997,0.6599999999999997,0.6699999999999997,0.6799999999999997,0.6899999999999997,0.6999999999999996,0.7099999999999996,0.7199999999999996,0.7299999999999996,0.7399999999999997,0.7499999999999997,0.7599999999999997,0.7699999999999997,0.7799999999999997,0.7899999999999996,0.7999999999999996,0.8099999999999996,0.8199999999999996,0.8299999999999996,0.8399999999999996,0.8499999999999996,0.8599999999999995,0.8699999999999996,0.8799999999999996,0.8899999999999996,0.8999999999999996,0.9099999999999996,0.9199999999999996,0.9299999999999996,0.9399999999999996,0.9499999999999995,0.9599999999999995,0.9699999999999995,0.9799999999999995,0.9899999999999995],\"xaxis\":\"x4\",\"y\":[0.009999999999999998,0.01,0.009999999999999998,0.01,0.010000000000000002,0.010000000000000002,0.010000000000000002,0.010000000000000005,0.009999999999999998,0.01,0.01,0.010000000000000007,0.010000000000000002,0.010000000000000002,0.01,0.009999999999999998,0.010000000000000004,0.010000000000000002,0.01,0.010000000000000005,0.010000000000000002,0.009999999999999998,0.009999999999999998,0.010000000000000002,0.010000000000000005,0.010000000000000005,0.01,0.010000000000000002,0.01,0.01,0.010000000000000004,0.009999999999999995,0.010000000000000004,0.009999999999999995,0.010000000000000004,0.01,0.009999999999999998,0.009999999999999998,0.009999999999999998,0.010000000000000002,0.009999999999999998,0.010000000000000005,0.010000000000000004,0.010000000000000004,0.010000000000000002,0.01,0.01,0.010000000000000002,0.010000000000000005,0.010000000000000002,0.010000000000000005,0.009999999999999998,0.01,0.010000000000000002,0.009999999999999998,0.010000000000000002,0.010000000000000002,0.010000000000000002,0.010000000000000005,0.009999999999999998,0.01,0.010000000000000002,0.010000000000000002,0.01,0.010000000000000004,0.01,0.009999999999999998,0.01,0.009999999999999998,0.009999999999999997,0.010000000000000004,0.010000000000000005,0.009999999999999995,0.01,0.010000000000000004,0.009999999999999998,0.009999999999999995,0.010000000000000005,0.010000000000000004,0.01,0.01,0.010000000000000002,0.009999999999999998,0.009999999999999997,0.01,0.009999999999999998,0.009999999999999998,0.009999999999999998,0.010000000000000002,0.010000000000000004],\"yaxis\":\"y4\",\"type\":\"scatter\"},{\"fillpattern\":{\"shape\":\"\"},\"hovertemplate\":\"variable=Variable OM Cost\\u003cbr\\u003eDiscountRate=0.1\\u003cbr\\u003eTechnology=Wind\\u003cbr\\u003eLoadFactor (%)=%{x}\\u003cbr\\u003eLCOE (\\u20ac\\u002fkW)=%{y}\\u003cextra\\u003e\\u003c\\u002fextra\\u003e\",\"legendgroup\":\"Variable OM Cost\",\"line\":{\"color\":\"#EF553B\"},\"marker\":{\"symbol\":\"circle\"},\"mode\":\"lines\",\"name\":\"Variable OM Cost\",\"orientation\":\"v\",\"showlegend\":false,\"stackgroup\":\"1\",\"x\":[0.1,0.11,0.12,0.13,0.13999999999999999,0.14999999999999997,0.15999999999999998,0.16999999999999998,0.17999999999999997,0.18999999999999995,0.19999999999999996,0.20999999999999996,0.21999999999999995,0.22999999999999995,0.23999999999999994,0.24999999999999992,0.2599999999999999,0.2699999999999999,0.2799999999999999,0.2899999999999999,0.29999999999999993,0.30999999999999994,0.3199999999999999,0.32999999999999985,0.33999999999999986,0.34999999999999987,0.3599999999999999,0.3699999999999999,0.3799999999999999,0.3899999999999999,0.3999999999999998,0.4099999999999998,0.4199999999999998,0.4299999999999998,0.43999999999999984,0.44999999999999984,0.45999999999999985,0.46999999999999986,0.47999999999999976,0.48999999999999977,0.4999999999999998,0.5099999999999998,0.5199999999999998,0.5299999999999998,0.5399999999999998,0.5499999999999998,0.5599999999999997,0.5699999999999997,0.5799999999999997,0.5899999999999997,0.5999999999999998,0.6099999999999998,0.6199999999999998,0.6299999999999997,0.6399999999999997,0.6499999999999997,0.6599999999999997,0.6699999999999997,0.6799999999999997,0.6899999999999997,0.6999999999999996,0.7099999999999996,0.7199999999999996,0.7299999999999996,0.7399999999999997,0.7499999999999997,0.7599999999999997,0.7699999999999997,0.7799999999999997,0.7899999999999996,0.7999999999999996,0.8099999999999996,0.8199999999999996,0.8299999999999996,0.8399999999999996,0.8499999999999996,0.8599999999999995,0.8699999999999996,0.8799999999999996,0.8899999999999996,0.8999999999999996,0.9099999999999996,0.9199999999999996,0.9299999999999996,0.9399999999999996,0.9499999999999995,0.9599999999999995,0.9699999999999995,0.9799999999999995,0.9899999999999995],\"xaxis\":\"x5\",\"y\":[9.999999999999995e-05,9.999999999999996e-05,9.999999999999999e-05,9.999999999999996e-05,9.999999999999996e-05,0.00010000000000000002,0.00010000000000000003,9.999999999999996e-05,9.999999999999998e-05,9.999999999999998e-05,9.999999999999995e-05,9.999999999999991e-05,9.999999999999999e-05,9.999999999999995e-05,9.999999999999998e-05,9.999999999999999e-05,9.999999999999999e-05,0.0001,9.999999999999995e-05,0.00010000000000000002,0.00010000000000000002,9.999999999999999e-05,0.00010000000000000002,0.00010000000000000002,9.999999999999998e-05,0.00010000000000000005,9.999999999999996e-05,0.0001,9.999999999999998e-05,9.999999999999998e-05,9.999999999999996e-05,9.999999999999999e-05,9.999999999999994e-05,0.00010000000000000002,9.999999999999999e-05,0.0001,9.999999999999996e-05,0.0001,9.999999999999996e-05,9.999999999999999e-05,9.999999999999995e-05,9.999999999999998e-05,9.999999999999999e-05,0.00010000000000000003,0.0001,0.00010000000000000002,9.999999999999999e-05,9.999999999999999e-05,0.0001,0.0001,9.999999999999999e-05,9.999999999999999e-05,0.00010000000000000003,0.00010000000000000003,0.00010000000000000002,0.00010000000000000002,0.00010000000000000002,0.00010000000000000003,9.999999999999998e-05,0.00010000000000000006,0.00010000000000000003,0.00010000000000000003,9.999999999999996e-05,9.999999999999996e-05,0.0001,0.00010000000000000005,9.999999999999998e-05,0.00010000000000000006,0.0001,9.999999999999998e-05,9.999999999999996e-05,0.0001,9.999999999999999e-05,0.0001,9.999999999999994e-05,0.00010000000000000006,0.00010000000000000002,9.999999999999999e-05,9.999999999999996e-05,0.0001,0.00010000000000000003,0.00010000000000000002,9.999999999999998e-05,0.00010000000000000002,0.0001,9.999999999999999e-05,9.999999999999996e-05,0.00010000000000000007,9.999999999999999e-05,0.00010000000000000005],\"yaxis\":\"y5\",\"type\":\"scatter\"},{\"fillpattern\":{\"shape\":\"\"},\"hovertemplate\":\"variable=Capital Cost\\u003cbr\\u003eDiscountRate=0.05\\u003cbr\\u003eTechnology=CCGT\\u003cbr\\u003eLoadFactor (%)=%{x}\\u003cbr\\u003eLCOE (\\u20ac\\u002fkW)=%{y}\\u003cextra\\u003e\\u003c\\u002fextra\\u003e\",\"legendgroup\":\"Capital Cost\",\"line\":{\"color\":\"#00cc96\"},\"marker\":{\"symbol\":\"circle\"},\"mode\":\"lines\",\"name\":\"Capital Cost\",\"orientation\":\"v\",\"showlegend\":true,\"stackgroup\":\"1\",\"x\":[0.1,0.11,0.12,0.13,0.13999999999999999,0.14999999999999997,0.15999999999999998,0.16999999999999998,0.17999999999999997,0.18999999999999995,0.19999999999999996,0.20999999999999996,0.21999999999999995,0.22999999999999995,0.23999999999999994,0.24999999999999992,0.2599999999999999,0.2699999999999999,0.2799999999999999,0.2899999999999999,0.29999999999999993,0.30999999999999994,0.3199999999999999,0.32999999999999985,0.33999999999999986,0.34999999999999987,0.3599999999999999,0.3699999999999999,0.3799999999999999,0.3899999999999999,0.3999999999999998,0.4099999999999998,0.4199999999999998,0.4299999999999998,0.43999999999999984,0.44999999999999984,0.45999999999999985,0.46999999999999986,0.47999999999999976,0.48999999999999977,0.4999999999999998,0.5099999999999998,0.5199999999999998,0.5299999999999998,0.5399999999999998,0.5499999999999998,0.5599999999999997,0.5699999999999997,0.5799999999999997,0.5899999999999997,0.5999999999999998,0.6099999999999998,0.6199999999999998,0.6299999999999997,0.6399999999999997,0.6499999999999997,0.6599999999999997,0.6699999999999997,0.6799999999999997,0.6899999999999997,0.6999999999999996,0.7099999999999996,0.7199999999999996,0.7299999999999996,0.7399999999999997,0.7499999999999997,0.7599999999999997,0.7699999999999997,0.7799999999999997,0.7899999999999996,0.7999999999999996,0.8099999999999996,0.8199999999999996,0.8299999999999996,0.8399999999999996,0.8499999999999996,0.8599999999999995,0.8699999999999996,0.8799999999999996,0.8899999999999996,0.8999999999999996,0.9099999999999996,0.9199999999999996,0.9299999999999996,0.9399999999999996,0.9499999999999995,0.9599999999999995,0.9699999999999995,0.9799999999999995,0.9899999999999995],\"xaxis\":\"x6\",\"y\":[0.057854254157884595,0.05259477650716781,0.04821187846490382,0.044503272429141975,0.041324467255631846,0.03856950277192305,0.03615890884867787,0.03403191421052034,0.032141252309935885,0.030449607451518212,0.028927127078942298,0.027549644837087904,0.026297388253583905,0.02515402354690635,0.024105939232451922,0.023141701663153845,0.022251636214570998,0.021427501539957265,0.02066223362781593,0.019949742813063658,0.019284751385961526,0.018662662631575674,0.01807945442433894,0.017531592169055938,0.017015957105260177,0.016529786902252746,0.01607062615496795,0.015636284907536383,0.015224803725759106,0.014834424143047335,0.014463563539471157,0.01411079369704503,0.013774822418543956,0.013454477711135953,0.013148694126791956,0.012856500923974355,0.012577011773453179,0.012309415778273323,0.012052969616225963,0.01180699064446625,0.011570850831576922,0.011343971403506787,0.011125818107285499,0.010915897010921624,0.010713750769978632,0.010518955301433564,0.010331116813907968,0.010149869150506073,0.00997487140653183,0.009805805789471968,0.009642375692980766,0.009484303960308952,0.009331331315787839,0.00918321494569597,0.00903972721216947,0.008900654485828401,0.008765796084527969,0.008634963307146956,0.008507978552630089,0.008384674515635451,0.008264893451126375,0.008148486501110509,0.008035313077483975,0.00792524029560063,0.007818142453768192,0.007713900554384614,0.007612401862879553,0.0075135395010239745,0.007417212071523669,0.007323323311124635,0.007231781769735579,0.007142500513319087,0.007055396848522515,0.006970392067215014,0.006887411209271978,0.006806382842104071,0.006727238855567978,0.006649914271021221,0.006574347063395979,0.006500477995267933,0.0064282504619871785,0.006357610347020286,0.0062885058867265895,0.00622088754385856,0.006154707889136662,0.006089921490303642,0.006026484808112981,0.0059643560987509905,0.005903495322233125,0.00584386405635198],\"yaxis\":\"y6\",\"type\":\"scatter\"},{\"fillpattern\":{\"shape\":\"\"},\"hovertemplate\":\"variable=Capital Cost\\u003cbr\\u003eDiscountRate=0.05\\u003cbr\\u003eTechnology=Coal\\u003cbr\\u003eLoadFactor (%)=%{x}\\u003cbr\\u003eLCOE (\\u20ac\\u002fkW)=%{y}\\u003cextra\\u003e\\u003c\\u002fextra\\u003e\",\"legendgroup\":\"Capital Cost\",\"line\":{\"color\":\"#00cc96\"},\"marker\":{\"symbol\":\"circle\"},\"mode\":\"lines\",\"name\":\"Capital Cost\",\"orientation\":\"v\",\"showlegend\":false,\"stackgroup\":\"1\",\"x\":[0.1,0.11,0.12,0.13,0.13999999999999999,0.14999999999999997,0.15999999999999998,0.16999999999999998,0.17999999999999997,0.18999999999999995,0.19999999999999996,0.20999999999999996,0.21999999999999995,0.22999999999999995,0.23999999999999994,0.24999999999999992,0.2599999999999999,0.2699999999999999,0.2799999999999999,0.2899999999999999,0.29999999999999993,0.30999999999999994,0.3199999999999999,0.32999999999999985,0.33999999999999986,0.34999999999999987,0.3599999999999999,0.3699999999999999,0.3799999999999999,0.3899999999999999,0.3999999999999998,0.4099999999999998,0.4199999999999998,0.4299999999999998,0.43999999999999984,0.44999999999999984,0.45999999999999985,0.46999999999999986,0.47999999999999976,0.48999999999999977,0.4999999999999998,0.5099999999999998,0.5199999999999998,0.5299999999999998,0.5399999999999998,0.5499999999999998,0.5599999999999997,0.5699999999999997,0.5799999999999997,0.5899999999999997,0.5999999999999998,0.6099999999999998,0.6199999999999998,0.6299999999999997,0.6399999999999997,0.6499999999999997,0.6599999999999997,0.6699999999999997,0.6799999999999997,0.6899999999999997,0.6999999999999996,0.7099999999999996,0.7199999999999996,0.7299999999999996,0.7399999999999997,0.7499999999999997,0.7599999999999997,0.7699999999999997,0.7799999999999997,0.7899999999999996,0.7999999999999996,0.8099999999999996,0.8199999999999996,0.8299999999999996,0.8399999999999996,0.8499999999999996,0.8599999999999995,0.8699999999999996,0.8799999999999996,0.8899999999999996,0.8999999999999996,0.9099999999999996,0.9199999999999996,0.9299999999999996,0.9399999999999996,0.9499999999999995,0.9599999999999995,0.9699999999999995,0.9799999999999995,0.9899999999999995],\"xaxis\":\"x7\",\"y\":[0.13279344907773397,0.12072131734339452,0.11066120756477832,0.10214880698287226,0.09485246362695285,0.08852896605182263,0.08299590567358375,0.07811379357513763,0.07377413837651889,0.06989128898828106,0.066396724538867,0.06323497575130188,0.06036065867169728,0.057736282207710446,0.05533060378238917,0.053117379631093614,0.05107440349143615,0.04918275891767926,0.04742623181347643,0.04579084450956346,0.044264483025911315,0.04283659647668839,0.04149795283679189,0.04024043911446485,0.03905689678756882,0.03794098545078116,0.036887069188259444,0.03589012137236053,0.03494564449414053,0.0340496023276241,0.03319836226943352,0.03238864611652049,0.03161748787565096,0.030882197459938143,0.030180329335848646,0.02950965535060755,0.028868141103855226,0.02825392533568808,0.027665301891194587,0.027100703893415116,0.026558689815546807,0.02603793119171255,0.025537201745718077,0.02505536775051586,0.02459137945883963,0.024144263468678918,0.023713115906738216,0.023297096329427017,0.02289542225478173,0.0225073642504634,0.02213224151295566,0.021769417881595747,0.0214182982383442,0.021078325250433964,0.020748976418395945,0.02042976139657447,0.020120219557232425,0.01981991777279613,0.01952844839378441,0.019245427402570153,0.01897049272539058,0.018703302687004788,0.018443534594129726,0.018190883435306032,0.017945060686180268,0.01770579321036454,0.01747282224707027,0.0172459024776278,0.01702480116381205,0.016809297351611904,0.01659918113471676,0.01639425297255976,0.016194323058260244,0.01599921073225711,0.01580874393782548,0.01562275871502753,0.015441098729969075,0.015263614836521156,0.015090164667924323,0.014920612255925171,0.014754827675303778,0.014592686711838903,0.014434070551927617,0.01427886549222946,0.014126962667844044,0.013978257797656215,0.013832650945597293,0.013690046296673603,0.013550351946707558,0.013413479704821617],\"yaxis\":\"y7\",\"type\":\"scatter\"},{\"fillpattern\":{\"shape\":\"\"},\"hovertemplate\":\"variable=Capital Cost\\u003cbr\\u003eDiscountRate=0.05\\u003cbr\\u003eTechnology=Nuclear\\u003cbr\\u003eLoadFactor (%)=%{x}\\u003cbr\\u003eLCOE (\\u20ac\\u002fkW)=%{y}\\u003cextra\\u003e\\u003c\\u002fextra\\u003e\",\"legendgroup\":\"Capital Cost\",\"line\":{\"color\":\"#00cc96\"},\"marker\":{\"symbol\":\"circle\"},\"mode\":\"lines\",\"name\":\"Capital Cost\",\"orientation\":\"v\",\"showlegend\":false,\"stackgroup\":\"1\",\"x\":[0.1,0.11,0.12,0.13,0.13999999999999999,0.14999999999999997,0.15999999999999998,0.16999999999999998,0.17999999999999997,0.18999999999999995,0.19999999999999996,0.20999999999999996,0.21999999999999995,0.22999999999999995,0.23999999999999994,0.24999999999999992,0.2599999999999999,0.2699999999999999,0.2799999999999999,0.2899999999999999,0.29999999999999993,0.30999999999999994,0.3199999999999999,0.32999999999999985,0.33999999999999986,0.34999999999999987,0.3599999999999999,0.3699999999999999,0.3799999999999999,0.3899999999999999,0.3999999999999998,0.4099999999999998,0.4199999999999998,0.4299999999999998,0.43999999999999984,0.44999999999999984,0.45999999999999985,0.46999999999999986,0.47999999999999976,0.48999999999999977,0.4999999999999998,0.5099999999999998,0.5199999999999998,0.5299999999999998,0.5399999999999998,0.5499999999999998,0.5599999999999997,0.5699999999999997,0.5799999999999997,0.5899999999999997,0.5999999999999998,0.6099999999999998,0.6199999999999998,0.6299999999999997,0.6399999999999997,0.6499999999999997,0.6599999999999997,0.6699999999999997,0.6799999999999997,0.6899999999999997,0.6999999999999996,0.7099999999999996,0.7199999999999996,0.7299999999999996,0.7399999999999997,0.7499999999999997,0.7599999999999997,0.7699999999999997,0.7799999999999997,0.7899999999999996,0.7999999999999996,0.8099999999999996,0.8199999999999996,0.8299999999999996,0.8399999999999996,0.8499999999999996,0.8599999999999995,0.8699999999999996,0.8799999999999996,0.8899999999999996,0.8999999999999996,0.9099999999999996,0.9199999999999996,0.9299999999999996,0.9399999999999996,0.9499999999999995,0.9599999999999995,0.9699999999999995,0.9799999999999995,0.9899999999999995],\"xaxis\":\"x8\",\"y\":[0.26798794268951337,0.243625402445012,0.22332328557459433,0.2061445712996256,0.1914199590639381,0.1786586284596756,0.16749246418094582,0.15763996628794902,0.148882190383063,0.14104628562605964,0.13399397134475674,0.12761330604262544,0.12181270122250605,0.11651649682152748,0.1116616427872972,0.1071951770758053,0.10307228564981284,0.09925479358870865,0.09570997953196908,0.09240963541017704,0.0893293142298378,0.08644772344823011,0.08374623209047292,0.08120846748167072,0.07881998314397454,0.07656798362557526,0.07444109519153151,0.07242917369986847,0.07052314281302982,0.06871485709987522,0.06699698567237837,0.06536291285110084,0.06380665302131273,0.06232277736965426,0.06090635061125305,0.05955287615322518,0.058258248410763755,0.05701871121053477,0.05583082139364861,0.05469141687541091,0.05359758853790265,0.052546655429316365,0.05153614282490642,0.0505637627716063,0.04962739679435432,0.048725080489002426,0.04785498976598455,0.0470154285420199,0.04620481770508853,0.04542168520161243,0.044664657114918904,0.04393244962123172,0.043223861724115055,0.04253776868087515,0.041873116045236476,0.04122891425992513,0.04060423374083536,0.03999820040141991,0.03940999157198727,0.038838832273842536,0.038283991812787646,0.03774478066049483,0.037220547595765756,0.03671067708075526,0.03621458684993424,0.035731725691935105,0.03526157140651493,0.034803628920716013,0.03435742854993761,0.03392252439107764,0.033498492836189185,0.033084931196236206,0.03268145642555042,0.03228770393849559,0.03190332651065637,0.031527993257589815,0.031161388684827138,0.030803211803392357,0.030453175305626527,0.030111004796574546,0.02977643807661259,0.0294492244713751,0.029129124205381877,0.028815907816076704,0.028509355605267385,0.02820925712521194,0.027915410696824305,0.02762762295768179,0.027345708437705455,0.027069489160556914],\"yaxis\":\"y8\",\"type\":\"scatter\"},{\"fillpattern\":{\"shape\":\"\"},\"hovertemplate\":\"variable=Capital Cost\\u003cbr\\u003eDiscountRate=0.05\\u003cbr\\u003eTechnology=CSP\\u003cbr\\u003eLoadFactor (%)=%{x}\\u003cbr\\u003eLCOE (\\u20ac\\u002fkW)=%{y}\\u003cextra\\u003e\\u003c\\u002fextra\\u003e\",\"legendgroup\":\"Capital Cost\",\"line\":{\"color\":\"#00cc96\"},\"marker\":{\"symbol\":\"circle\"},\"mode\":\"lines\",\"name\":\"Capital Cost\",\"orientation\":\"v\",\"showlegend\":false,\"stackgroup\":\"1\",\"x\":[0.1,0.11,0.12,0.13,0.13999999999999999,0.14999999999999997,0.15999999999999998,0.16999999999999998,0.17999999999999997,0.18999999999999995,0.19999999999999996,0.20999999999999996,0.21999999999999995,0.22999999999999995,0.23999999999999994,0.24999999999999992,0.2599999999999999,0.2699999999999999,0.2799999999999999,0.2899999999999999,0.29999999999999993,0.30999999999999994,0.3199999999999999,0.32999999999999985,0.33999999999999986,0.34999999999999987,0.3599999999999999,0.3699999999999999,0.3799999999999999,0.3899999999999999,0.3999999999999998,0.4099999999999998,0.4199999999999998,0.4299999999999998,0.43999999999999984,0.44999999999999984,0.45999999999999985,0.46999999999999986,0.47999999999999976,0.48999999999999977,0.4999999999999998,0.5099999999999998,0.5199999999999998,0.5299999999999998,0.5399999999999998,0.5499999999999998,0.5599999999999997,0.5699999999999997,0.5799999999999997,0.5899999999999997,0.5999999999999998,0.6099999999999998,0.6199999999999998,0.6299999999999997,0.6399999999999997,0.6499999999999997,0.6599999999999997,0.6699999999999997,0.6799999999999997,0.6899999999999997,0.6999999999999996,0.7099999999999996,0.7199999999999996,0.7299999999999996,0.7399999999999997,0.7499999999999997,0.7599999999999997,0.7699999999999997,0.7799999999999997,0.7899999999999996,0.7999999999999996,0.8099999999999996,0.8199999999999996,0.8299999999999996,0.8399999999999996,0.8499999999999996,0.8599999999999995,0.8699999999999996,0.8799999999999996,0.8899999999999996,0.8999999999999996,0.9099999999999996,0.9199999999999996,0.9299999999999996,0.9399999999999996,0.9499999999999995,0.9599999999999995,0.9699999999999995,0.9799999999999995,0.9899999999999995],\"xaxis\":\"x9\",\"y\":[0.29197113598345753,0.26542830543950685,0.24330927998621463,0.22459318152573657,0.2085508114167554,0.19464742398897172,0.182481959989661,0.17174772704909272,0.1622061866574765,0.15366901893866194,0.1459855679917288,0.13903387427783692,0.13271415271975345,0.1269439721667207,0.12165463999310736,0.11678845439338308,0.11229659076286834,0.108137457771651,0.10427540570837773,0.10067970206326125,0.09732371199448586,0.09418423741401857,0.09124097999483054,0.08847610181316899,0.08587386352454639,0.0834203245667022,0.08110309332873825,0.07891111783336692,0.07683450946933097,0.07486439384191221,0.07299278399586444,0.07121247219108723,0.06951693713891849,0.06790026418219944,0.06635707635987674,0.06488247466299057,0.06347198608336037,0.062121518294352675,0.06082731999655368,0.059585946119072995,0.05839422719669154,0.057249242349697575,0.05614829538143417,0.055088893581784475,0.0540687288858255,0.05308566108790138,0.052137702854188867,0.05122300631288731,0.05033985103163063,0.0494866332175352,0.048661855997242945,0.047864120653025845,0.04709211870700931,0.046344624759278995,0.04562048999741527,0.04491863630514733,0.044238050906584496,0.043577781490068315,0.042936931762273194,0.04231465738890692,0.04171016228335111,0.0411226952089377,0.04055154666436913,0.03999604602513119,0.03945555891668347,0.03892948479779436,0.038417254734665486,0.037918329348501006,0.037432196920956104,0.03695837164347566,0.03649639199793222,0.036045819257217004,0.035606236095543614,0.03517724529921176,0.034758468569459244,0.03434954540981855,0.033950132091099726,0.03355990068775376,0.03317853817993837,0.032805745616118834,0.032441237331495294,0.03208474021796238,0.031735993041680184,0.031394745804672865,0.031060759147176344,0.030733803787732387,0.03041365999827684,0.03010011711169666,0.029792973059536498,0.02949203393772299],\"yaxis\":\"y9\",\"type\":\"scatter\"},{\"fillpattern\":{\"shape\":\"\"},\"hovertemplate\":\"variable=Capital Cost\\u003cbr\\u003eDiscountRate=0.05\\u003cbr\\u003eTechnology=Wind\\u003cbr\\u003eLoadFactor (%)=%{x}\\u003cbr\\u003eLCOE (\\u20ac\\u002fkW)=%{y}\\u003cextra\\u003e\\u003c\\u002fextra\\u003e\",\"legendgroup\":\"Capital Cost\",\"line\":{\"color\":\"#00cc96\"},\"marker\":{\"symbol\":\"circle\"},\"mode\":\"lines\",\"name\":\"Capital Cost\",\"orientation\":\"v\",\"showlegend\":false,\"stackgroup\":\"1\",\"x\":[0.1,0.11,0.12,0.13,0.13999999999999999,0.14999999999999997,0.15999999999999998,0.16999999999999998,0.17999999999999997,0.18999999999999995,0.19999999999999996,0.20999999999999996,0.21999999999999995,0.22999999999999995,0.23999999999999994,0.24999999999999992,0.2599999999999999,0.2699999999999999,0.2799999999999999,0.2899999999999999,0.29999999999999993,0.30999999999999994,0.3199999999999999,0.32999999999999985,0.33999999999999986,0.34999999999999987,0.3599999999999999,0.3699999999999999,0.3799999999999999,0.3899999999999999,0.3999999999999998,0.4099999999999998,0.4199999999999998,0.4299999999999998,0.43999999999999984,0.44999999999999984,0.45999999999999985,0.46999999999999986,0.47999999999999976,0.48999999999999977,0.4999999999999998,0.5099999999999998,0.5199999999999998,0.5299999999999998,0.5399999999999998,0.5499999999999998,0.5599999999999997,0.5699999999999997,0.5799999999999997,0.5899999999999997,0.5999999999999998,0.6099999999999998,0.6199999999999998,0.6299999999999997,0.6399999999999997,0.6499999999999997,0.6599999999999997,0.6699999999999997,0.6799999999999997,0.6899999999999997,0.6999999999999996,0.7099999999999996,0.7199999999999996,0.7299999999999996,0.7399999999999997,0.7499999999999997,0.7599999999999997,0.7699999999999997,0.7799999999999997,0.7899999999999996,0.7999999999999996,0.8099999999999996,0.8199999999999996,0.8299999999999996,0.8399999999999996,0.8499999999999996,0.8599999999999995,0.8699999999999996,0.8799999999999996,0.8899999999999996,0.8999999999999996,0.9099999999999996,0.9199999999999996,0.9299999999999996,0.9399999999999996,0.9499999999999995,0.9599999999999995,0.9699999999999995,0.9799999999999995,0.9899999999999995],\"xaxis\":\"x10\",\"y\":[0.09256680665261534,0.08415164241146846,0.07713900554384609,0.07120523588662718,0.06611914760901097,0.06171120443507691,0.05785425415788461,0.05445106273683253,0.051426003695897414,0.04871937192242913,0.046283403326307676,0.04407943173934065,0.04207582120573425,0.04024643767505016,0.038569502771923066,0.03702672266104614,0.035602617943313604,0.03428400246393162,0.033059573804505485,0.031919588500901847,0.030855602217538455,0.029860260210521093,0.028927127078942304,0.02805054747048951,0.02722553136841628,0.026447659043604393,0.025713001847948714,0.025018055852058203,0.024359685961214565,0.02373507862887573,0.02314170166315385,0.022577269915272046,0.022039715869670337,0.021527164337817532,0.021037910602867124,0.020570401478358973,0.020123218837525082,0.019695065245237307,0.01928475138596154,0.018891185031146,0.018513361330523077,0.01815035424561086,0.017801308971656802,0.017465435217474592,0.01714200123196581,0.016830328482293707,0.01652978690225275,0.016239790640809718,0.015959794250450927,0.01568928926315515,0.015427801108769228,0.015174886336494322,0.014930130105260547,0.014693143913113552,0.014463563539471152,0.014241047177325444,0.014025273735244755,0.013815941291435133,0.01361276568420814,0.01341547922501672,0.013223829521802196,0.013037578401776814,0.012856500923974357,0.012680384472961005,0.012509027926029103,0.012342240887015384,0.012179842980607283,0.012021663201638362,0.011867539314437866,0.011717317297799415,0.011570850831576924,0.01142800082131054,0.011288634957636023,0.011152627307544025,0.011019857934835169,0.010890212547366517,0.010763582168908766,0.010639862833633953,0.010518955301433562,0.010400764792428694,0.010285200739179488,0.010172176555232457,0.010061609418762543,0.009953420070173696,0.009847532622618655,0.00974387438448583,0.00964237569298077,0.009542969758001583,0.009445592515573,0.009350182490163167],\"yaxis\":\"y10\",\"type\":\"scatter\"},{\"fillpattern\":{\"shape\":\"\"},\"hovertemplate\":\"variable=Capital Cost\\u003cbr\\u003eDiscountRate=0.1\\u003cbr\\u003eTechnology=CCGT\\u003cbr\\u003eLoadFactor (%)=%{x}\\u003cbr\\u003eLCOE (\\u20ac\\u002fkW)=%{y}\\u003cextra\\u003e\\u003c\\u002fextra\\u003e\",\"legendgroup\":\"Capital Cost\",\"line\":{\"color\":\"#00cc96\"},\"marker\":{\"symbol\":\"circle\"},\"mode\":\"lines\",\"name\":\"Capital Cost\",\"orientation\":\"v\",\"showlegend\":false,\"stackgroup\":\"1\",\"x\":[0.1,0.11,0.12,0.13,0.13999999999999999,0.14999999999999997,0.15999999999999998,0.16999999999999998,0.17999999999999997,0.18999999999999995,0.19999999999999996,0.20999999999999996,0.21999999999999995,0.22999999999999995,0.23999999999999994,0.24999999999999992,0.2599999999999999,0.2699999999999999,0.2799999999999999,0.2899999999999999,0.29999999999999993,0.30999999999999994,0.3199999999999999,0.32999999999999985,0.33999999999999986,0.34999999999999987,0.3599999999999999,0.3699999999999999,0.3799999999999999,0.3899999999999999,0.3999999999999998,0.4099999999999998,0.4199999999999998,0.4299999999999998,0.43999999999999984,0.44999999999999984,0.45999999999999985,0.46999999999999986,0.47999999999999976,0.48999999999999977,0.4999999999999998,0.5099999999999998,0.5199999999999998,0.5299999999999998,0.5399999999999998,0.5499999999999998,0.5599999999999997,0.5699999999999997,0.5799999999999997,0.5899999999999997,0.5999999999999998,0.6099999999999998,0.6199999999999998,0.6299999999999997,0.6399999999999997,0.6499999999999997,0.6599999999999997,0.6699999999999997,0.6799999999999997,0.6899999999999997,0.6999999999999996,0.7099999999999996,0.7199999999999996,0.7299999999999996,0.7399999999999997,0.7499999999999997,0.7599999999999997,0.7699999999999997,0.7799999999999997,0.7899999999999996,0.7999999999999996,0.8099999999999996,0.8199999999999996,0.8299999999999996,0.8399999999999996,0.8499999999999996,0.8599999999999995,0.8699999999999996,0.8799999999999996,0.8899999999999996,0.8999999999999996,0.9099999999999996,0.9199999999999996,0.9299999999999996,0.9399999999999996,0.9499999999999995,0.9599999999999995,0.9699999999999995,0.9799999999999995,0.9899999999999995],\"xaxis\":\"x\",\"y\":[0.08574725419522176,0.07795204926838342,0.07145604516268479,0.06595942630401673,0.06124803871087272,0.05716483613014784,0.053592033872013584,0.05043956129130693,0.047637363441789884,0.04513013378695884,0.04287362709761088,0.04083202580724846,0.038976024634191725,0.03728141486748772,0.03572802258134241,0.03429890167808871,0.03297971315200838,0.03175824229452659,0.030624019355436363,0.029568018688007507,0.02858241806507392,0.027660404579103796,0.026796016936006806,0.025984016422794482,0.025219780645653472,0.024499215484349076,0.023818681720894946,0.023174933566276153,0.02256506689347942,0.02198647543467225,0.021436813548805455,0.02091396443785898,0.020416012903624232,0.01994122190586553,0.019488012317095862,0.019054945376715954,0.018640707433743863,0.01824409663728123,0.017864011290671212,0.017499439631677917,0.01714945083904436,0.01681318709710231,0.01648985657600419,0.016178727206645618,0.015879121147263295,0.015590409853676686,0.015312009677718182,0.015043377928986273,0.014784009344003759,0.014533432914444375,0.014291209032536964,0.014056926917249477,0.0138302022895519,0.013610675269082823,0.013398008468003406,0.013191885260803352,0.012992008211397241,0.012798097641077878,0.012609890322826736,0.012427138289162577,0.012249607742174543,0.012077078055665044,0.011909340860447473,0.0117461992048249,0.011587466783138076,0.01143296722602957,0.01128253344673971,0.01113600703834049,0.010993237717336126,0.010854082809521746,0.010718406774402727,0.010586080764842194,0.01045698221892949,0.010330994481352029,0.010208006451812116,0.010087912258261387,0.009970610952932765,0.00985600622933584,0.009744006158547935,0.009634522943283347,0.009527472688357977,0.00942277518628811,0.009320353716871933,0.009220134859701268,0.009122048318640615,0.009026026757391769,0.008932005645335606,0.008839923112909463,0.008749719815838958,0.008661338807598161],\"yaxis\":\"y\",\"type\":\"scatter\"},{\"fillpattern\":{\"shape\":\"\"},\"hovertemplate\":\"variable=Capital Cost\\u003cbr\\u003eDiscountRate=0.1\\u003cbr\\u003eTechnology=Coal\\u003cbr\\u003eLoadFactor (%)=%{x}\\u003cbr\\u003eLCOE (\\u20ac\\u002fkW)=%{y}\\u003cextra\\u003e\\u003c\\u002fextra\\u003e\",\"legendgroup\":\"Capital Cost\",\"line\":{\"color\":\"#00cc96\"},\"marker\":{\"symbol\":\"circle\"},\"mode\":\"lines\",\"name\":\"Capital Cost\",\"orientation\":\"v\",\"showlegend\":false,\"stackgroup\":\"1\",\"x\":[0.1,0.11,0.12,0.13,0.13999999999999999,0.14999999999999997,0.15999999999999998,0.16999999999999998,0.17999999999999997,0.18999999999999995,0.19999999999999996,0.20999999999999996,0.21999999999999995,0.22999999999999995,0.23999999999999994,0.24999999999999992,0.2599999999999999,0.2699999999999999,0.2799999999999999,0.2899999999999999,0.29999999999999993,0.30999999999999994,0.3199999999999999,0.32999999999999985,0.33999999999999986,0.34999999999999987,0.3599999999999999,0.3699999999999999,0.3799999999999999,0.3899999999999999,0.3999999999999998,0.4099999999999998,0.4199999999999998,0.4299999999999998,0.43999999999999984,0.44999999999999984,0.45999999999999985,0.46999999999999986,0.47999999999999976,0.48999999999999977,0.4999999999999998,0.5099999999999998,0.5199999999999998,0.5299999999999998,0.5399999999999998,0.5499999999999998,0.5599999999999997,0.5699999999999997,0.5799999999999997,0.5899999999999997,0.5999999999999998,0.6099999999999998,0.6199999999999998,0.6299999999999997,0.6399999999999997,0.6499999999999997,0.6599999999999997,0.6699999999999997,0.6799999999999997,0.6899999999999997,0.6999999999999996,0.7099999999999996,0.7199999999999996,0.7299999999999996,0.7399999999999997,0.7499999999999997,0.7599999999999997,0.7699999999999997,0.7799999999999997,0.7899999999999996,0.7999999999999996,0.8099999999999996,0.8199999999999996,0.8299999999999996,0.8399999999999996,0.8499999999999996,0.8599999999999995,0.8699999999999996,0.8799999999999996,0.8899999999999996,0.8999999999999996,0.9099999999999996,0.9199999999999996,0.9299999999999996,0.9399999999999996,0.9499999999999995,0.9599999999999995,0.9699999999999995,0.9799999999999995,0.9899999999999995],\"xaxis\":\"x2\",\"y\":[0.21521316961373493,0.19564833601248635,0.17934430801144574,0.16554859201056535,0.15372369258123936,0.1434754464091567,0.1345082310085844,0.12659598212572654,0.11956287200763058,0.11327008927038687,0.1076065848068675,0.10248246172082627,0.0978241680062432,0.09357094331031961,0.08967215400572291,0.08608526784549403,0.08277429600528272,0.0797085813384204,0.07686184629061968,0.0742114377978397,0.07173772320457834,0.06942360310120486,0.06725411550429221,0.06521611200416216,0.0632979910628633,0.06148947703249575,0.0597814360038153,0.05816572151722568,0.056635044635193435,0.055182864003521806,0.053803292403433775,0.052491016978959776,0.05124123086041314,0.0500495743287756,0.04891208400312162,0.04782514880305225,0.046785471655159803,0.045790036088028736,0.04483607700286147,0.04392105502321125,0.043042633922747014,0.04219866070857551,0.04138714800264136,0.04060625841768588,0.0398542906692102,0.03912966720249728,0.038430923145309846,0.0377566964234623,0.03710571889891986,0.036476808409107636,0.03586886160228919,0.035280847477661484,0.03471180155060243,0.034160820573608745,0.03362705775214611,0.033109718402113096,0.03260805600208108,0.03212136859906494,0.03164899553143165,0.031190314436773205,0.03074473851624788,0.030311714030103538,0.02989071800190766,0.029481256111470563,0.02908286075861285,0.02869508928183135,0.028317522317596724,0.027949762287498067,0.027591432001760903,0.027242173368827227,0.026901646201716888,0.02656952711280681,0.026245508489479888,0.0259292975438235,0.02562061543020657,0.02531919642514529,0.0250247871643878,0.024737145932613235,0.02445604200156081,0.02418125501277922,0.023912574401526124,0.023649798858652208,0.023392735827579902,0.023141201033734956,0.02289501804401437,0.02265401785407737,0.022418038501430735,0.022186924702446917,0.021960527511605626,0.021738704001387384],\"yaxis\":\"y2\",\"type\":\"scatter\"},{\"fillpattern\":{\"shape\":\"\"},\"hovertemplate\":\"variable=Capital Cost\\u003cbr\\u003eDiscountRate=0.1\\u003cbr\\u003eTechnology=Nuclear\\u003cbr\\u003eLoadFactor (%)=%{x}\\u003cbr\\u003eLCOE (\\u20ac\\u002fkW)=%{y}\\u003cextra\\u003e\\u003c\\u002fextra\\u003e\",\"legendgroup\":\"Capital Cost\",\"line\":{\"color\":\"#00cc96\"},\"marker\":{\"symbol\":\"circle\"},\"mode\":\"lines\",\"name\":\"Capital Cost\",\"orientation\":\"v\",\"showlegend\":false,\"stackgroup\":\"1\",\"x\":[0.1,0.11,0.12,0.13,0.13999999999999999,0.14999999999999997,0.15999999999999998,0.16999999999999998,0.17999999999999997,0.18999999999999995,0.19999999999999996,0.20999999999999996,0.21999999999999995,0.22999999999999995,0.23999999999999994,0.24999999999999992,0.2599999999999999,0.2699999999999999,0.2799999999999999,0.2899999999999999,0.29999999999999993,0.30999999999999994,0.3199999999999999,0.32999999999999985,0.33999999999999986,0.34999999999999987,0.3599999999999999,0.3699999999999999,0.3799999999999999,0.3899999999999999,0.3999999999999998,0.4099999999999998,0.4199999999999998,0.4299999999999998,0.43999999999999984,0.44999999999999984,0.45999999999999985,0.46999999999999986,0.47999999999999976,0.48999999999999977,0.4999999999999998,0.5099999999999998,0.5199999999999998,0.5299999999999998,0.5399999999999998,0.5499999999999998,0.5599999999999997,0.5699999999999997,0.5799999999999997,0.5899999999999997,0.5999999999999998,0.6099999999999998,0.6199999999999998,0.6299999999999997,0.6399999999999997,0.6499999999999997,0.6599999999999997,0.6699999999999997,0.6799999999999997,0.6899999999999997,0.6999999999999996,0.7099999999999996,0.7199999999999996,0.7299999999999996,0.7399999999999997,0.7499999999999997,0.7599999999999997,0.7699999999999997,0.7799999999999997,0.7899999999999996,0.7999999999999996,0.8099999999999996,0.8199999999999996,0.8299999999999996,0.8399999999999996,0.8499999999999996,0.8599999999999995,0.8699999999999996,0.8799999999999996,0.8899999999999996,0.8999999999999996,0.9099999999999996,0.9199999999999996,0.9299999999999996,0.9399999999999996,0.9499999999999995,0.9599999999999995,0.9699999999999995,0.9799999999999995,0.9899999999999995],\"xaxis\":\"x3\",\"y\":[0.4710110867658155,0.4281918970598323,0.39250923897151324,0.36231622058908913,0.33643649054701114,0.3140073911772105,0.29438192922863493,0.27706534515636233,0.2616728259810088,0.24790057198200852,0.2355055433829079,0.22429099369800762,0.21409594852991623,0.20478742902861566,0.19625461948575662,0.18840443470632645,0.18115811029454465,0.1744485506540059,0.1682182452735056,0.16241761612614347,0.15700369558860525,0.15193906024703743,0.1471909646143175,0.1427306323532776,0.1385326725781812,0.13457459621880463,0.13083641299050444,0.12730029372049081,0.12395028599100426,0.12077207352969638,0.11775277169145397,0.11488075286971124,0.11214549684900386,0.10953746203856185,0.10704797426495813,0.10466913039240358,0.10239371451430784,0.10021512484379065,0.09812730974287835,0.0961247115848604,0.09420221735316323,0.09235511505212077,0.09057905514727232,0.0888700163709087,0.08722427532700296,0.08563837941196656,0.08410912263675281,0.08263352399400282,0.08120880806307174,0.07983238758742645,0.07850184779430268,0.07721493225669113,0.07596953012351872,0.07476366456600254,0.07359548230715876,0.07246324411781782,0.0713653161766388,0.07030016220385316,0.0692663362890906,0.0682624763428719,0.06728729810940232,0.0663395896853262,0.06541820649525223,0.06452206668024875,0.06365014686024541,0.06280147823544213,0.06197514299550214,0.06117027100854756,0.0603860367648482,0.059621656552634954,0.058876385845726985,0.05814951688466864,0.05744037643485562,0.056748323706724786,0.05607274842450193,0.055413069031272494,0.05476873101928093,0.05413920537538114,0.053523987132479064,0.052922594018631024,0.05233456519620179,0.051759460084155606,0.05119685725715392,0.05064635341567914,0.050107562421895326,0.04958011439640171,0.049063654871439176,0.048557843996475884,0.0480623557924302,0.04757687745109253],\"yaxis\":\"y3\",\"type\":\"scatter\"},{\"fillpattern\":{\"shape\":\"\"},\"hovertemplate\":\"variable=Capital Cost\\u003cbr\\u003eDiscountRate=0.1\\u003cbr\\u003eTechnology=CSP\\u003cbr\\u003eLoadFactor (%)=%{x}\\u003cbr\\u003eLCOE (\\u20ac\\u002fkW)=%{y}\\u003cextra\\u003e\\u003c\\u002fextra\\u003e\",\"legendgroup\":\"Capital Cost\",\"line\":{\"color\":\"#00cc96\"},\"marker\":{\"symbol\":\"circle\"},\"mode\":\"lines\",\"name\":\"Capital Cost\",\"orientation\":\"v\",\"showlegend\":false,\"stackgroup\":\"1\",\"x\":[0.1,0.11,0.12,0.13,0.13999999999999999,0.14999999999999997,0.15999999999999998,0.16999999999999998,0.17999999999999997,0.18999999999999995,0.19999999999999996,0.20999999999999996,0.21999999999999995,0.22999999999999995,0.23999999999999994,0.24999999999999992,0.2599999999999999,0.2699999999999999,0.2799999999999999,0.2899999999999999,0.29999999999999993,0.30999999999999994,0.3199999999999999,0.32999999999999985,0.33999999999999986,0.34999999999999987,0.3599999999999999,0.3699999999999999,0.3799999999999999,0.3899999999999999,0.3999999999999998,0.4099999999999998,0.4199999999999998,0.4299999999999998,0.43999999999999984,0.44999999999999984,0.45999999999999985,0.46999999999999986,0.47999999999999976,0.48999999999999977,0.4999999999999998,0.5099999999999998,0.5199999999999998,0.5299999999999998,0.5399999999999998,0.5499999999999998,0.5599999999999997,0.5699999999999997,0.5799999999999997,0.5899999999999997,0.5999999999999998,0.6099999999999998,0.6199999999999998,0.6299999999999997,0.6399999999999997,0.6499999999999997,0.6599999999999997,0.6699999999999997,0.6799999999999997,0.6899999999999997,0.6999999999999996,0.7099999999999996,0.7199999999999996,0.7299999999999996,0.7399999999999997,0.7499999999999997,0.7599999999999997,0.7699999999999997,0.7799999999999997,0.7899999999999996,0.7999999999999996,0.8099999999999996,0.8199999999999996,0.8299999999999996,0.8399999999999996,0.8499999999999996,0.8599999999999995,0.8699999999999996,0.8799999999999996,0.8899999999999996,0.8999999999999996,0.9099999999999996,0.9199999999999996,0.9299999999999996,0.9399999999999996,0.9499999999999995,0.9599999999999995,0.9699999999999995,0.9799999999999995,0.9899999999999995],\"xaxis\":\"x4\",\"y\":[0.43273780950521906,0.39339800864110824,0.36061484125434917,0.3328752380809378,0.3090984353608709,0.28849187300347945,0.270461130940762,0.254551652650129,0.2404098941695662,0.22775674184485223,0.21636890475260956,0.20606562357391398,0.1966990043205542,0.18814687369792144,0.1803074206271747,0.17309512380208772,0.16643761904046897,0.16027326277971088,0.15454921768043545,0.14921993431214461,0.14424593650173972,0.13959284177587716,0.13523056547038104,0.1311326695470362,0.12727582632506457,0.12363937414434835,0.12020494708478313,0.11695616473114032,0.11387837092242611,0.11095841269364597,0.10818445237630485,0.10554580719639495,0.10303281178695702,0.10063669988493472,0.09834950216027714,0.0961639576678265,0.09407343684896072,0.0920718743628126,0.09015371031358736,0.08831383867453457,0.08654756190104386,0.08485055088337635,0.08321880952023449,0.08164864330287158,0.08013663138985544,0.07867960172822168,0.07727460884021775,0.0759189139482841,0.07460996715607232,0.0733453914415626,0.0721229682508699,0.07094062450905232,0.0697964208879386,0.06868854119130464,0.06761528273519053,0.06657504761618759,0.0655663347735181,0.06458773276197304,0.06363791316253228,0.06271562456597381,0.06181968707217419,0.06094898725425626,0.060102473542391587,0.059279151987016346,0.05847808236557018,0.057698374600695906,0.056939185461213064,0.05619971552015835,0.05547920634682298,0.05477693791205307,0.054092226188152424,0.05342442092657029,0.052772903598197474,0.05213708548255654,0.05151640589347851,0.050910330530025784,0.05031834994246736,0.049739978104048205,0.04917475108013857,0.04862222578710329,0.04808197883391325,0.047553605440134,0.04703671842448036,0.04653094725862573,0.04603593718140631,0.04555134836897044,0.04507685515679368,0.04461214530981642,0.044156919337267286,0.04371088984901205],\"yaxis\":\"y4\",\"type\":\"scatter\"},{\"fillpattern\":{\"shape\":\"\"},\"hovertemplate\":\"variable=Capital Cost\\u003cbr\\u003eDiscountRate=0.1\\u003cbr\\u003eTechnology=Wind\\u003cbr\\u003eLoadFactor (%)=%{x}\\u003cbr\\u003eLCOE (\\u20ac\\u002fkW)=%{y}\\u003cextra\\u003e\\u003c\\u002fextra\\u003e\",\"legendgroup\":\"Capital Cost\",\"line\":{\"color\":\"#00cc96\"},\"marker\":{\"symbol\":\"circle\"},\"mode\":\"lines\",\"name\":\"Capital Cost\",\"orientation\":\"v\",\"showlegend\":false,\"stackgroup\":\"1\",\"x\":[0.1,0.11,0.12,0.13,0.13999999999999999,0.14999999999999997,0.15999999999999998,0.16999999999999998,0.17999999999999997,0.18999999999999995,0.19999999999999996,0.20999999999999996,0.21999999999999995,0.22999999999999995,0.23999999999999994,0.24999999999999992,0.2599999999999999,0.2699999999999999,0.2799999999999999,0.2899999999999999,0.29999999999999993,0.30999999999999994,0.3199999999999999,0.32999999999999985,0.33999999999999986,0.34999999999999987,0.3599999999999999,0.3699999999999999,0.3799999999999999,0.3899999999999999,0.3999999999999998,0.4099999999999998,0.4199999999999998,0.4299999999999998,0.43999999999999984,0.44999999999999984,0.45999999999999985,0.46999999999999986,0.47999999999999976,0.48999999999999977,0.4999999999999998,0.5099999999999998,0.5199999999999998,0.5299999999999998,0.5399999999999998,0.5499999999999998,0.5599999999999997,0.5699999999999997,0.5799999999999997,0.5899999999999997,0.5999999999999998,0.6099999999999998,0.6199999999999998,0.6299999999999997,0.6399999999999997,0.6499999999999997,0.6599999999999997,0.6699999999999997,0.6799999999999997,0.6899999999999997,0.6999999999999996,0.7099999999999996,0.7199999999999996,0.7299999999999996,0.7399999999999997,0.7499999999999997,0.7599999999999997,0.7699999999999997,0.7799999999999997,0.7899999999999996,0.7999999999999996,0.8099999999999996,0.8199999999999996,0.8299999999999996,0.8399999999999996,0.8499999999999996,0.8599999999999995,0.8699999999999996,0.8799999999999996,0.8899999999999996,0.8999999999999996,0.9099999999999996,0.9199999999999996,0.9299999999999996,0.9399999999999996,0.9499999999999995,0.9599999999999995,0.9699999999999995,0.9799999999999995,0.9899999999999995],\"xaxis\":\"x5\",\"y\":[0.1371956067123548,0.12472327882941346,0.11432967226029567,0.10553508208642674,0.09799686193739626,0.09146373780823656,0.08574725419522176,0.08070329806609104,0.07621978150686377,0.07220821405913413,0.06859780335617743,0.06533124129159752,0.06236163941470675,0.05965026378798036,0.05716483613014785,0.05487824268494192,0.052767541043213406,0.05081318767124254,0.04899843096869813,0.04730882990081202,0.04573186890411828,0.04425664732656607,0.04287362709761089,0.04157442627647116,0.04035164903304554,0.03919874477495853,0.0381098907534319,0.03707989370604186,0.03610410702956707,0.03517836069547559,0.034298901678088724,0.033462343100574346,0.03266562064579877,0.03190595504938486,0.031180819707353376,0.030487912602745523,0.029825131893990182,0.02919055461964996,0.02858241806507393,0.027999103410684668,0.02743912134247096,0.02690109935536369,0.026383770521606703,0.025885963530632997,0.02540659383562127,0.024944655765882708,0.02449921548434908,0.024069404686378044,0.023654414950406016,0.023253492663110994,0.022865934452059145,0.02249108306759915,0.02212832366328304,0.021777080430532527,0.021436813548805445,0.021107016417285365,0.02078721313823558,0.020476956225724607,0.02017582451652277,0.019883421262660128,0.01959937238747927,0.019323324889064075,0.019054945376715954,0.018793918727719842,0.01853994685302093,0.01829274756164732,0.018052053514783534,0.01781761126134479,0.0175891803477378,0.017366532495234795,0.017149450839044362,0.016937729223747512,0.016731171550287173,0.016529591170163237,0.016332810322899384,0.016140659613218228,0.01595297752469243,0.01576960996693734,0.015590409853676691,0.015415236709253355,0.015243956301372766,0.015076440298060975,0.014912565946995093,0.01475221577552203,0.014595277309824982,0.01444164281182683,0.014291209032536965,0.014143876980655144,0.013999551705342334,0.01385814209215706],\"yaxis\":\"y5\",\"type\":\"scatter\"}],                        {\"template\":{\"data\":{\"histogram2dcontour\":[{\"type\":\"histogram2dcontour\",\"colorbar\":{\"outlinewidth\":0,\"ticks\":\"\"},\"colorscale\":[[0.0,\"#0d0887\"],[0.1111111111111111,\"#46039f\"],[0.2222222222222222,\"#7201a8\"],[0.3333333333333333,\"#9c179e\"],[0.4444444444444444,\"#bd3786\"],[0.5555555555555556,\"#d8576b\"],[0.6666666666666666,\"#ed7953\"],[0.7777777777777778,\"#fb9f3a\"],[0.8888888888888888,\"#fdca26\"],[1.0,\"#f0f921\"]]}],\"choropleth\":[{\"type\":\"choropleth\",\"colorbar\":{\"outlinewidth\":0,\"ticks\":\"\"}}],\"histogram2d\":[{\"type\":\"histogram2d\",\"colorbar\":{\"outlinewidth\":0,\"ticks\":\"\"},\"colorscale\":[[0.0,\"#0d0887\"],[0.1111111111111111,\"#46039f\"],[0.2222222222222222,\"#7201a8\"],[0.3333333333333333,\"#9c179e\"],[0.4444444444444444,\"#bd3786\"],[0.5555555555555556,\"#d8576b\"],[0.6666666666666666,\"#ed7953\"],[0.7777777777777778,\"#fb9f3a\"],[0.8888888888888888,\"#fdca26\"],[1.0,\"#f0f921\"]]}],\"heatmap\":[{\"type\":\"heatmap\",\"colorbar\":{\"outlinewidth\":0,\"ticks\":\"\"},\"colorscale\":[[0.0,\"#0d0887\"],[0.1111111111111111,\"#46039f\"],[0.2222222222222222,\"#7201a8\"],[0.3333333333333333,\"#9c179e\"],[0.4444444444444444,\"#bd3786\"],[0.5555555555555556,\"#d8576b\"],[0.6666666666666666,\"#ed7953\"],[0.7777777777777778,\"#fb9f3a\"],[0.8888888888888888,\"#fdca26\"],[1.0,\"#f0f921\"]]}],\"heatmapgl\":[{\"type\":\"heatmapgl\",\"colorbar\":{\"outlinewidth\":0,\"ticks\":\"\"},\"colorscale\":[[0.0,\"#0d0887\"],[0.1111111111111111,\"#46039f\"],[0.2222222222222222,\"#7201a8\"],[0.3333333333333333,\"#9c179e\"],[0.4444444444444444,\"#bd3786\"],[0.5555555555555556,\"#d8576b\"],[0.6666666666666666,\"#ed7953\"],[0.7777777777777778,\"#fb9f3a\"],[0.8888888888888888,\"#fdca26\"],[1.0,\"#f0f921\"]]}],\"contourcarpet\":[{\"type\":\"contourcarpet\",\"colorbar\":{\"outlinewidth\":0,\"ticks\":\"\"}}],\"contour\":[{\"type\":\"contour\",\"colorbar\":{\"outlinewidth\":0,\"ticks\":\"\"},\"colorscale\":[[0.0,\"#0d0887\"],[0.1111111111111111,\"#46039f\"],[0.2222222222222222,\"#7201a8\"],[0.3333333333333333,\"#9c179e\"],[0.4444444444444444,\"#bd3786\"],[0.5555555555555556,\"#d8576b\"],[0.6666666666666666,\"#ed7953\"],[0.7777777777777778,\"#fb9f3a\"],[0.8888888888888888,\"#fdca26\"],[1.0,\"#f0f921\"]]}],\"surface\":[{\"type\":\"surface\",\"colorbar\":{\"outlinewidth\":0,\"ticks\":\"\"},\"colorscale\":[[0.0,\"#0d0887\"],[0.1111111111111111,\"#46039f\"],[0.2222222222222222,\"#7201a8\"],[0.3333333333333333,\"#9c179e\"],[0.4444444444444444,\"#bd3786\"],[0.5555555555555556,\"#d8576b\"],[0.6666666666666666,\"#ed7953\"],[0.7777777777777778,\"#fb9f3a\"],[0.8888888888888888,\"#fdca26\"],[1.0,\"#f0f921\"]]}],\"mesh3d\":[{\"type\":\"mesh3d\",\"colorbar\":{\"outlinewidth\":0,\"ticks\":\"\"}}],\"scatter\":[{\"fillpattern\":{\"fillmode\":\"overlay\",\"size\":10,\"solidity\":0.2},\"type\":\"scatter\"}],\"parcoords\":[{\"type\":\"parcoords\",\"line\":{\"colorbar\":{\"outlinewidth\":0,\"ticks\":\"\"}}}],\"scatterpolargl\":[{\"type\":\"scatterpolargl\",\"marker\":{\"colorbar\":{\"outlinewidth\":0,\"ticks\":\"\"}}}],\"bar\":[{\"error_x\":{\"color\":\"#2a3f5f\"},\"error_y\":{\"color\":\"#2a3f5f\"},\"marker\":{\"line\":{\"color\":\"#E5ECF6\",\"width\":0.5},\"pattern\":{\"fillmode\":\"overlay\",\"size\":10,\"solidity\":0.2}},\"type\":\"bar\"}],\"scattergeo\":[{\"type\":\"scattergeo\",\"marker\":{\"colorbar\":{\"outlinewidth\":0,\"ticks\":\"\"}}}],\"scatterpolar\":[{\"type\":\"scatterpolar\",\"marker\":{\"colorbar\":{\"outlinewidth\":0,\"ticks\":\"\"}}}],\"histogram\":[{\"marker\":{\"pattern\":{\"fillmode\":\"overlay\",\"size\":10,\"solidity\":0.2}},\"type\":\"histogram\"}],\"scattergl\":[{\"type\":\"scattergl\",\"marker\":{\"colorbar\":{\"outlinewidth\":0,\"ticks\":\"\"}}}],\"scatter3d\":[{\"type\":\"scatter3d\",\"line\":{\"colorbar\":{\"outlinewidth\":0,\"ticks\":\"\"}},\"marker\":{\"colorbar\":{\"outlinewidth\":0,\"ticks\":\"\"}}}],\"scattermapbox\":[{\"type\":\"scattermapbox\",\"marker\":{\"colorbar\":{\"outlinewidth\":0,\"ticks\":\"\"}}}],\"scatterternary\":[{\"type\":\"scatterternary\",\"marker\":{\"colorbar\":{\"outlinewidth\":0,\"ticks\":\"\"}}}],\"scattercarpet\":[{\"type\":\"scattercarpet\",\"marker\":{\"colorbar\":{\"outlinewidth\":0,\"ticks\":\"\"}}}],\"carpet\":[{\"aaxis\":{\"endlinecolor\":\"#2a3f5f\",\"gridcolor\":\"white\",\"linecolor\":\"white\",\"minorgridcolor\":\"white\",\"startlinecolor\":\"#2a3f5f\"},\"baxis\":{\"endlinecolor\":\"#2a3f5f\",\"gridcolor\":\"white\",\"linecolor\":\"white\",\"minorgridcolor\":\"white\",\"startlinecolor\":\"#2a3f5f\"},\"type\":\"carpet\"}],\"table\":[{\"cells\":{\"fill\":{\"color\":\"#EBF0F8\"},\"line\":{\"color\":\"white\"}},\"header\":{\"fill\":{\"color\":\"#C8D4E3\"},\"line\":{\"color\":\"white\"}},\"type\":\"table\"}],\"barpolar\":[{\"marker\":{\"line\":{\"color\":\"#E5ECF6\",\"width\":0.5},\"pattern\":{\"fillmode\":\"overlay\",\"size\":10,\"solidity\":0.2}},\"type\":\"barpolar\"}],\"pie\":[{\"automargin\":true,\"type\":\"pie\"}]},\"layout\":{\"autotypenumbers\":\"strict\",\"colorway\":[\"#636efa\",\"#EF553B\",\"#00cc96\",\"#ab63fa\",\"#FFA15A\",\"#19d3f3\",\"#FF6692\",\"#B6E880\",\"#FF97FF\",\"#FECB52\"],\"font\":{\"color\":\"#2a3f5f\"},\"hovermode\":\"closest\",\"hoverlabel\":{\"align\":\"left\"},\"paper_bgcolor\":\"white\",\"plot_bgcolor\":\"#E5ECF6\",\"polar\":{\"bgcolor\":\"#E5ECF6\",\"angularaxis\":{\"gridcolor\":\"white\",\"linecolor\":\"white\",\"ticks\":\"\"},\"radialaxis\":{\"gridcolor\":\"white\",\"linecolor\":\"white\",\"ticks\":\"\"}},\"ternary\":{\"bgcolor\":\"#E5ECF6\",\"aaxis\":{\"gridcolor\":\"white\",\"linecolor\":\"white\",\"ticks\":\"\"},\"baxis\":{\"gridcolor\":\"white\",\"linecolor\":\"white\",\"ticks\":\"\"},\"caxis\":{\"gridcolor\":\"white\",\"linecolor\":\"white\",\"ticks\":\"\"}},\"coloraxis\":{\"colorbar\":{\"outlinewidth\":0,\"ticks\":\"\"}},\"colorscale\":{\"sequential\":[[0.0,\"#0d0887\"],[0.1111111111111111,\"#46039f\"],[0.2222222222222222,\"#7201a8\"],[0.3333333333333333,\"#9c179e\"],[0.4444444444444444,\"#bd3786\"],[0.5555555555555556,\"#d8576b\"],[0.6666666666666666,\"#ed7953\"],[0.7777777777777778,\"#fb9f3a\"],[0.8888888888888888,\"#fdca26\"],[1.0,\"#f0f921\"]],\"sequentialminus\":[[0.0,\"#0d0887\"],[0.1111111111111111,\"#46039f\"],[0.2222222222222222,\"#7201a8\"],[0.3333333333333333,\"#9c179e\"],[0.4444444444444444,\"#bd3786\"],[0.5555555555555556,\"#d8576b\"],[0.6666666666666666,\"#ed7953\"],[0.7777777777777778,\"#fb9f3a\"],[0.8888888888888888,\"#fdca26\"],[1.0,\"#f0f921\"]],\"diverging\":[[0,\"#8e0152\"],[0.1,\"#c51b7d\"],[0.2,\"#de77ae\"],[0.3,\"#f1b6da\"],[0.4,\"#fde0ef\"],[0.5,\"#f7f7f7\"],[0.6,\"#e6f5d0\"],[0.7,\"#b8e186\"],[0.8,\"#7fbc41\"],[0.9,\"#4d9221\"],[1,\"#276419\"]]},\"xaxis\":{\"gridcolor\":\"white\",\"linecolor\":\"white\",\"ticks\":\"\",\"title\":{\"standoff\":15},\"zerolinecolor\":\"white\",\"automargin\":true,\"zerolinewidth\":2},\"yaxis\":{\"gridcolor\":\"white\",\"linecolor\":\"white\",\"ticks\":\"\",\"title\":{\"standoff\":15},\"zerolinecolor\":\"white\",\"automargin\":true,\"zerolinewidth\":2},\"scene\":{\"xaxis\":{\"backgroundcolor\":\"#E5ECF6\",\"gridcolor\":\"white\",\"linecolor\":\"white\",\"showbackground\":true,\"ticks\":\"\",\"zerolinecolor\":\"white\",\"gridwidth\":2},\"yaxis\":{\"backgroundcolor\":\"#E5ECF6\",\"gridcolor\":\"white\",\"linecolor\":\"white\",\"showbackground\":true,\"ticks\":\"\",\"zerolinecolor\":\"white\",\"gridwidth\":2},\"zaxis\":{\"backgroundcolor\":\"#E5ECF6\",\"gridcolor\":\"white\",\"linecolor\":\"white\",\"showbackground\":true,\"ticks\":\"\",\"zerolinecolor\":\"white\",\"gridwidth\":2}},\"shapedefaults\":{\"line\":{\"color\":\"#2a3f5f\"}},\"annotationdefaults\":{\"arrowcolor\":\"#2a3f5f\",\"arrowhead\":0,\"arrowwidth\":1},\"geo\":{\"bgcolor\":\"white\",\"landcolor\":\"#E5ECF6\",\"subunitcolor\":\"white\",\"showland\":true,\"showlakes\":true,\"lakecolor\":\"white\"},\"title\":{\"x\":0.05},\"mapbox\":{\"style\":\"light\"}}},\"xaxis\":{\"anchor\":\"y\",\"domain\":[0.0,0.18000000000000002],\"title\":{\"text\":\"LoadFactor (%)\"}},\"yaxis\":{\"anchor\":\"x\",\"domain\":[0.0,0.485],\"title\":{\"text\":\"LCOE (\\u20ac\\u002fkW)\"}},\"xaxis2\":{\"anchor\":\"y2\",\"domain\":[0.2,0.38],\"matches\":\"x\",\"title\":{\"text\":\"LoadFactor (%)\"}},\"yaxis2\":{\"anchor\":\"x2\",\"domain\":[0.0,0.485],\"matches\":\"y\",\"showticklabels\":false},\"xaxis3\":{\"anchor\":\"y3\",\"domain\":[0.4,0.5800000000000001],\"matches\":\"x\",\"title\":{\"text\":\"LoadFactor (%)\"}},\"yaxis3\":{\"anchor\":\"x3\",\"domain\":[0.0,0.485],\"matches\":\"y\",\"showticklabels\":false},\"xaxis4\":{\"anchor\":\"y4\",\"domain\":[0.6000000000000001,0.7800000000000001],\"matches\":\"x\",\"title\":{\"text\":\"LoadFactor (%)\"}},\"yaxis4\":{\"anchor\":\"x4\",\"domain\":[0.0,0.485],\"matches\":\"y\",\"showticklabels\":false},\"xaxis5\":{\"anchor\":\"y5\",\"domain\":[0.8,0.9800000000000001],\"matches\":\"x\",\"title\":{\"text\":\"LoadFactor (%)\"}},\"yaxis5\":{\"anchor\":\"x5\",\"domain\":[0.0,0.485],\"matches\":\"y\",\"showticklabels\":false},\"xaxis6\":{\"anchor\":\"y6\",\"domain\":[0.0,0.18000000000000002],\"matches\":\"x\",\"showticklabels\":false},\"yaxis6\":{\"anchor\":\"x6\",\"domain\":[0.515,1.0],\"matches\":\"y\",\"title\":{\"text\":\"LCOE (\\u20ac\\u002fkW)\"}},\"xaxis7\":{\"anchor\":\"y7\",\"domain\":[0.2,0.38],\"matches\":\"x\",\"showticklabels\":false},\"yaxis7\":{\"anchor\":\"x7\",\"domain\":[0.515,1.0],\"matches\":\"y\",\"showticklabels\":false},\"xaxis8\":{\"anchor\":\"y8\",\"domain\":[0.4,0.5800000000000001],\"matches\":\"x\",\"showticklabels\":false},\"yaxis8\":{\"anchor\":\"x8\",\"domain\":[0.515,1.0],\"matches\":\"y\",\"showticklabels\":false},\"xaxis9\":{\"anchor\":\"y9\",\"domain\":[0.6000000000000001,0.7800000000000001],\"matches\":\"x\",\"showticklabels\":false},\"yaxis9\":{\"anchor\":\"x9\",\"domain\":[0.515,1.0],\"matches\":\"y\",\"showticklabels\":false},\"xaxis10\":{\"anchor\":\"y10\",\"domain\":[0.8,0.9800000000000001],\"matches\":\"x\",\"showticklabels\":false},\"yaxis10\":{\"anchor\":\"x10\",\"domain\":[0.515,1.0],\"matches\":\"y\",\"showticklabels\":false},\"annotations\":[{\"font\":{},\"showarrow\":false,\"text\":\"Technology=CCGT\",\"x\":0.09000000000000001,\"xanchor\":\"center\",\"xref\":\"paper\",\"y\":1.0,\"yanchor\":\"bottom\",\"yref\":\"paper\"},{\"font\":{},\"showarrow\":false,\"text\":\"Technology=Coal\",\"x\":0.29000000000000004,\"xanchor\":\"center\",\"xref\":\"paper\",\"y\":1.0,\"yanchor\":\"bottom\",\"yref\":\"paper\"},{\"font\":{},\"showarrow\":false,\"text\":\"Technology=Nuclear\",\"x\":0.49000000000000005,\"xanchor\":\"center\",\"xref\":\"paper\",\"y\":1.0,\"yanchor\":\"bottom\",\"yref\":\"paper\"},{\"font\":{},\"showarrow\":false,\"text\":\"Technology=CSP\",\"x\":0.6900000000000002,\"xanchor\":\"center\",\"xref\":\"paper\",\"y\":1.0,\"yanchor\":\"bottom\",\"yref\":\"paper\"},{\"font\":{},\"showarrow\":false,\"text\":\"Technology=Wind\",\"x\":0.8900000000000001,\"xanchor\":\"center\",\"xref\":\"paper\",\"y\":1.0,\"yanchor\":\"bottom\",\"yref\":\"paper\"},{\"font\":{},\"showarrow\":false,\"text\":\"DiscountRate=0.1\",\"textangle\":90,\"x\":0.9800000000000001,\"xanchor\":\"left\",\"xref\":\"paper\",\"y\":0.2425,\"yanchor\":\"middle\",\"yref\":\"paper\"},{\"font\":{},\"showarrow\":false,\"text\":\"DiscountRate=0.05\",\"textangle\":90,\"x\":0.9800000000000001,\"xanchor\":\"left\",\"xref\":\"paper\",\"y\":0.7575000000000001,\"yanchor\":\"middle\",\"yref\":\"paper\"}],\"legend\":{\"title\":{\"text\":\"variable\"},\"tracegroupgap\":0},\"margin\":{\"t\":60}},                        {\"responsive\": true}                    ).then(function(){\n",
              "                            \n",
              "var gd = document.getElementById('1c6a3c7f-9c55-4606-8cb1-16113ae15d9c');\n",
              "var x = new MutationObserver(function (mutations, observer) {{\n",
              "        var display = window.getComputedStyle(gd).display;\n",
              "        if (!display || display === 'none') {{\n",
              "            console.log([gd, 'removed!']);\n",
              "            Plotly.purge(gd);\n",
              "            observer.disconnect();\n",
              "        }}\n",
              "}});\n",
              "\n",
              "// Listen for the removal of the full notebook cells\n",
              "var notebookContainer = gd.closest('#notebook-container');\n",
              "if (notebookContainer) {{\n",
              "    x.observe(notebookContainer, {childList: true});\n",
              "}}\n",
              "\n",
              "// Listen for the clearing of the current output cell\n",
              "var outputEl = gd.closest('.output');\n",
              "if (outputEl) {{\n",
              "    x.observe(outputEl, {childList: true});\n",
              "}}\n",
              "\n",
              "                        })                };                            </script>        </div>\n",
              "</body>\n",
              "</html>"
            ]
          },
          "metadata": {}
        }
      ],
      "source": [
        "df = plotting.melt(id_vars=['Technology', 'LoadFactor', 'DiscountRate'],\n",
        "                   value_vars=['Fixed OM Cost', 'Variable OM Cost', 'Capital Cost'])\n",
        "\n",
        "px.area(df, x='LoadFactor', y='value', color='variable', facet_col='Technology', facet_row='DiscountRate',\n",
        "        labels={'LoadFactor': 'LoadFactor (%)', 'value': 'LCOE (€/kW)'})"
      ]
    },
    {
      "cell_type": "markdown",
      "metadata": {
        "id": "v2KtjqGl92u6"
      },
      "source": [
        "* What can you say about the different costs per technology?\n",
        "* Does the wind technology really have the lowest levelised cost of electricity?\n",
        "* What happens if the cost of natural gas doubles? What happens if coal doubles in price?\n",
        "* What happens if concrete gets cheaper?"
      ]
    },
    {
      "cell_type": "markdown",
      "metadata": {
        "id": "QtiX47yD92u6"
      },
      "source": [
        "That is it for today's lab, we hope you enjoyed it and that you got a good idea of what the LCOE is and how to use it."
      ]
    }
  ],
  "metadata": {
    "interpreter": {
      "hash": "af8ebb4e2d22b06da4313823d442847307ae4d45e401ef0669a9fed88d20d2aa"
    },
    "kernelspec": {
      "display_name": "Python 3 (ipykernel)",
      "language": "python",
      "name": "python3"
    },
    "language_info": {
      "codemirror_mode": {
        "name": "ipython",
        "version": 3
      },
      "file_extension": ".py",
      "mimetype": "text/x-python",
      "name": "python",
      "nbconvert_exporter": "python",
      "pygments_lexer": "ipython3",
      "version": "3.11.5"
    },
    "colab": {
      "provenance": []
    },
    "widgets": {
      "application/vnd.jupyter.widget-state+json": {
        "4a2076ea766d4cdfbd795061625b025d": {
          "model_module": "@jupyter-widgets/controls",
          "model_name": "VBoxModel",
          "model_module_version": "1.5.0",
          "state": {
            "_dom_classes": [
              "widget-interact"
            ],
            "_model_module": "@jupyter-widgets/controls",
            "_model_module_version": "1.5.0",
            "_model_name": "VBoxModel",
            "_view_count": null,
            "_view_module": "@jupyter-widgets/controls",
            "_view_module_version": "1.5.0",
            "_view_name": "VBoxView",
            "box_style": "",
            "children": [
              "IPY_MODEL_3cf905ca7a4a44d8b7d3335d13704258",
              "IPY_MODEL_9e9146cc12d248198805553d9caff17a",
              "IPY_MODEL_f8cee9eb40ef4517a890fbae2a57439f",
              "IPY_MODEL_6f2f8caf4269486eb1d47e1849ee2066",
              "IPY_MODEL_b0ee2b3bf09446d189ced944e53ce475",
              "IPY_MODEL_8887447797894af38e86210d9905efd6",
              "IPY_MODEL_ca20cb5d863f44d5a94b6e2a00075897",
              "IPY_MODEL_0e5bc91f01f54a59829c595e350f3abc",
              "IPY_MODEL_5a88178c4a104afcb50c364d13e4153c",
              "IPY_MODEL_ca858bcbeeea4232a6dffbf788d0b2e1"
            ],
            "layout": "IPY_MODEL_b9acfeca902c4f5e8337bde9f35187a8"
          }
        },
        "3cf905ca7a4a44d8b7d3335d13704258": {
          "model_module": "@jupyter-widgets/controls",
          "model_name": "IntSliderModel",
          "model_module_version": "1.5.0",
          "state": {
            "_dom_classes": [],
            "_model_module": "@jupyter-widgets/controls",
            "_model_module_version": "1.5.0",
            "_model_name": "IntSliderModel",
            "_view_count": null,
            "_view_module": "@jupyter-widgets/controls",
            "_view_module_version": "1.5.0",
            "_view_name": "IntSliderView",
            "continuous_update": true,
            "description": "station_size",
            "description_tooltip": null,
            "disabled": false,
            "layout": "IPY_MODEL_4f4a967bdd404d1d9d80c3f97791c061",
            "max": 750000,
            "min": 100000,
            "orientation": "horizontal",
            "readout": true,
            "readout_format": "d",
            "step": 10000,
            "style": "IPY_MODEL_d6144b234fd74598ac6c8eaef04cbcc3",
            "value": 440000
          }
        },
        "9e9146cc12d248198805553d9caff17a": {
          "model_module": "@jupyter-widgets/controls",
          "model_name": "IntSliderModel",
          "model_module_version": "1.5.0",
          "state": {
            "_dom_classes": [],
            "_model_module": "@jupyter-widgets/controls",
            "_model_module_version": "1.5.0",
            "_model_name": "IntSliderModel",
            "_view_count": null,
            "_view_module": "@jupyter-widgets/controls",
            "_view_module_version": "1.5.0",
            "_view_name": "IntSliderView",
            "continuous_update": true,
            "description": "overnight_cost",
            "description_tooltip": null,
            "disabled": false,
            "layout": "IPY_MODEL_f60f815564a24d9fa1982f2317a22bfd",
            "max": 2000,
            "min": 300,
            "orientation": "horizontal",
            "readout": true,
            "readout_format": "d",
            "step": 1,
            "style": "IPY_MODEL_bf2af2603de548f2a476f6bafeae7003",
            "value": 1114
          }
        },
        "f8cee9eb40ef4517a890fbae2a57439f": {
          "model_module": "@jupyter-widgets/controls",
          "model_name": "FloatSliderModel",
          "model_module_version": "1.5.0",
          "state": {
            "_dom_classes": [],
            "_model_module": "@jupyter-widgets/controls",
            "_model_module_version": "1.5.0",
            "_model_name": "FloatSliderModel",
            "_view_count": null,
            "_view_module": "@jupyter-widgets/controls",
            "_view_module_version": "1.5.0",
            "_view_name": "FloatSliderView",
            "continuous_update": true,
            "description": "fuel_efficiency",
            "description_tooltip": null,
            "disabled": false,
            "layout": "IPY_MODEL_e4b4e228c1e3456d88c748a18798fa05",
            "max": 0.7,
            "min": 0.3,
            "orientation": "horizontal",
            "readout": true,
            "readout_format": ".2f",
            "step": 0.01,
            "style": "IPY_MODEL_ada2af35ecf04044b170d6606bec7ca2",
            "value": 0.49
          }
        },
        "6f2f8caf4269486eb1d47e1849ee2066": {
          "model_module": "@jupyter-widgets/controls",
          "model_name": "FloatSliderModel",
          "model_module_version": "1.5.0",
          "state": {
            "_dom_classes": [],
            "_model_module": "@jupyter-widgets/controls",
            "_model_module_version": "1.5.0",
            "_model_name": "FloatSliderModel",
            "_view_count": null,
            "_view_module": "@jupyter-widgets/controls",
            "_view_module_version": "1.5.0",
            "_view_name": "FloatSliderView",
            "continuous_update": true,
            "description": "fuel_price",
            "description_tooltip": null,
            "disabled": false,
            "layout": "IPY_MODEL_d03268632bcc44a599c74efd2de9bf9f",
            "max": 0.2,
            "min": 0,
            "orientation": "horizontal",
            "readout": true,
            "readout_format": ".2f",
            "step": 0.01,
            "style": "IPY_MODEL_7d86e76f86134ebab89fd15c1b549b30",
            "value": 0.09
          }
        },
        "b0ee2b3bf09446d189ced944e53ce475": {
          "model_module": "@jupyter-widgets/controls",
          "model_name": "FloatSliderModel",
          "model_module_version": "1.5.0",
          "state": {
            "_dom_classes": [],
            "_model_module": "@jupyter-widgets/controls",
            "_model_module_version": "1.5.0",
            "_model_name": "FloatSliderModel",
            "_view_count": null,
            "_view_module": "@jupyter-widgets/controls",
            "_view_module_version": "1.5.0",
            "_view_name": "FloatSliderView",
            "continuous_update": true,
            "description": "fixed_om_cost",
            "description_tooltip": null,
            "disabled": false,
            "layout": "IPY_MODEL_ac8df4181c564e5285edc7df47d55f40",
            "max": 50,
            "min": 1,
            "orientation": "horizontal",
            "readout": true,
            "readout_format": ".2f",
            "step": 0.001,
            "style": "IPY_MODEL_5e21499332744593a2abb650153b3215",
            "value": 23.682
          }
        },
        "8887447797894af38e86210d9905efd6": {
          "model_module": "@jupyter-widgets/controls",
          "model_name": "FloatSliderModel",
          "model_module_version": "1.5.0",
          "state": {
            "_dom_classes": [],
            "_model_module": "@jupyter-widgets/controls",
            "_model_module_version": "1.5.0",
            "_model_name": "FloatSliderModel",
            "_view_count": null,
            "_view_module": "@jupyter-widgets/controls",
            "_view_module_version": "1.5.0",
            "_view_name": "FloatSliderView",
            "continuous_update": true,
            "description": "var_om_cost",
            "description_tooltip": null,
            "disabled": false,
            "layout": "IPY_MODEL_d7051f3ba9cc468d88a776a1bb79a4ce",
            "max": 0.011,
            "min": 0,
            "orientation": "horizontal",
            "readout": true,
            "readout_format": ".2f",
            "step": 0.001,
            "style": "IPY_MODEL_9ed7bfb563164bc1bef66baf54dcc5f2",
            "value": 0.005
          }
        },
        "ca20cb5d863f44d5a94b6e2a00075897": {
          "model_module": "@jupyter-widgets/controls",
          "model_name": "FloatSliderModel",
          "model_module_version": "1.5.0",
          "state": {
            "_dom_classes": [],
            "_model_module": "@jupyter-widgets/controls",
            "_model_module_version": "1.5.0",
            "_model_name": "FloatSliderModel",
            "_view_count": null,
            "_view_module": "@jupyter-widgets/controls",
            "_view_module_version": "1.5.0",
            "_view_name": "FloatSliderView",
            "continuous_update": true,
            "description": "load_factor",
            "description_tooltip": null,
            "disabled": false,
            "layout": "IPY_MODEL_35ac5ed09c2a404a97a427f8d6bd5e3b",
            "max": 1,
            "min": 0.01,
            "orientation": "horizontal",
            "readout": true,
            "readout_format": ".2f",
            "step": 0.01,
            "style": "IPY_MODEL_503b1ad2d55e4e4696231784c2897cc8",
            "value": 0.51
          }
        },
        "0e5bc91f01f54a59829c595e350f3abc": {
          "model_module": "@jupyter-widgets/controls",
          "model_name": "FloatSliderModel",
          "model_module_version": "1.5.0",
          "state": {
            "_dom_classes": [],
            "_model_module": "@jupyter-widgets/controls",
            "_model_module_version": "1.5.0",
            "_model_name": "FloatSliderModel",
            "_view_count": null,
            "_view_module": "@jupyter-widgets/controls",
            "_view_module_version": "1.5.0",
            "_view_name": "FloatSliderView",
            "continuous_update": true,
            "description": "discount_rate",
            "description_tooltip": null,
            "disabled": false,
            "layout": "IPY_MODEL_90fb5d731dfe4f7583499d86b110a4dc",
            "max": 0.3,
            "min": 0.01,
            "orientation": "horizontal",
            "readout": true,
            "readout_format": ".2f",
            "step": 0.01,
            "style": "IPY_MODEL_7408099f4e884968aabe17ecade1fc58",
            "value": 0.16
          }
        },
        "5a88178c4a104afcb50c364d13e4153c": {
          "model_module": "@jupyter-widgets/controls",
          "model_name": "IntSliderModel",
          "model_module_version": "1.5.0",
          "state": {
            "_dom_classes": [],
            "_model_module": "@jupyter-widgets/controls",
            "_model_module_version": "1.5.0",
            "_model_name": "IntSliderModel",
            "_view_count": null,
            "_view_module": "@jupyter-widgets/controls",
            "_view_module_version": "1.5.0",
            "_view_name": "IntSliderView",
            "continuous_update": true,
            "description": "technical_lifetime",
            "description_tooltip": null,
            "disabled": false,
            "layout": "IPY_MODEL_11fb8cb05f00417c97bec911d6952f33",
            "max": 60,
            "min": 10,
            "orientation": "horizontal",
            "readout": true,
            "readout_format": "d",
            "step": 1,
            "style": "IPY_MODEL_40d20c1a656a45c195b51501830c575b",
            "value": 34
          }
        },
        "ca858bcbeeea4232a6dffbf788d0b2e1": {
          "model_module": "@jupyter-widgets/output",
          "model_name": "OutputModel",
          "model_module_version": "1.0.0",
          "state": {
            "_dom_classes": [],
            "_model_module": "@jupyter-widgets/output",
            "_model_module_version": "1.0.0",
            "_model_name": "OutputModel",
            "_view_count": null,
            "_view_module": "@jupyter-widgets/output",
            "_view_module_version": "1.0.0",
            "_view_name": "OutputView",
            "layout": "IPY_MODEL_29a88a0d6c10409f9bf563ba0a35e6d8",
            "msg_id": "",
            "outputs": [
              {
                "output_type": "display_data",
                "data": {
                  "text/plain": "0.22859021892971051"
                },
                "metadata": {}
              }
            ]
          }
        },
        "b9acfeca902c4f5e8337bde9f35187a8": {
          "model_module": "@jupyter-widgets/base",
          "model_name": "LayoutModel",
          "model_module_version": "1.2.0",
          "state": {
            "_model_module": "@jupyter-widgets/base",
            "_model_module_version": "1.2.0",
            "_model_name": "LayoutModel",
            "_view_count": null,
            "_view_module": "@jupyter-widgets/base",
            "_view_module_version": "1.2.0",
            "_view_name": "LayoutView",
            "align_content": null,
            "align_items": null,
            "align_self": null,
            "border": null,
            "bottom": null,
            "display": null,
            "flex": null,
            "flex_flow": null,
            "grid_area": null,
            "grid_auto_columns": null,
            "grid_auto_flow": null,
            "grid_auto_rows": null,
            "grid_column": null,
            "grid_gap": null,
            "grid_row": null,
            "grid_template_areas": null,
            "grid_template_columns": null,
            "grid_template_rows": null,
            "height": null,
            "justify_content": null,
            "justify_items": null,
            "left": null,
            "margin": null,
            "max_height": null,
            "max_width": null,
            "min_height": null,
            "min_width": null,
            "object_fit": null,
            "object_position": null,
            "order": null,
            "overflow": null,
            "overflow_x": null,
            "overflow_y": null,
            "padding": null,
            "right": null,
            "top": null,
            "visibility": null,
            "width": null
          }
        },
        "4f4a967bdd404d1d9d80c3f97791c061": {
          "model_module": "@jupyter-widgets/base",
          "model_name": "LayoutModel",
          "model_module_version": "1.2.0",
          "state": {
            "_model_module": "@jupyter-widgets/base",
            "_model_module_version": "1.2.0",
            "_model_name": "LayoutModel",
            "_view_count": null,
            "_view_module": "@jupyter-widgets/base",
            "_view_module_version": "1.2.0",
            "_view_name": "LayoutView",
            "align_content": null,
            "align_items": null,
            "align_self": null,
            "border": null,
            "bottom": null,
            "display": null,
            "flex": null,
            "flex_flow": null,
            "grid_area": null,
            "grid_auto_columns": null,
            "grid_auto_flow": null,
            "grid_auto_rows": null,
            "grid_column": null,
            "grid_gap": null,
            "grid_row": null,
            "grid_template_areas": null,
            "grid_template_columns": null,
            "grid_template_rows": null,
            "height": null,
            "justify_content": null,
            "justify_items": null,
            "left": null,
            "margin": null,
            "max_height": null,
            "max_width": null,
            "min_height": null,
            "min_width": null,
            "object_fit": null,
            "object_position": null,
            "order": null,
            "overflow": null,
            "overflow_x": null,
            "overflow_y": null,
            "padding": null,
            "right": null,
            "top": null,
            "visibility": null,
            "width": null
          }
        },
        "d6144b234fd74598ac6c8eaef04cbcc3": {
          "model_module": "@jupyter-widgets/controls",
          "model_name": "SliderStyleModel",
          "model_module_version": "1.5.0",
          "state": {
            "_model_module": "@jupyter-widgets/controls",
            "_model_module_version": "1.5.0",
            "_model_name": "SliderStyleModel",
            "_view_count": null,
            "_view_module": "@jupyter-widgets/base",
            "_view_module_version": "1.2.0",
            "_view_name": "StyleView",
            "description_width": "",
            "handle_color": null
          }
        },
        "f60f815564a24d9fa1982f2317a22bfd": {
          "model_module": "@jupyter-widgets/base",
          "model_name": "LayoutModel",
          "model_module_version": "1.2.0",
          "state": {
            "_model_module": "@jupyter-widgets/base",
            "_model_module_version": "1.2.0",
            "_model_name": "LayoutModel",
            "_view_count": null,
            "_view_module": "@jupyter-widgets/base",
            "_view_module_version": "1.2.0",
            "_view_name": "LayoutView",
            "align_content": null,
            "align_items": null,
            "align_self": null,
            "border": null,
            "bottom": null,
            "display": null,
            "flex": null,
            "flex_flow": null,
            "grid_area": null,
            "grid_auto_columns": null,
            "grid_auto_flow": null,
            "grid_auto_rows": null,
            "grid_column": null,
            "grid_gap": null,
            "grid_row": null,
            "grid_template_areas": null,
            "grid_template_columns": null,
            "grid_template_rows": null,
            "height": null,
            "justify_content": null,
            "justify_items": null,
            "left": null,
            "margin": null,
            "max_height": null,
            "max_width": null,
            "min_height": null,
            "min_width": null,
            "object_fit": null,
            "object_position": null,
            "order": null,
            "overflow": null,
            "overflow_x": null,
            "overflow_y": null,
            "padding": null,
            "right": null,
            "top": null,
            "visibility": null,
            "width": null
          }
        },
        "bf2af2603de548f2a476f6bafeae7003": {
          "model_module": "@jupyter-widgets/controls",
          "model_name": "SliderStyleModel",
          "model_module_version": "1.5.0",
          "state": {
            "_model_module": "@jupyter-widgets/controls",
            "_model_module_version": "1.5.0",
            "_model_name": "SliderStyleModel",
            "_view_count": null,
            "_view_module": "@jupyter-widgets/base",
            "_view_module_version": "1.2.0",
            "_view_name": "StyleView",
            "description_width": "",
            "handle_color": null
          }
        },
        "e4b4e228c1e3456d88c748a18798fa05": {
          "model_module": "@jupyter-widgets/base",
          "model_name": "LayoutModel",
          "model_module_version": "1.2.0",
          "state": {
            "_model_module": "@jupyter-widgets/base",
            "_model_module_version": "1.2.0",
            "_model_name": "LayoutModel",
            "_view_count": null,
            "_view_module": "@jupyter-widgets/base",
            "_view_module_version": "1.2.0",
            "_view_name": "LayoutView",
            "align_content": null,
            "align_items": null,
            "align_self": null,
            "border": null,
            "bottom": null,
            "display": null,
            "flex": null,
            "flex_flow": null,
            "grid_area": null,
            "grid_auto_columns": null,
            "grid_auto_flow": null,
            "grid_auto_rows": null,
            "grid_column": null,
            "grid_gap": null,
            "grid_row": null,
            "grid_template_areas": null,
            "grid_template_columns": null,
            "grid_template_rows": null,
            "height": null,
            "justify_content": null,
            "justify_items": null,
            "left": null,
            "margin": null,
            "max_height": null,
            "max_width": null,
            "min_height": null,
            "min_width": null,
            "object_fit": null,
            "object_position": null,
            "order": null,
            "overflow": null,
            "overflow_x": null,
            "overflow_y": null,
            "padding": null,
            "right": null,
            "top": null,
            "visibility": null,
            "width": null
          }
        },
        "ada2af35ecf04044b170d6606bec7ca2": {
          "model_module": "@jupyter-widgets/controls",
          "model_name": "SliderStyleModel",
          "model_module_version": "1.5.0",
          "state": {
            "_model_module": "@jupyter-widgets/controls",
            "_model_module_version": "1.5.0",
            "_model_name": "SliderStyleModel",
            "_view_count": null,
            "_view_module": "@jupyter-widgets/base",
            "_view_module_version": "1.2.0",
            "_view_name": "StyleView",
            "description_width": "",
            "handle_color": null
          }
        },
        "d03268632bcc44a599c74efd2de9bf9f": {
          "model_module": "@jupyter-widgets/base",
          "model_name": "LayoutModel",
          "model_module_version": "1.2.0",
          "state": {
            "_model_module": "@jupyter-widgets/base",
            "_model_module_version": "1.2.0",
            "_model_name": "LayoutModel",
            "_view_count": null,
            "_view_module": "@jupyter-widgets/base",
            "_view_module_version": "1.2.0",
            "_view_name": "LayoutView",
            "align_content": null,
            "align_items": null,
            "align_self": null,
            "border": null,
            "bottom": null,
            "display": null,
            "flex": null,
            "flex_flow": null,
            "grid_area": null,
            "grid_auto_columns": null,
            "grid_auto_flow": null,
            "grid_auto_rows": null,
            "grid_column": null,
            "grid_gap": null,
            "grid_row": null,
            "grid_template_areas": null,
            "grid_template_columns": null,
            "grid_template_rows": null,
            "height": null,
            "justify_content": null,
            "justify_items": null,
            "left": null,
            "margin": null,
            "max_height": null,
            "max_width": null,
            "min_height": null,
            "min_width": null,
            "object_fit": null,
            "object_position": null,
            "order": null,
            "overflow": null,
            "overflow_x": null,
            "overflow_y": null,
            "padding": null,
            "right": null,
            "top": null,
            "visibility": null,
            "width": null
          }
        },
        "7d86e76f86134ebab89fd15c1b549b30": {
          "model_module": "@jupyter-widgets/controls",
          "model_name": "SliderStyleModel",
          "model_module_version": "1.5.0",
          "state": {
            "_model_module": "@jupyter-widgets/controls",
            "_model_module_version": "1.5.0",
            "_model_name": "SliderStyleModel",
            "_view_count": null,
            "_view_module": "@jupyter-widgets/base",
            "_view_module_version": "1.2.0",
            "_view_name": "StyleView",
            "description_width": "",
            "handle_color": null
          }
        },
        "ac8df4181c564e5285edc7df47d55f40": {
          "model_module": "@jupyter-widgets/base",
          "model_name": "LayoutModel",
          "model_module_version": "1.2.0",
          "state": {
            "_model_module": "@jupyter-widgets/base",
            "_model_module_version": "1.2.0",
            "_model_name": "LayoutModel",
            "_view_count": null,
            "_view_module": "@jupyter-widgets/base",
            "_view_module_version": "1.2.0",
            "_view_name": "LayoutView",
            "align_content": null,
            "align_items": null,
            "align_self": null,
            "border": null,
            "bottom": null,
            "display": null,
            "flex": null,
            "flex_flow": null,
            "grid_area": null,
            "grid_auto_columns": null,
            "grid_auto_flow": null,
            "grid_auto_rows": null,
            "grid_column": null,
            "grid_gap": null,
            "grid_row": null,
            "grid_template_areas": null,
            "grid_template_columns": null,
            "grid_template_rows": null,
            "height": null,
            "justify_content": null,
            "justify_items": null,
            "left": null,
            "margin": null,
            "max_height": null,
            "max_width": null,
            "min_height": null,
            "min_width": null,
            "object_fit": null,
            "object_position": null,
            "order": null,
            "overflow": null,
            "overflow_x": null,
            "overflow_y": null,
            "padding": null,
            "right": null,
            "top": null,
            "visibility": null,
            "width": null
          }
        },
        "5e21499332744593a2abb650153b3215": {
          "model_module": "@jupyter-widgets/controls",
          "model_name": "SliderStyleModel",
          "model_module_version": "1.5.0",
          "state": {
            "_model_module": "@jupyter-widgets/controls",
            "_model_module_version": "1.5.0",
            "_model_name": "SliderStyleModel",
            "_view_count": null,
            "_view_module": "@jupyter-widgets/base",
            "_view_module_version": "1.2.0",
            "_view_name": "StyleView",
            "description_width": "",
            "handle_color": null
          }
        },
        "d7051f3ba9cc468d88a776a1bb79a4ce": {
          "model_module": "@jupyter-widgets/base",
          "model_name": "LayoutModel",
          "model_module_version": "1.2.0",
          "state": {
            "_model_module": "@jupyter-widgets/base",
            "_model_module_version": "1.2.0",
            "_model_name": "LayoutModel",
            "_view_count": null,
            "_view_module": "@jupyter-widgets/base",
            "_view_module_version": "1.2.0",
            "_view_name": "LayoutView",
            "align_content": null,
            "align_items": null,
            "align_self": null,
            "border": null,
            "bottom": null,
            "display": null,
            "flex": null,
            "flex_flow": null,
            "grid_area": null,
            "grid_auto_columns": null,
            "grid_auto_flow": null,
            "grid_auto_rows": null,
            "grid_column": null,
            "grid_gap": null,
            "grid_row": null,
            "grid_template_areas": null,
            "grid_template_columns": null,
            "grid_template_rows": null,
            "height": null,
            "justify_content": null,
            "justify_items": null,
            "left": null,
            "margin": null,
            "max_height": null,
            "max_width": null,
            "min_height": null,
            "min_width": null,
            "object_fit": null,
            "object_position": null,
            "order": null,
            "overflow": null,
            "overflow_x": null,
            "overflow_y": null,
            "padding": null,
            "right": null,
            "top": null,
            "visibility": null,
            "width": null
          }
        },
        "9ed7bfb563164bc1bef66baf54dcc5f2": {
          "model_module": "@jupyter-widgets/controls",
          "model_name": "SliderStyleModel",
          "model_module_version": "1.5.0",
          "state": {
            "_model_module": "@jupyter-widgets/controls",
            "_model_module_version": "1.5.0",
            "_model_name": "SliderStyleModel",
            "_view_count": null,
            "_view_module": "@jupyter-widgets/base",
            "_view_module_version": "1.2.0",
            "_view_name": "StyleView",
            "description_width": "",
            "handle_color": null
          }
        },
        "35ac5ed09c2a404a97a427f8d6bd5e3b": {
          "model_module": "@jupyter-widgets/base",
          "model_name": "LayoutModel",
          "model_module_version": "1.2.0",
          "state": {
            "_model_module": "@jupyter-widgets/base",
            "_model_module_version": "1.2.0",
            "_model_name": "LayoutModel",
            "_view_count": null,
            "_view_module": "@jupyter-widgets/base",
            "_view_module_version": "1.2.0",
            "_view_name": "LayoutView",
            "align_content": null,
            "align_items": null,
            "align_self": null,
            "border": null,
            "bottom": null,
            "display": null,
            "flex": null,
            "flex_flow": null,
            "grid_area": null,
            "grid_auto_columns": null,
            "grid_auto_flow": null,
            "grid_auto_rows": null,
            "grid_column": null,
            "grid_gap": null,
            "grid_row": null,
            "grid_template_areas": null,
            "grid_template_columns": null,
            "grid_template_rows": null,
            "height": null,
            "justify_content": null,
            "justify_items": null,
            "left": null,
            "margin": null,
            "max_height": null,
            "max_width": null,
            "min_height": null,
            "min_width": null,
            "object_fit": null,
            "object_position": null,
            "order": null,
            "overflow": null,
            "overflow_x": null,
            "overflow_y": null,
            "padding": null,
            "right": null,
            "top": null,
            "visibility": null,
            "width": null
          }
        },
        "503b1ad2d55e4e4696231784c2897cc8": {
          "model_module": "@jupyter-widgets/controls",
          "model_name": "SliderStyleModel",
          "model_module_version": "1.5.0",
          "state": {
            "_model_module": "@jupyter-widgets/controls",
            "_model_module_version": "1.5.0",
            "_model_name": "SliderStyleModel",
            "_view_count": null,
            "_view_module": "@jupyter-widgets/base",
            "_view_module_version": "1.2.0",
            "_view_name": "StyleView",
            "description_width": "",
            "handle_color": null
          }
        },
        "90fb5d731dfe4f7583499d86b110a4dc": {
          "model_module": "@jupyter-widgets/base",
          "model_name": "LayoutModel",
          "model_module_version": "1.2.0",
          "state": {
            "_model_module": "@jupyter-widgets/base",
            "_model_module_version": "1.2.0",
            "_model_name": "LayoutModel",
            "_view_count": null,
            "_view_module": "@jupyter-widgets/base",
            "_view_module_version": "1.2.0",
            "_view_name": "LayoutView",
            "align_content": null,
            "align_items": null,
            "align_self": null,
            "border": null,
            "bottom": null,
            "display": null,
            "flex": null,
            "flex_flow": null,
            "grid_area": null,
            "grid_auto_columns": null,
            "grid_auto_flow": null,
            "grid_auto_rows": null,
            "grid_column": null,
            "grid_gap": null,
            "grid_row": null,
            "grid_template_areas": null,
            "grid_template_columns": null,
            "grid_template_rows": null,
            "height": null,
            "justify_content": null,
            "justify_items": null,
            "left": null,
            "margin": null,
            "max_height": null,
            "max_width": null,
            "min_height": null,
            "min_width": null,
            "object_fit": null,
            "object_position": null,
            "order": null,
            "overflow": null,
            "overflow_x": null,
            "overflow_y": null,
            "padding": null,
            "right": null,
            "top": null,
            "visibility": null,
            "width": null
          }
        },
        "7408099f4e884968aabe17ecade1fc58": {
          "model_module": "@jupyter-widgets/controls",
          "model_name": "SliderStyleModel",
          "model_module_version": "1.5.0",
          "state": {
            "_model_module": "@jupyter-widgets/controls",
            "_model_module_version": "1.5.0",
            "_model_name": "SliderStyleModel",
            "_view_count": null,
            "_view_module": "@jupyter-widgets/base",
            "_view_module_version": "1.2.0",
            "_view_name": "StyleView",
            "description_width": "",
            "handle_color": null
          }
        },
        "11fb8cb05f00417c97bec911d6952f33": {
          "model_module": "@jupyter-widgets/base",
          "model_name": "LayoutModel",
          "model_module_version": "1.2.0",
          "state": {
            "_model_module": "@jupyter-widgets/base",
            "_model_module_version": "1.2.0",
            "_model_name": "LayoutModel",
            "_view_count": null,
            "_view_module": "@jupyter-widgets/base",
            "_view_module_version": "1.2.0",
            "_view_name": "LayoutView",
            "align_content": null,
            "align_items": null,
            "align_self": null,
            "border": null,
            "bottom": null,
            "display": null,
            "flex": null,
            "flex_flow": null,
            "grid_area": null,
            "grid_auto_columns": null,
            "grid_auto_flow": null,
            "grid_auto_rows": null,
            "grid_column": null,
            "grid_gap": null,
            "grid_row": null,
            "grid_template_areas": null,
            "grid_template_columns": null,
            "grid_template_rows": null,
            "height": null,
            "justify_content": null,
            "justify_items": null,
            "left": null,
            "margin": null,
            "max_height": null,
            "max_width": null,
            "min_height": null,
            "min_width": null,
            "object_fit": null,
            "object_position": null,
            "order": null,
            "overflow": null,
            "overflow_x": null,
            "overflow_y": null,
            "padding": null,
            "right": null,
            "top": null,
            "visibility": null,
            "width": null
          }
        },
        "40d20c1a656a45c195b51501830c575b": {
          "model_module": "@jupyter-widgets/controls",
          "model_name": "SliderStyleModel",
          "model_module_version": "1.5.0",
          "state": {
            "_model_module": "@jupyter-widgets/controls",
            "_model_module_version": "1.5.0",
            "_model_name": "SliderStyleModel",
            "_view_count": null,
            "_view_module": "@jupyter-widgets/base",
            "_view_module_version": "1.2.0",
            "_view_name": "StyleView",
            "description_width": "",
            "handle_color": null
          }
        },
        "29a88a0d6c10409f9bf563ba0a35e6d8": {
          "model_module": "@jupyter-widgets/base",
          "model_name": "LayoutModel",
          "model_module_version": "1.2.0",
          "state": {
            "_model_module": "@jupyter-widgets/base",
            "_model_module_version": "1.2.0",
            "_model_name": "LayoutModel",
            "_view_count": null,
            "_view_module": "@jupyter-widgets/base",
            "_view_module_version": "1.2.0",
            "_view_name": "LayoutView",
            "align_content": null,
            "align_items": null,
            "align_self": null,
            "border": null,
            "bottom": null,
            "display": null,
            "flex": null,
            "flex_flow": null,
            "grid_area": null,
            "grid_auto_columns": null,
            "grid_auto_flow": null,
            "grid_auto_rows": null,
            "grid_column": null,
            "grid_gap": null,
            "grid_row": null,
            "grid_template_areas": null,
            "grid_template_columns": null,
            "grid_template_rows": null,
            "height": null,
            "justify_content": null,
            "justify_items": null,
            "left": null,
            "margin": null,
            "max_height": null,
            "max_width": null,
            "min_height": null,
            "min_width": null,
            "object_fit": null,
            "object_position": null,
            "order": null,
            "overflow": null,
            "overflow_x": null,
            "overflow_y": null,
            "padding": null,
            "right": null,
            "top": null,
            "visibility": null,
            "width": null
          }
        }
      }
    }
  },
  "nbformat": 4,
  "nbformat_minor": 0
}